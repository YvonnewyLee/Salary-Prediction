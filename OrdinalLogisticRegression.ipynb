{
  "cells": [
    {
      "cell_type": "code",
      "execution_count": null,
      "id": "3a6b3fb6",
      "metadata": {
        "id": "3a6b3fb6"
      },
      "outputs": [],
      "source": [
        "import pandas as pd\n",
        "import numpy as np\n",
        "from random import *\n",
        "import seaborn as sns\n",
        "import matplotlib.pyplot as plt\n",
        "%matplotlib inline\n",
        "\n",
        "from sklearn.model_selection import train_test_split, KFold\n",
        "from sklearn.linear_model import LogisticRegression\n",
        "import warnings\n",
        "warnings.filterwarnings(\"ignore\")\n",
        "\n",
        "from sklearn.feature_selection import chi2\n",
        "from sklearn.feature_selection import SelectKBest\n",
        "from sklearn.metrics import accuracy_score"
      ]
    },
    {
      "cell_type": "code",
      "execution_count": null,
      "id": "3e4c20d0",
      "metadata": {
        "id": "3e4c20d0"
      },
      "outputs": [],
      "source": [
        "from google.colab import files\n",
        "files.upload()"
      ]
    },
    {
      "cell_type": "code",
      "execution_count": null,
      "id": "eU5JU8itP0_z",
      "metadata": {
        "colab": {
          "base_uri": "https://localhost:8080/"
        },
        "id": "eU5JU8itP0_z",
        "outputId": "53bba618-b9cf-440d-9f14-5d5489749638"
      },
      "outputs": [
        {
          "data": {
            "text/plain": [
              "(8137, 298)"
            ]
          },
          "execution_count": 3,
          "metadata": {},
          "output_type": "execute_result"
        }
      ],
      "source": [
        "salaries = pd.read_csv(\"./clean_kaggle_data_2022.csv\", low_memory = False, encoding = 'latin2')\n",
        "salaries.shape"
      ]
    },
    {
      "cell_type": "code",
      "execution_count": null,
      "id": "xCQ2E3RY4XZM",
      "metadata": {
        "colab": {
          "base_uri": "https://localhost:8080/",
          "height": 707
        },
        "id": "xCQ2E3RY4XZM",
        "outputId": "924d0ccb-8ecc-4cba-bb5e-38880ca9e79b"
      },
      "outputs": [
        {
          "data": {
            "application/vnd.google.colaboratory.intrinsic+json": {
              "type": "dataframe",
              "variable_name": "salaries"
            },
            "text/html": [
              "\n",
              "  <div id=\"df-554521ba-a9cb-4bde-b93e-1b0ff8b0fccb\" class=\"colab-df-container\">\n",
              "    <div>\n",
              "<style scoped>\n",
              "    .dataframe tbody tr th:only-of-type {\n",
              "        vertical-align: middle;\n",
              "    }\n",
              "\n",
              "    .dataframe tbody tr th {\n",
              "        vertical-align: top;\n",
              "    }\n",
              "\n",
              "    .dataframe thead th {\n",
              "        text-align: right;\n",
              "    }\n",
              "</style>\n",
              "<table border=\"1\" class=\"dataframe\">\n",
              "  <thead>\n",
              "    <tr style=\"text-align: right;\">\n",
              "      <th></th>\n",
              "      <th>Duration (in seconds)</th>\n",
              "      <th>Q2</th>\n",
              "      <th>Q3</th>\n",
              "      <th>Q4</th>\n",
              "      <th>Q5</th>\n",
              "      <th>Q6_1</th>\n",
              "      <th>Q6_2</th>\n",
              "      <th>Q6_3</th>\n",
              "      <th>Q6_4</th>\n",
              "      <th>Q6_5</th>\n",
              "      <th>...</th>\n",
              "      <th>Q44_5</th>\n",
              "      <th>Q44_6</th>\n",
              "      <th>Q44_7</th>\n",
              "      <th>Q44_8</th>\n",
              "      <th>Q44_9</th>\n",
              "      <th>Q44_10</th>\n",
              "      <th>Q44_11</th>\n",
              "      <th>Q44_12</th>\n",
              "      <th>Q29_Encoded</th>\n",
              "      <th>Q29_buckets</th>\n",
              "    </tr>\n",
              "  </thead>\n",
              "  <tbody>\n",
              "    <tr>\n",
              "      <th>0</th>\n",
              "      <td>Duration (in seconds)</td>\n",
              "      <td>What is your age (# years)?</td>\n",
              "      <td>What is your gender? - Selected Choice</td>\n",
              "      <td>In which country do you currently reside?</td>\n",
              "      <td>Are you currently a student? (high school, uni...</td>\n",
              "      <td>On which platforms have you begun or completed...</td>\n",
              "      <td>On which platforms have you begun or completed...</td>\n",
              "      <td>On which platforms have you begun or completed...</td>\n",
              "      <td>On which platforms have you begun or completed...</td>\n",
              "      <td>On which platforms have you begun or completed...</td>\n",
              "      <td>...</td>\n",
              "      <td>Who/what are your favorite media sources that ...</td>\n",
              "      <td>Who/what are your favorite media sources that ...</td>\n",
              "      <td>Who/what are your favorite media sources that ...</td>\n",
              "      <td>Who/what are your favorite media sources that ...</td>\n",
              "      <td>Who/what are your favorite media sources that ...</td>\n",
              "      <td>Who/what are your favorite media sources that ...</td>\n",
              "      <td>Who/what are your favorite media sources that ...</td>\n",
              "      <td>Who/what are your favorite media sources that ...</td>\n",
              "      <td>NaN</td>\n",
              "      <td>NaN</td>\n",
              "    </tr>\n",
              "    <tr>\n",
              "      <th>1</th>\n",
              "      <td>851</td>\n",
              "      <td>55-59</td>\n",
              "      <td>Man</td>\n",
              "      <td>France</td>\n",
              "      <td>No</td>\n",
              "      <td>Coursera</td>\n",
              "      <td>NaN</td>\n",
              "      <td>Kaggle Learn Courses</td>\n",
              "      <td>NaN</td>\n",
              "      <td>NaN</td>\n",
              "      <td>...</td>\n",
              "      <td>Course Forums (forums.fast.ai, Coursera forums...</td>\n",
              "      <td>NaN</td>\n",
              "      <td>NaN</td>\n",
              "      <td>Blogs (Towards Data Science, Analytics Vidhya,...</td>\n",
              "      <td>NaN</td>\n",
              "      <td>NaN</td>\n",
              "      <td>NaN</td>\n",
              "      <td>NaN</td>\n",
              "      <td>2.0</td>\n",
              "      <td>20,000-29,999</td>\n",
              "    </tr>\n",
              "    <tr>\n",
              "      <th>2</th>\n",
              "      <td>501</td>\n",
              "      <td>30-34</td>\n",
              "      <td>Man</td>\n",
              "      <td>Germany</td>\n",
              "      <td>No</td>\n",
              "      <td>Coursera</td>\n",
              "      <td>edX</td>\n",
              "      <td>NaN</td>\n",
              "      <td>NaN</td>\n",
              "      <td>NaN</td>\n",
              "      <td>...</td>\n",
              "      <td>NaN</td>\n",
              "      <td>YouTube (Kaggle YouTube, Cloud AI Adventures, ...</td>\n",
              "      <td>NaN</td>\n",
              "      <td>Blogs (Towards Data Science, Analytics Vidhya,...</td>\n",
              "      <td>NaN</td>\n",
              "      <td>NaN</td>\n",
              "      <td>NaN</td>\n",
              "      <td>NaN</td>\n",
              "      <td>10.0</td>\n",
              "      <td>100,000-124,999</td>\n",
              "    </tr>\n",
              "    <tr>\n",
              "      <th>3</th>\n",
              "      <td>787</td>\n",
              "      <td>70+</td>\n",
              "      <td>Man</td>\n",
              "      <td>Australia</td>\n",
              "      <td>No</td>\n",
              "      <td>Coursera</td>\n",
              "      <td>NaN</td>\n",
              "      <td>Kaggle Learn Courses</td>\n",
              "      <td>NaN</td>\n",
              "      <td>NaN</td>\n",
              "      <td>...</td>\n",
              "      <td>NaN</td>\n",
              "      <td>NaN</td>\n",
              "      <td>Podcasts (Chai Time Data Science, OEEReilly...</td>\n",
              "      <td>NaN</td>\n",
              "      <td>NaN</td>\n",
              "      <td>NaN</td>\n",
              "      <td>NaN</td>\n",
              "      <td>NaN</td>\n",
              "      <td>10.0</td>\n",
              "      <td>100,000-124,999</td>\n",
              "    </tr>\n",
              "    <tr>\n",
              "      <th>4</th>\n",
              "      <td>1132</td>\n",
              "      <td>40-44</td>\n",
              "      <td>Man</td>\n",
              "      <td>United States of America</td>\n",
              "      <td>No</td>\n",
              "      <td>Coursera</td>\n",
              "      <td>NaN</td>\n",
              "      <td>Kaggle Learn Courses</td>\n",
              "      <td>NaN</td>\n",
              "      <td>Fast.ai</td>\n",
              "      <td>...</td>\n",
              "      <td>NaN</td>\n",
              "      <td>NaN</td>\n",
              "      <td>Podcasts (Chai Time Data Science, OEEReilly...</td>\n",
              "      <td>Blogs (Towards Data Science, Analytics Vidhya,...</td>\n",
              "      <td>NaN</td>\n",
              "      <td>NaN</td>\n",
              "      <td>NaN</td>\n",
              "      <td>NaN</td>\n",
              "      <td>13.0</td>\n",
              "      <td>200,000-299,999</td>\n",
              "    </tr>\n",
              "  </tbody>\n",
              "</table>\n",
              "<p>5 rows × 298 columns</p>\n",
              "</div>\n",
              "    <div class=\"colab-df-buttons\">\n",
              "\n",
              "  <div class=\"colab-df-container\">\n",
              "    <button class=\"colab-df-convert\" onclick=\"convertToInteractive('df-554521ba-a9cb-4bde-b93e-1b0ff8b0fccb')\"\n",
              "            title=\"Convert this dataframe to an interactive table.\"\n",
              "            style=\"display:none;\">\n",
              "\n",
              "  <svg xmlns=\"http://www.w3.org/2000/svg\" height=\"24px\" viewBox=\"0 -960 960 960\">\n",
              "    <path d=\"M120-120v-720h720v720H120Zm60-500h600v-160H180v160Zm220 220h160v-160H400v160Zm0 220h160v-160H400v160ZM180-400h160v-160H180v160Zm440 0h160v-160H620v160ZM180-180h160v-160H180v160Zm440 0h160v-160H620v160Z\"/>\n",
              "  </svg>\n",
              "    </button>\n",
              "\n",
              "  <style>\n",
              "    .colab-df-container {\n",
              "      display:flex;\n",
              "      gap: 12px;\n",
              "    }\n",
              "\n",
              "    .colab-df-convert {\n",
              "      background-color: #E8F0FE;\n",
              "      border: none;\n",
              "      border-radius: 50%;\n",
              "      cursor: pointer;\n",
              "      display: none;\n",
              "      fill: #1967D2;\n",
              "      height: 32px;\n",
              "      padding: 0 0 0 0;\n",
              "      width: 32px;\n",
              "    }\n",
              "\n",
              "    .colab-df-convert:hover {\n",
              "      background-color: #E2EBFA;\n",
              "      box-shadow: 0px 1px 2px rgba(60, 64, 67, 0.3), 0px 1px 3px 1px rgba(60, 64, 67, 0.15);\n",
              "      fill: #174EA6;\n",
              "    }\n",
              "\n",
              "    .colab-df-buttons div {\n",
              "      margin-bottom: 4px;\n",
              "    }\n",
              "\n",
              "    [theme=dark] .colab-df-convert {\n",
              "      background-color: #3B4455;\n",
              "      fill: #D2E3FC;\n",
              "    }\n",
              "\n",
              "    [theme=dark] .colab-df-convert:hover {\n",
              "      background-color: #434B5C;\n",
              "      box-shadow: 0px 1px 3px 1px rgba(0, 0, 0, 0.15);\n",
              "      filter: drop-shadow(0px 1px 2px rgba(0, 0, 0, 0.3));\n",
              "      fill: #FFFFFF;\n",
              "    }\n",
              "  </style>\n",
              "\n",
              "    <script>\n",
              "      const buttonEl =\n",
              "        document.querySelector('#df-554521ba-a9cb-4bde-b93e-1b0ff8b0fccb button.colab-df-convert');\n",
              "      buttonEl.style.display =\n",
              "        google.colab.kernel.accessAllowed ? 'block' : 'none';\n",
              "\n",
              "      async function convertToInteractive(key) {\n",
              "        const element = document.querySelector('#df-554521ba-a9cb-4bde-b93e-1b0ff8b0fccb');\n",
              "        const dataTable =\n",
              "          await google.colab.kernel.invokeFunction('convertToInteractive',\n",
              "                                                    [key], {});\n",
              "        if (!dataTable) return;\n",
              "\n",
              "        const docLinkHtml = 'Like what you see? Visit the ' +\n",
              "          '<a target=\"_blank\" href=https://colab.research.google.com/notebooks/data_table.ipynb>data table notebook</a>'\n",
              "          + ' to learn more about interactive tables.';\n",
              "        element.innerHTML = '';\n",
              "        dataTable['output_type'] = 'display_data';\n",
              "        await google.colab.output.renderOutput(dataTable, element);\n",
              "        const docLink = document.createElement('div');\n",
              "        docLink.innerHTML = docLinkHtml;\n",
              "        element.appendChild(docLink);\n",
              "      }\n",
              "    </script>\n",
              "  </div>\n",
              "\n",
              "\n",
              "<div id=\"df-9e38a149-22d1-4d4e-89e8-70f4bd026399\">\n",
              "  <button class=\"colab-df-quickchart\" onclick=\"quickchart('df-9e38a149-22d1-4d4e-89e8-70f4bd026399')\"\n",
              "            title=\"Suggest charts\"\n",
              "            style=\"display:none;\">\n",
              "\n",
              "<svg xmlns=\"http://www.w3.org/2000/svg\" height=\"24px\"viewBox=\"0 0 24 24\"\n",
              "     width=\"24px\">\n",
              "    <g>\n",
              "        <path d=\"M19 3H5c-1.1 0-2 .9-2 2v14c0 1.1.9 2 2 2h14c1.1 0 2-.9 2-2V5c0-1.1-.9-2-2-2zM9 17H7v-7h2v7zm4 0h-2V7h2v10zm4 0h-2v-4h2v4z\"/>\n",
              "    </g>\n",
              "</svg>\n",
              "  </button>\n",
              "\n",
              "<style>\n",
              "  .colab-df-quickchart {\n",
              "      --bg-color: #E8F0FE;\n",
              "      --fill-color: #1967D2;\n",
              "      --hover-bg-color: #E2EBFA;\n",
              "      --hover-fill-color: #174EA6;\n",
              "      --disabled-fill-color: #AAA;\n",
              "      --disabled-bg-color: #DDD;\n",
              "  }\n",
              "\n",
              "  [theme=dark] .colab-df-quickchart {\n",
              "      --bg-color: #3B4455;\n",
              "      --fill-color: #D2E3FC;\n",
              "      --hover-bg-color: #434B5C;\n",
              "      --hover-fill-color: #FFFFFF;\n",
              "      --disabled-bg-color: #3B4455;\n",
              "      --disabled-fill-color: #666;\n",
              "  }\n",
              "\n",
              "  .colab-df-quickchart {\n",
              "    background-color: var(--bg-color);\n",
              "    border: none;\n",
              "    border-radius: 50%;\n",
              "    cursor: pointer;\n",
              "    display: none;\n",
              "    fill: var(--fill-color);\n",
              "    height: 32px;\n",
              "    padding: 0;\n",
              "    width: 32px;\n",
              "  }\n",
              "\n",
              "  .colab-df-quickchart:hover {\n",
              "    background-color: var(--hover-bg-color);\n",
              "    box-shadow: 0 1px 2px rgba(60, 64, 67, 0.3), 0 1px 3px 1px rgba(60, 64, 67, 0.15);\n",
              "    fill: var(--button-hover-fill-color);\n",
              "  }\n",
              "\n",
              "  .colab-df-quickchart-complete:disabled,\n",
              "  .colab-df-quickchart-complete:disabled:hover {\n",
              "    background-color: var(--disabled-bg-color);\n",
              "    fill: var(--disabled-fill-color);\n",
              "    box-shadow: none;\n",
              "  }\n",
              "\n",
              "  .colab-df-spinner {\n",
              "    border: 2px solid var(--fill-color);\n",
              "    border-color: transparent;\n",
              "    border-bottom-color: var(--fill-color);\n",
              "    animation:\n",
              "      spin 1s steps(1) infinite;\n",
              "  }\n",
              "\n",
              "  @keyframes spin {\n",
              "    0% {\n",
              "      border-color: transparent;\n",
              "      border-bottom-color: var(--fill-color);\n",
              "      border-left-color: var(--fill-color);\n",
              "    }\n",
              "    20% {\n",
              "      border-color: transparent;\n",
              "      border-left-color: var(--fill-color);\n",
              "      border-top-color: var(--fill-color);\n",
              "    }\n",
              "    30% {\n",
              "      border-color: transparent;\n",
              "      border-left-color: var(--fill-color);\n",
              "      border-top-color: var(--fill-color);\n",
              "      border-right-color: var(--fill-color);\n",
              "    }\n",
              "    40% {\n",
              "      border-color: transparent;\n",
              "      border-right-color: var(--fill-color);\n",
              "      border-top-color: var(--fill-color);\n",
              "    }\n",
              "    60% {\n",
              "      border-color: transparent;\n",
              "      border-right-color: var(--fill-color);\n",
              "    }\n",
              "    80% {\n",
              "      border-color: transparent;\n",
              "      border-right-color: var(--fill-color);\n",
              "      border-bottom-color: var(--fill-color);\n",
              "    }\n",
              "    90% {\n",
              "      border-color: transparent;\n",
              "      border-bottom-color: var(--fill-color);\n",
              "    }\n",
              "  }\n",
              "</style>\n",
              "\n",
              "  <script>\n",
              "    async function quickchart(key) {\n",
              "      const quickchartButtonEl =\n",
              "        document.querySelector('#' + key + ' button');\n",
              "      quickchartButtonEl.disabled = true;  // To prevent multiple clicks.\n",
              "      quickchartButtonEl.classList.add('colab-df-spinner');\n",
              "      try {\n",
              "        const charts = await google.colab.kernel.invokeFunction(\n",
              "            'suggestCharts', [key], {});\n",
              "      } catch (error) {\n",
              "        console.error('Error during call to suggestCharts:', error);\n",
              "      }\n",
              "      quickchartButtonEl.classList.remove('colab-df-spinner');\n",
              "      quickchartButtonEl.classList.add('colab-df-quickchart-complete');\n",
              "    }\n",
              "    (() => {\n",
              "      let quickchartButtonEl =\n",
              "        document.querySelector('#df-9e38a149-22d1-4d4e-89e8-70f4bd026399 button');\n",
              "      quickchartButtonEl.style.display =\n",
              "        google.colab.kernel.accessAllowed ? 'block' : 'none';\n",
              "    })();\n",
              "  </script>\n",
              "</div>\n",
              "\n",
              "    </div>\n",
              "  </div>\n"
            ],
            "text/plain": [
              "   Duration (in seconds)                           Q2  \\\n",
              "0  Duration (in seconds)  What is your age (# years)?   \n",
              "1                    851                        55-59   \n",
              "2                    501                        30-34   \n",
              "3                    787                          70+   \n",
              "4                   1132                        40-44   \n",
              "\n",
              "                                       Q3  \\\n",
              "0  What is your gender? - Selected Choice   \n",
              "1                                     Man   \n",
              "2                                     Man   \n",
              "3                                     Man   \n",
              "4                                     Man   \n",
              "\n",
              "                                          Q4  \\\n",
              "0  In which country do you currently reside?   \n",
              "1                                     France   \n",
              "2                                    Germany   \n",
              "3                                  Australia   \n",
              "4                   United States of America   \n",
              "\n",
              "                                                  Q5  \\\n",
              "0  Are you currently a student? (high school, uni...   \n",
              "1                                                 No   \n",
              "2                                                 No   \n",
              "3                                                 No   \n",
              "4                                                 No   \n",
              "\n",
              "                                                Q6_1  \\\n",
              "0  On which platforms have you begun or completed...   \n",
              "1                                           Coursera   \n",
              "2                                           Coursera   \n",
              "3                                           Coursera   \n",
              "4                                           Coursera   \n",
              "\n",
              "                                                Q6_2  \\\n",
              "0  On which platforms have you begun or completed...   \n",
              "1                                                NaN   \n",
              "2                                                edX   \n",
              "3                                                NaN   \n",
              "4                                                NaN   \n",
              "\n",
              "                                                Q6_3  \\\n",
              "0  On which platforms have you begun or completed...   \n",
              "1                               Kaggle Learn Courses   \n",
              "2                                                NaN   \n",
              "3                               Kaggle Learn Courses   \n",
              "4                               Kaggle Learn Courses   \n",
              "\n",
              "                                                Q6_4  \\\n",
              "0  On which platforms have you begun or completed...   \n",
              "1                                                NaN   \n",
              "2                                                NaN   \n",
              "3                                                NaN   \n",
              "4                                                NaN   \n",
              "\n",
              "                                                Q6_5  ...  \\\n",
              "0  On which platforms have you begun or completed...  ...   \n",
              "1                                                NaN  ...   \n",
              "2                                                NaN  ...   \n",
              "3                                                NaN  ...   \n",
              "4                                            Fast.ai  ...   \n",
              "\n",
              "                                               Q44_5  \\\n",
              "0  Who/what are your favorite media sources that ...   \n",
              "1  Course Forums (forums.fast.ai, Coursera forums...   \n",
              "2                                                NaN   \n",
              "3                                                NaN   \n",
              "4                                                NaN   \n",
              "\n",
              "                                               Q44_6  \\\n",
              "0  Who/what are your favorite media sources that ...   \n",
              "1                                                NaN   \n",
              "2  YouTube (Kaggle YouTube, Cloud AI Adventures, ...   \n",
              "3                                                NaN   \n",
              "4                                                NaN   \n",
              "\n",
              "                                               Q44_7  \\\n",
              "0  Who/what are your favorite media sources that ...   \n",
              "1                                                NaN   \n",
              "2                                                NaN   \n",
              "3  Podcasts (Chai Time Data Science, OEEReilly...   \n",
              "4  Podcasts (Chai Time Data Science, OEEReilly...   \n",
              "\n",
              "                                               Q44_8  \\\n",
              "0  Who/what are your favorite media sources that ...   \n",
              "1  Blogs (Towards Data Science, Analytics Vidhya,...   \n",
              "2  Blogs (Towards Data Science, Analytics Vidhya,...   \n",
              "3                                                NaN   \n",
              "4  Blogs (Towards Data Science, Analytics Vidhya,...   \n",
              "\n",
              "                                               Q44_9  \\\n",
              "0  Who/what are your favorite media sources that ...   \n",
              "1                                                NaN   \n",
              "2                                                NaN   \n",
              "3                                                NaN   \n",
              "4                                                NaN   \n",
              "\n",
              "                                              Q44_10  \\\n",
              "0  Who/what are your favorite media sources that ...   \n",
              "1                                                NaN   \n",
              "2                                                NaN   \n",
              "3                                                NaN   \n",
              "4                                                NaN   \n",
              "\n",
              "                                              Q44_11  \\\n",
              "0  Who/what are your favorite media sources that ...   \n",
              "1                                                NaN   \n",
              "2                                                NaN   \n",
              "3                                                NaN   \n",
              "4                                                NaN   \n",
              "\n",
              "                                              Q44_12 Q29_Encoded  \\\n",
              "0  Who/what are your favorite media sources that ...         NaN   \n",
              "1                                                NaN         2.0   \n",
              "2                                                NaN        10.0   \n",
              "3                                                NaN        10.0   \n",
              "4                                                NaN        13.0   \n",
              "\n",
              "       Q29_buckets  \n",
              "0              NaN  \n",
              "1    20,000-29,999  \n",
              "2  100,000-124,999  \n",
              "3  100,000-124,999  \n",
              "4  200,000-299,999  \n",
              "\n",
              "[5 rows x 298 columns]"
            ]
          },
          "execution_count": 4,
          "metadata": {},
          "output_type": "execute_result"
        }
      ],
      "source": [
        "salaries.head()"
      ]
    },
    {
      "cell_type": "markdown",
      "id": "m1orhf7n3lHc",
      "metadata": {
        "id": "m1orhf7n3lHc"
      },
      "source": [
        "# Question 1: Data Cleaning"
      ]
    },
    {
      "cell_type": "markdown",
      "id": "O0rkunI2HIPb",
      "metadata": {
        "id": "O0rkunI2HIPb"
      },
      "source": [
        "- Drop the second row since it is about the question details\n",
        "- Drop other columns if they are irrelevant to the task"
      ]
    },
    {
      "cell_type": "code",
      "execution_count": null,
      "id": "Xq_yFQpkQLO8",
      "metadata": {
        "colab": {
          "base_uri": "https://localhost:8080/"
        },
        "id": "Xq_yFQpkQLO8",
        "outputId": "bab18444-1dfc-4395-a597-492218d886b0"
      },
      "outputs": [
        {
          "data": {
            "text/plain": [
              "(8136, 297)"
            ]
          },
          "execution_count": 5,
          "metadata": {},
          "output_type": "execute_result"
        }
      ],
      "source": [
        "def CleanData(df):\n",
        "    # Drop the first row (question details)\n",
        "    df.drop(df.index[0], inplace=True)\n",
        "\n",
        "    # Drop other information too here if they are irrelevant to the task\n",
        "    salaries.drop('Duration (in seconds)', axis = 1, inplace = True)\n",
        "\n",
        "    return df\n",
        "\n",
        "salaries = CleanData(salaries)\n",
        "salaries.shape"
      ]
    },
    {
      "cell_type": "markdown",
      "id": "02aiBHNLCgRr",
      "metadata": {
        "id": "02aiBHNLCgRr"
      },
      "source": [
        "###**Handling categorical features (multi column responses)**"
      ]
    },
    {
      "cell_type": "code",
      "execution_count": null,
      "id": "eWODUK9iCzaR",
      "metadata": {
        "id": "eWODUK9iCzaR"
      },
      "outputs": [],
      "source": [
        "#Identify multi-column responses\n",
        "multi_col_names = []\n",
        "for col in salaries.columns:\n",
        "  if \"_\" in col:\n",
        "    multi_col_names.append(col)\n",
        "\n",
        "multi_col_names.remove(\"Q29_Encoded\")\n",
        "multi_col_names.remove(\"Q29_buckets\")\n",
        "\n",
        "#Address missing values in the multi-column responses and and perform encoding for categorical features\n",
        "for col in multi_col_names:\n",
        "  salaries[col] = salaries[col].fillna(0) #fill nan with 0\n",
        "  salaries[col] = np.where((salaries[col] != 0), 1, salaries[col]) #change string to 1\n",
        "\n",
        "#drop columns with values \"Other\"\n",
        "col_others = [\"Q6_12\", \"Q7_7\", \"Q12_15\", \"Q13_14\", \"Q14_16\", \"Q15_15\", \"Q17_15\",\n",
        "              \"Q18_14\", \"Q19_8\", \"Q20_6\", \"Q21_10\", \"Q28_8\", \"Q31_12\", \"Q33_5\",\n",
        "              \"Q34_8\", \"Q35_16\", \"Q36_15\", \"Q37_13\", \"Q38_8\", \"Q39_12\", \"Q40_15\",\n",
        "              \"Q41_9\", \"Q42_9\", \"Q44_12\"]\n",
        "\n",
        "salaries = salaries.drop(col_others, axis=1)"
      ]
    },
    {
      "cell_type": "code",
      "execution_count": null,
      "id": "ADUOEFwQgdrY",
      "metadata": {
        "colab": {
          "base_uri": "https://localhost:8080/",
          "height": 236
        },
        "id": "ADUOEFwQgdrY",
        "outputId": "752c58d4-cc6d-4e26-b87c-1ceb917f12fb"
      },
      "outputs": [
        {
          "data": {
            "application/vnd.google.colaboratory.intrinsic+json": {
              "type": "dataframe",
              "variable_name": "salaries"
            },
            "text/html": [
              "\n",
              "  <div id=\"df-062f588e-4f37-4422-ae4a-93a7de89ecce\" class=\"colab-df-container\">\n",
              "    <div>\n",
              "<style scoped>\n",
              "    .dataframe tbody tr th:only-of-type {\n",
              "        vertical-align: middle;\n",
              "    }\n",
              "\n",
              "    .dataframe tbody tr th {\n",
              "        vertical-align: top;\n",
              "    }\n",
              "\n",
              "    .dataframe thead th {\n",
              "        text-align: right;\n",
              "    }\n",
              "</style>\n",
              "<table border=\"1\" class=\"dataframe\">\n",
              "  <thead>\n",
              "    <tr style=\"text-align: right;\">\n",
              "      <th></th>\n",
              "      <th>Q2</th>\n",
              "      <th>Q3</th>\n",
              "      <th>Q4</th>\n",
              "      <th>Q5</th>\n",
              "      <th>Q6_1</th>\n",
              "      <th>Q6_2</th>\n",
              "      <th>Q6_3</th>\n",
              "      <th>Q6_4</th>\n",
              "      <th>Q6_5</th>\n",
              "      <th>Q6_6</th>\n",
              "      <th>...</th>\n",
              "      <th>Q44_4</th>\n",
              "      <th>Q44_5</th>\n",
              "      <th>Q44_6</th>\n",
              "      <th>Q44_7</th>\n",
              "      <th>Q44_8</th>\n",
              "      <th>Q44_9</th>\n",
              "      <th>Q44_10</th>\n",
              "      <th>Q44_11</th>\n",
              "      <th>Q29_Encoded</th>\n",
              "      <th>Q29_buckets</th>\n",
              "    </tr>\n",
              "  </thead>\n",
              "  <tbody>\n",
              "    <tr>\n",
              "      <th>1</th>\n",
              "      <td>55-59</td>\n",
              "      <td>Man</td>\n",
              "      <td>France</td>\n",
              "      <td>No</td>\n",
              "      <td>1</td>\n",
              "      <td>0</td>\n",
              "      <td>1</td>\n",
              "      <td>0</td>\n",
              "      <td>0</td>\n",
              "      <td>0</td>\n",
              "      <td>...</td>\n",
              "      <td>1</td>\n",
              "      <td>1</td>\n",
              "      <td>0</td>\n",
              "      <td>0</td>\n",
              "      <td>1</td>\n",
              "      <td>0</td>\n",
              "      <td>0</td>\n",
              "      <td>0</td>\n",
              "      <td>2.0</td>\n",
              "      <td>20,000-29,999</td>\n",
              "    </tr>\n",
              "    <tr>\n",
              "      <th>2</th>\n",
              "      <td>30-34</td>\n",
              "      <td>Man</td>\n",
              "      <td>Germany</td>\n",
              "      <td>No</td>\n",
              "      <td>1</td>\n",
              "      <td>1</td>\n",
              "      <td>0</td>\n",
              "      <td>0</td>\n",
              "      <td>0</td>\n",
              "      <td>1</td>\n",
              "      <td>...</td>\n",
              "      <td>0</td>\n",
              "      <td>0</td>\n",
              "      <td>1</td>\n",
              "      <td>0</td>\n",
              "      <td>1</td>\n",
              "      <td>0</td>\n",
              "      <td>0</td>\n",
              "      <td>0</td>\n",
              "      <td>10.0</td>\n",
              "      <td>100,000-124,999</td>\n",
              "    </tr>\n",
              "    <tr>\n",
              "      <th>3</th>\n",
              "      <td>70+</td>\n",
              "      <td>Man</td>\n",
              "      <td>Australia</td>\n",
              "      <td>No</td>\n",
              "      <td>1</td>\n",
              "      <td>0</td>\n",
              "      <td>1</td>\n",
              "      <td>0</td>\n",
              "      <td>0</td>\n",
              "      <td>0</td>\n",
              "      <td>...</td>\n",
              "      <td>0</td>\n",
              "      <td>0</td>\n",
              "      <td>0</td>\n",
              "      <td>1</td>\n",
              "      <td>0</td>\n",
              "      <td>0</td>\n",
              "      <td>0</td>\n",
              "      <td>0</td>\n",
              "      <td>10.0</td>\n",
              "      <td>100,000-124,999</td>\n",
              "    </tr>\n",
              "    <tr>\n",
              "      <th>4</th>\n",
              "      <td>40-44</td>\n",
              "      <td>Man</td>\n",
              "      <td>United States of America</td>\n",
              "      <td>No</td>\n",
              "      <td>1</td>\n",
              "      <td>0</td>\n",
              "      <td>1</td>\n",
              "      <td>0</td>\n",
              "      <td>1</td>\n",
              "      <td>1</td>\n",
              "      <td>...</td>\n",
              "      <td>0</td>\n",
              "      <td>0</td>\n",
              "      <td>0</td>\n",
              "      <td>1</td>\n",
              "      <td>1</td>\n",
              "      <td>0</td>\n",
              "      <td>0</td>\n",
              "      <td>0</td>\n",
              "      <td>13.0</td>\n",
              "      <td>200,000-299,999</td>\n",
              "    </tr>\n",
              "    <tr>\n",
              "      <th>5</th>\n",
              "      <td>40-44</td>\n",
              "      <td>Man</td>\n",
              "      <td>United States of America</td>\n",
              "      <td>No</td>\n",
              "      <td>1</td>\n",
              "      <td>0</td>\n",
              "      <td>0</td>\n",
              "      <td>0</td>\n",
              "      <td>0</td>\n",
              "      <td>1</td>\n",
              "      <td>...</td>\n",
              "      <td>0</td>\n",
              "      <td>0</td>\n",
              "      <td>0</td>\n",
              "      <td>1</td>\n",
              "      <td>1</td>\n",
              "      <td>1</td>\n",
              "      <td>0</td>\n",
              "      <td>0</td>\n",
              "      <td>13.0</td>\n",
              "      <td>200,000-299,999</td>\n",
              "    </tr>\n",
              "  </tbody>\n",
              "</table>\n",
              "<p>5 rows × 273 columns</p>\n",
              "</div>\n",
              "    <div class=\"colab-df-buttons\">\n",
              "\n",
              "  <div class=\"colab-df-container\">\n",
              "    <button class=\"colab-df-convert\" onclick=\"convertToInteractive('df-062f588e-4f37-4422-ae4a-93a7de89ecce')\"\n",
              "            title=\"Convert this dataframe to an interactive table.\"\n",
              "            style=\"display:none;\">\n",
              "\n",
              "  <svg xmlns=\"http://www.w3.org/2000/svg\" height=\"24px\" viewBox=\"0 -960 960 960\">\n",
              "    <path d=\"M120-120v-720h720v720H120Zm60-500h600v-160H180v160Zm220 220h160v-160H400v160Zm0 220h160v-160H400v160ZM180-400h160v-160H180v160Zm440 0h160v-160H620v160ZM180-180h160v-160H180v160Zm440 0h160v-160H620v160Z\"/>\n",
              "  </svg>\n",
              "    </button>\n",
              "\n",
              "  <style>\n",
              "    .colab-df-container {\n",
              "      display:flex;\n",
              "      gap: 12px;\n",
              "    }\n",
              "\n",
              "    .colab-df-convert {\n",
              "      background-color: #E8F0FE;\n",
              "      border: none;\n",
              "      border-radius: 50%;\n",
              "      cursor: pointer;\n",
              "      display: none;\n",
              "      fill: #1967D2;\n",
              "      height: 32px;\n",
              "      padding: 0 0 0 0;\n",
              "      width: 32px;\n",
              "    }\n",
              "\n",
              "    .colab-df-convert:hover {\n",
              "      background-color: #E2EBFA;\n",
              "      box-shadow: 0px 1px 2px rgba(60, 64, 67, 0.3), 0px 1px 3px 1px rgba(60, 64, 67, 0.15);\n",
              "      fill: #174EA6;\n",
              "    }\n",
              "\n",
              "    .colab-df-buttons div {\n",
              "      margin-bottom: 4px;\n",
              "    }\n",
              "\n",
              "    [theme=dark] .colab-df-convert {\n",
              "      background-color: #3B4455;\n",
              "      fill: #D2E3FC;\n",
              "    }\n",
              "\n",
              "    [theme=dark] .colab-df-convert:hover {\n",
              "      background-color: #434B5C;\n",
              "      box-shadow: 0px 1px 3px 1px rgba(0, 0, 0, 0.15);\n",
              "      filter: drop-shadow(0px 1px 2px rgba(0, 0, 0, 0.3));\n",
              "      fill: #FFFFFF;\n",
              "    }\n",
              "  </style>\n",
              "\n",
              "    <script>\n",
              "      const buttonEl =\n",
              "        document.querySelector('#df-062f588e-4f37-4422-ae4a-93a7de89ecce button.colab-df-convert');\n",
              "      buttonEl.style.display =\n",
              "        google.colab.kernel.accessAllowed ? 'block' : 'none';\n",
              "\n",
              "      async function convertToInteractive(key) {\n",
              "        const element = document.querySelector('#df-062f588e-4f37-4422-ae4a-93a7de89ecce');\n",
              "        const dataTable =\n",
              "          await google.colab.kernel.invokeFunction('convertToInteractive',\n",
              "                                                    [key], {});\n",
              "        if (!dataTable) return;\n",
              "\n",
              "        const docLinkHtml = 'Like what you see? Visit the ' +\n",
              "          '<a target=\"_blank\" href=https://colab.research.google.com/notebooks/data_table.ipynb>data table notebook</a>'\n",
              "          + ' to learn more about interactive tables.';\n",
              "        element.innerHTML = '';\n",
              "        dataTable['output_type'] = 'display_data';\n",
              "        await google.colab.output.renderOutput(dataTable, element);\n",
              "        const docLink = document.createElement('div');\n",
              "        docLink.innerHTML = docLinkHtml;\n",
              "        element.appendChild(docLink);\n",
              "      }\n",
              "    </script>\n",
              "  </div>\n",
              "\n",
              "\n",
              "<div id=\"df-62c8ee73-0d86-4717-8f69-8251690fefb2\">\n",
              "  <button class=\"colab-df-quickchart\" onclick=\"quickchart('df-62c8ee73-0d86-4717-8f69-8251690fefb2')\"\n",
              "            title=\"Suggest charts\"\n",
              "            style=\"display:none;\">\n",
              "\n",
              "<svg xmlns=\"http://www.w3.org/2000/svg\" height=\"24px\"viewBox=\"0 0 24 24\"\n",
              "     width=\"24px\">\n",
              "    <g>\n",
              "        <path d=\"M19 3H5c-1.1 0-2 .9-2 2v14c0 1.1.9 2 2 2h14c1.1 0 2-.9 2-2V5c0-1.1-.9-2-2-2zM9 17H7v-7h2v7zm4 0h-2V7h2v10zm4 0h-2v-4h2v4z\"/>\n",
              "    </g>\n",
              "</svg>\n",
              "  </button>\n",
              "\n",
              "<style>\n",
              "  .colab-df-quickchart {\n",
              "      --bg-color: #E8F0FE;\n",
              "      --fill-color: #1967D2;\n",
              "      --hover-bg-color: #E2EBFA;\n",
              "      --hover-fill-color: #174EA6;\n",
              "      --disabled-fill-color: #AAA;\n",
              "      --disabled-bg-color: #DDD;\n",
              "  }\n",
              "\n",
              "  [theme=dark] .colab-df-quickchart {\n",
              "      --bg-color: #3B4455;\n",
              "      --fill-color: #D2E3FC;\n",
              "      --hover-bg-color: #434B5C;\n",
              "      --hover-fill-color: #FFFFFF;\n",
              "      --disabled-bg-color: #3B4455;\n",
              "      --disabled-fill-color: #666;\n",
              "  }\n",
              "\n",
              "  .colab-df-quickchart {\n",
              "    background-color: var(--bg-color);\n",
              "    border: none;\n",
              "    border-radius: 50%;\n",
              "    cursor: pointer;\n",
              "    display: none;\n",
              "    fill: var(--fill-color);\n",
              "    height: 32px;\n",
              "    padding: 0;\n",
              "    width: 32px;\n",
              "  }\n",
              "\n",
              "  .colab-df-quickchart:hover {\n",
              "    background-color: var(--hover-bg-color);\n",
              "    box-shadow: 0 1px 2px rgba(60, 64, 67, 0.3), 0 1px 3px 1px rgba(60, 64, 67, 0.15);\n",
              "    fill: var(--button-hover-fill-color);\n",
              "  }\n",
              "\n",
              "  .colab-df-quickchart-complete:disabled,\n",
              "  .colab-df-quickchart-complete:disabled:hover {\n",
              "    background-color: var(--disabled-bg-color);\n",
              "    fill: var(--disabled-fill-color);\n",
              "    box-shadow: none;\n",
              "  }\n",
              "\n",
              "  .colab-df-spinner {\n",
              "    border: 2px solid var(--fill-color);\n",
              "    border-color: transparent;\n",
              "    border-bottom-color: var(--fill-color);\n",
              "    animation:\n",
              "      spin 1s steps(1) infinite;\n",
              "  }\n",
              "\n",
              "  @keyframes spin {\n",
              "    0% {\n",
              "      border-color: transparent;\n",
              "      border-bottom-color: var(--fill-color);\n",
              "      border-left-color: var(--fill-color);\n",
              "    }\n",
              "    20% {\n",
              "      border-color: transparent;\n",
              "      border-left-color: var(--fill-color);\n",
              "      border-top-color: var(--fill-color);\n",
              "    }\n",
              "    30% {\n",
              "      border-color: transparent;\n",
              "      border-left-color: var(--fill-color);\n",
              "      border-top-color: var(--fill-color);\n",
              "      border-right-color: var(--fill-color);\n",
              "    }\n",
              "    40% {\n",
              "      border-color: transparent;\n",
              "      border-right-color: var(--fill-color);\n",
              "      border-top-color: var(--fill-color);\n",
              "    }\n",
              "    60% {\n",
              "      border-color: transparent;\n",
              "      border-right-color: var(--fill-color);\n",
              "    }\n",
              "    80% {\n",
              "      border-color: transparent;\n",
              "      border-right-color: var(--fill-color);\n",
              "      border-bottom-color: var(--fill-color);\n",
              "    }\n",
              "    90% {\n",
              "      border-color: transparent;\n",
              "      border-bottom-color: var(--fill-color);\n",
              "    }\n",
              "  }\n",
              "</style>\n",
              "\n",
              "  <script>\n",
              "    async function quickchart(key) {\n",
              "      const quickchartButtonEl =\n",
              "        document.querySelector('#' + key + ' button');\n",
              "      quickchartButtonEl.disabled = true;  // To prevent multiple clicks.\n",
              "      quickchartButtonEl.classList.add('colab-df-spinner');\n",
              "      try {\n",
              "        const charts = await google.colab.kernel.invokeFunction(\n",
              "            'suggestCharts', [key], {});\n",
              "      } catch (error) {\n",
              "        console.error('Error during call to suggestCharts:', error);\n",
              "      }\n",
              "      quickchartButtonEl.classList.remove('colab-df-spinner');\n",
              "      quickchartButtonEl.classList.add('colab-df-quickchart-complete');\n",
              "    }\n",
              "    (() => {\n",
              "      let quickchartButtonEl =\n",
              "        document.querySelector('#df-62c8ee73-0d86-4717-8f69-8251690fefb2 button');\n",
              "      quickchartButtonEl.style.display =\n",
              "        google.colab.kernel.accessAllowed ? 'block' : 'none';\n",
              "    })();\n",
              "  </script>\n",
              "</div>\n",
              "\n",
              "    </div>\n",
              "  </div>\n"
            ],
            "text/plain": [
              "      Q2   Q3                        Q4  Q5 Q6_1 Q6_2 Q6_3 Q6_4 Q6_5 Q6_6  \\\n",
              "1  55-59  Man                    France  No    1    0    1    0    0    0   \n",
              "2  30-34  Man                   Germany  No    1    1    0    0    0    1   \n",
              "3    70+  Man                 Australia  No    1    0    1    0    0    0   \n",
              "4  40-44  Man  United States of America  No    1    0    1    0    1    1   \n",
              "5  40-44  Man  United States of America  No    1    0    0    0    0    1   \n",
              "\n",
              "   ... Q44_4 Q44_5 Q44_6 Q44_7 Q44_8 Q44_9 Q44_10 Q44_11 Q29_Encoded  \\\n",
              "1  ...     1     1     0     0     1     0      0      0         2.0   \n",
              "2  ...     0     0     1     0     1     0      0      0        10.0   \n",
              "3  ...     0     0     0     1     0     0      0      0        10.0   \n",
              "4  ...     0     0     0     1     1     0      0      0        13.0   \n",
              "5  ...     0     0     0     1     1     1      0      0        13.0   \n",
              "\n",
              "       Q29_buckets  \n",
              "1    20,000-29,999  \n",
              "2  100,000-124,999  \n",
              "3  100,000-124,999  \n",
              "4  200,000-299,999  \n",
              "5  200,000-299,999  \n",
              "\n",
              "[5 rows x 273 columns]"
            ]
          },
          "execution_count": 7,
          "metadata": {},
          "output_type": "execute_result"
        }
      ],
      "source": [
        "#current look\n",
        "salaries.head()"
      ]
    },
    {
      "cell_type": "code",
      "execution_count": null,
      "id": "CbpOlwozgtUT",
      "metadata": {
        "colab": {
          "base_uri": "https://localhost:8080/"
        },
        "id": "CbpOlwozgtUT",
        "outputId": "02b3d5c7-e481-48e4-cca7-f799be1ad64a"
      },
      "outputs": [
        {
          "data": {
            "text/plain": [
              "(8136, 273)"
            ]
          },
          "execution_count": 8,
          "metadata": {},
          "output_type": "execute_result"
        }
      ],
      "source": [
        "#current shape\n",
        "salaries.shape"
      ]
    },
    {
      "cell_type": "markdown",
      "id": "QIoEgTyzeM7b",
      "metadata": {
        "id": "QIoEgTyzeM7b"
      },
      "source": [
        "I dropped columns that contain response \"Other\" because they don't provide any information."
      ]
    },
    {
      "cell_type": "markdown",
      "id": "kswVTQwc5xeV",
      "metadata": {
        "id": "kswVTQwc5xeV"
      },
      "source": [
        "###**Impute missing values (single column responses)**\n",
        "\n",
        "1. Identify columns with single column responses\n",
        "\n",
        "2. Address missing values in those columns"
      ]
    },
    {
      "cell_type": "code",
      "execution_count": null,
      "id": "0h7flQpoec-R",
      "metadata": {
        "colab": {
          "base_uri": "https://localhost:8080/"
        },
        "id": "0h7flQpoec-R",
        "outputId": "78d570ba-6a3a-4ced-e902-6b7b2ea710bf"
      },
      "outputs": [
        {
          "name": "stdout",
          "output_type": "stream",
          "text": [
            "Percentage of null values: \n",
            "Q2              0.000000\n",
            "Q3              0.000000\n",
            "Q4              0.000000\n",
            "Q5              0.000000\n",
            "Q8              0.000000\n",
            "Q9             36.147984\n",
            "Q11             0.000000\n",
            "Q16             8.407080\n",
            "Q22            80.162242\n",
            "Q23             0.000000\n",
            "Q24             0.000000\n",
            "Q25             0.000000\n",
            "Q26             0.000000\n",
            "Q27             0.000000\n",
            "Q29             0.000000\n",
            "Q30             0.614553\n",
            "Q32            77.126352\n",
            "Q43            45.759587\n",
            "Q29_Encoded     0.000000\n",
            "dtype: float64\n",
            "Q22 is dropped!\n",
            "Q32 is dropped!\n",
            "Percentage of null values (make sure they are all zeros): \n",
            "Q2             0.0\n",
            "Q3             0.0\n",
            "Q4             0.0\n",
            "Q5             0.0\n",
            "Q8             0.0\n",
            "Q9             0.0\n",
            "Q11            0.0\n",
            "Q16            0.0\n",
            "Q23            0.0\n",
            "Q24            0.0\n",
            "Q25            0.0\n",
            "Q26            0.0\n",
            "Q27            0.0\n",
            "Q29            0.0\n",
            "Q30            0.0\n",
            "Q43            0.0\n",
            "Q29_Encoded    0.0\n",
            "dtype: float64\n"
          ]
        }
      ],
      "source": [
        "def ImputingSingleColMissingValues(df):\n",
        "    # Tips: Include Q29_Encoded (target) in the single_col_names\n",
        "    # so that its row size stays same as other rows after data preprocessing\n",
        "    # extract single column names and store them as a list\n",
        "    single_col_names = []\n",
        "    for col in df.columns:\n",
        "      if \"_\" not in col:\n",
        "        single_col_names.append(col)\n",
        "\n",
        "    single_col_names.append(\"Q29_Encoded\")\n",
        "    print(\"Percentage of null values: \")\n",
        "    print(df[single_col_names].isnull().sum()*100/len(df))\n",
        "\n",
        "\n",
        "    #address missing values in single column responses in df\n",
        "    col_delete = []\n",
        "    for col in single_col_names:\n",
        "      #if too many missing values, then just drop this column\n",
        "      if df[col].isnull().sum()*100/len(df) > 70:\n",
        "        col_delete.append(col)\n",
        "      else:\n",
        "      #fill with unknown to show missingness for now\n",
        "        df[col].fillna(\"unknown\", inplace = True)\n",
        "\n",
        "\n",
        "    #drop columns with too many missing values\n",
        "    for col in col_delete:\n",
        "      df.drop(col, axis = 1, inplace = True)\n",
        "      single_col_names.remove(col)\n",
        "      print(col+\" is dropped!\")\n",
        "\n",
        "    print(\"Percentage of null values (make sure they are all zeros): \")\n",
        "    print(df[single_col_names].isnull().sum()*100/len(df))\n",
        "    assert df[single_col_names].isnull().values.sum() == 0, \\\n",
        "        \"There are still missing values remaining!\"\n",
        "\n",
        "    return df\n",
        "\n",
        "salaries = ImputingSingleColMissingValues(salaries)"
      ]
    },
    {
      "cell_type": "markdown",
      "id": "gQCbETquRbvk",
      "metadata": {
        "id": "gQCbETquRbvk"
      },
      "source": [
        "I first examined their pecentage of missing values. I dropped column 'Q22' and 'Q32' because I think they are irrelavant information to the task and the percentage of missing values is too high (around 80%). For other columns with missing values, I replaced nan with \"unknown\" to show missingness for now. I chose to do this instead of simply removing rows or columns with missing values because I want to preserve the data size and number of features as much as possible so that I have enough data and keep all potentially important features for analysis later."
      ]
    },
    {
      "cell_type": "markdown",
      "id": "_p3uIiOS-nV4",
      "metadata": {
        "id": "_p3uIiOS-nV4"
      },
      "source": [
        "###**Encode categorical features (sinlge column responses)**"
      ]
    },
    {
      "cell_type": "markdown",
      "id": "qyV50LqacyyU",
      "metadata": {
        "id": "qyV50LqacyyU"
      },
      "source": [
        "#### Q2 ####"
      ]
    },
    {
      "cell_type": "markdown",
      "id": "iP7vm3bPYJKI",
      "metadata": {
        "id": "iP7vm3bPYJKI"
      },
      "source": [
        "I used ordinal encoding because age groups have order."
      ]
    },
    {
      "cell_type": "code",
      "execution_count": null,
      "id": "zENlqIX4oOFG",
      "metadata": {
        "colab": {
          "base_uri": "https://localhost:8080/"
        },
        "id": "zENlqIX4oOFG",
        "outputId": "fc2cc649-ca2e-4ad9-a185-e75e62b0b62b"
      },
      "outputs": [
        {
          "data": {
            "text/plain": [
              "25-29    1604\n",
              "30-34    1430\n",
              "35-39    1207\n",
              "40-44    1037\n",
              "22-24     743\n",
              "45-49     701\n",
              "50-54     567\n",
              "55-59     359\n",
              "60-69     341\n",
              "18-21      83\n",
              "70+        64\n",
              "Name: Q2, dtype: int64"
            ]
          },
          "execution_count": 10,
          "metadata": {},
          "output_type": "execute_result"
        }
      ],
      "source": [
        "#check values of Q2\n",
        "salaries['Q2'].value_counts()"
      ]
    },
    {
      "cell_type": "code",
      "execution_count": null,
      "id": "njKbxR1oRdJl",
      "metadata": {
        "id": "njKbxR1oRdJl"
      },
      "outputs": [],
      "source": [
        "#Encode categorical features in the single column responses\n",
        "#Encode Q2\n",
        "#use ordinal encoding\n",
        "Q2_encoding = {\n",
        "    \"18-21\": 0,\n",
        "    \"22-24\": 1,\n",
        "    \"25-29\": 2,\n",
        "    \"30-34\": 3,\n",
        "    \"35-39\": 4,\n",
        "    \"40-44\": 5,\n",
        "    \"45-49\": 6,\n",
        "    \"50-54\": 7,\n",
        "    \"55-59\": 8,\n",
        "    \"60-69\": 9,\n",
        "    \"70+\": 10\n",
        "}\n",
        "salaries['Q2'] = salaries['Q2'].map(Q2_encoding)"
      ]
    },
    {
      "cell_type": "markdown",
      "id": "SBpM8HsKc5P-",
      "metadata": {
        "id": "SBpM8HsKc5P-"
      },
      "source": [
        "#### Q3 ####"
      ]
    },
    {
      "cell_type": "markdown",
      "id": "UzlW0gAaYR7R",
      "metadata": {
        "id": "UzlW0gAaYR7R"
      },
      "source": [
        "I used one-hot encoding and deleted rows with value 'Prefer not to say','Prefer to self-describe' because they dont' provide any information on sex distribution and the number of these type of rows is small. So deleting these rows would not lose many data."
      ]
    },
    {
      "cell_type": "code",
      "execution_count": null,
      "id": "LQlOBTLboUzl",
      "metadata": {
        "colab": {
          "base_uri": "https://localhost:8080/"
        },
        "id": "LQlOBTLboUzl",
        "outputId": "e1a5e9a2-0477-4ff7-f258-5ff8e063faa2"
      },
      "outputs": [
        {
          "data": {
            "text/plain": [
              "Man                        6635\n",
              "Woman                      1382\n",
              "Prefer not to say            89\n",
              "Nonbinary                    22\n",
              "Prefer to self-describe       8\n",
              "Name: Q3, dtype: int64"
            ]
          },
          "execution_count": 12,
          "metadata": {},
          "output_type": "execute_result"
        }
      ],
      "source": [
        "#check values of Q3\n",
        "salaries['Q3'].value_counts()"
      ]
    },
    {
      "cell_type": "code",
      "execution_count": null,
      "id": "j4dGYJL7k80s",
      "metadata": {
        "id": "j4dGYJL7k80s"
      },
      "outputs": [],
      "source": [
        "#Encode Q3\n",
        "#use dummy variables\n",
        "salaries = pd.get_dummies(salaries, columns=['Q3'])\n",
        "#drop 'Prefer not to say' & 'Prefer to self-describe'\n",
        "salaries = salaries.drop(['Q3_Prefer not to say','Q3_Prefer to self-describe'], axis=1)"
      ]
    },
    {
      "cell_type": "markdown",
      "id": "XzON0u5qc9Ny",
      "metadata": {
        "id": "XzON0u5qc9Ny"
      },
      "source": [
        "#### Q4 ####"
      ]
    },
    {
      "cell_type": "markdown",
      "id": "6rb7mz8tYtPc",
      "metadata": {
        "id": "6rb7mz8tYtPc"
      },
      "source": [
        "Since there are too many countries and counts are sparse, one-hot encoding for each country will not be ideal. So I grouped countries based on income groups that are categorized by World Bank (https://datahelpdesk.worldbank.org/knowledgebase/articles/906519-world-bank-country-and-lending-groups)\n",
        "\n",
        "*   Not classified: 0\n",
        "*   Low-income economies: 1\n",
        "*   Lower-Middle income economies: 2\n",
        "*   Upper-Middle income economies: 3\n",
        "*   High-income economies: 4\n"
      ]
    },
    {
      "cell_type": "code",
      "execution_count": null,
      "id": "_b9si7oDj-dm",
      "metadata": {
        "colab": {
          "base_uri": "https://localhost:8080/"
        },
        "id": "_b9si7oDj-dm",
        "outputId": "7262e288-4e1e-4ce2-ade2-30220f0e6dfc"
      },
      "outputs": [
        {
          "data": {
            "text/plain": [
              "India                                                   2328\n",
              "United States of America                                1434\n",
              "Other                                                    511\n",
              "Japan                                                    333\n",
              "Brazil                                                   292\n",
              "Nigeria                                                  159\n",
              "Spain                                                    140\n",
              "United Kingdom of Great Britain and Northern Ireland     139\n",
              "Mexico                                                   139\n",
              "France                                                   137\n",
              "South Korea                                              131\n",
              "Pakistan                                                 131\n",
              "Canada                                                   117\n",
              "Turkey                                                   114\n",
              "Taiwan                                                   110\n",
              "China                                                    108\n",
              "Indonesia                                                106\n",
              "Russia                                                    92\n",
              "Egypt                                                     91\n",
              "Italy                                                     89\n",
              "Colombia                                                  89\n",
              "Poland                                                    74\n",
              "Argentina                                                 74\n",
              "Netherlands                                               72\n",
              "Australia                                                 58\n",
              "Germany                                                   56\n",
              "Viet Nam                                                  55\n",
              "Chile                                                     54\n",
              "United Arab Emirates                                      51\n",
              "Thailand                                                  51\n",
              "Philippines                                               48\n",
              "Bangladesh                                                43\n",
              "Kenya                                                     43\n",
              "Portugal                                                  42\n",
              "Morocco                                                   42\n",
              "Israel                                                    41\n",
              "Peru                                                      40\n",
              "South Africa                                              37\n",
              "Singapore                                                 37\n",
              "Saudi Arabia                                              37\n",
              "Belgium                                                   33\n",
              "Ethiopia                                                  33\n",
              "Ireland                                                   30\n",
              "Iran, Islamic Republic of...                              29\n",
              "Malaysia                                                  28\n",
              "Czech Republic                                            26\n",
              "Hong Kong (S.A.R.)                                        26\n",
              "Ghana                                                     25\n",
              "Sri Lanka                                                 24\n",
              "Romania                                                   22\n",
              "Ukraine                                                   22\n",
              "Tunisia                                                   20\n",
              "Cameroon                                                  15\n",
              "Nepal                                                     13\n",
              "Zimbabwe                                                  13\n",
              "Ecuador                                                   12\n",
              "I do not wish to disclose my location                     12\n",
              "Algeria                                                    8\n",
              "Name: Q4, dtype: int64"
            ]
          },
          "execution_count": 14,
          "metadata": {},
          "output_type": "execute_result"
        }
      ],
      "source": [
        "#check values of Q4\n",
        "salaries['Q4'].value_counts()"
      ]
    },
    {
      "cell_type": "markdown",
      "id": "NluXTa_eQBmP",
      "metadata": {
        "id": "NluXTa_eQBmP"
      },
      "source": [
        "Categorized countries into different income groups based on World Bank definition(https://datahelpdesk.worldbank.org/knowledgebase/articles/906519-world-bank-country-and-lending-groups)\n",
        "\n",
        "*   Not classified: 0\n",
        "*   Low-income economies: 1\n",
        "*   Lower-Middle income economies: 2\n",
        "*   Upper-Middle income economies: 3\n",
        "*   High-income economies: 4\n"
      ]
    },
    {
      "cell_type": "code",
      "execution_count": null,
      "id": "0hfwYHzMnSoW",
      "metadata": {
        "id": "0hfwYHzMnSoW"
      },
      "outputs": [],
      "source": [
        "#Encode Q4\n",
        "Q4_encoding = {\n",
        "    \"India\": 2,\n",
        "    \"United States of America\": 4,\n",
        "    \"Other\": 0,\n",
        "    \"Japan\": 4,\n",
        "    \"Brazil\": 3,\n",
        "    \"Nigeria\": 2,\n",
        "    \"Spain\": 4,\n",
        "    \"United Kingdom of Great Britain and Northern Ireland\": 4,\n",
        "    \"Mexico\": 3,\n",
        "    \"France\": 4,\n",
        "    \"South Korea\": 4,\n",
        "    \"Pakistan\": 2,\n",
        "    \"Canada\": 4,\n",
        "    \"Turkey\": 0,\n",
        "    \"Taiwan\": 4,\n",
        "    \"China\": 3,\n",
        "    \"Indonesia\": 3,\n",
        "    \"Russia\": 3,\n",
        "    \"Egypt\": 2,\n",
        "    \"Italy\": 4,\n",
        "    \"Colombia\": 3,\n",
        "    \"Poland\": 4,\n",
        "    \"Argentina\": 3,\n",
        "    \"Netherlands\": 4,\n",
        "    \"Australia\": 4,\n",
        "    \"Germany\": 4,\n",
        "    \"Viet Nam\": 2,\n",
        "    \"Chile\": 4,\n",
        "    \"United Arab Emirates\": 4,\n",
        "    \"Thailand\": 3,\n",
        "    \"Philippines\": 2,\n",
        "    \"Bangladesh\": 2,\n",
        "    \"Kenya\": 2,\n",
        "    \"Portugal\": 4,\n",
        "    \"Morocco\": 2,\n",
        "    \"Israel\": 4,\n",
        "    \"Peru\": 3,\n",
        "    \"South Africa\": 3,\n",
        "    \"Singapore\": 4,\n",
        "    \"Saudi Arabia\": 4,\n",
        "    \"Belgium\": 4,\n",
        "    \"Ethiopia\": 1,\n",
        "    \"Ireland\": 4,\n",
        "    \"Iran, Islamic Republic of...\": 2,\n",
        "    \"Malaysia\": 3,\n",
        "    \"Czech Republic\": 4,\n",
        "    \"Hong Kong (S.A.R.)\": 4,\n",
        "    \"Ghana\": 2,\n",
        "    \"Sri Lanka\": 2,\n",
        "    \"Romania\": 4,\n",
        "    \"Ukraine\": 2,\n",
        "    \"Tunisia\": 2,\n",
        "    \"Cameroon\": 2,\n",
        "    \"Nepal\": 2,\n",
        "    \"Zimbabwe\": 2,\n",
        "    \"Ecuador\": 3,\n",
        "    \"I do not wish to disclose my location\": 0,\n",
        "    \"Algeria\": 2,\n",
        "}\n",
        "salaries['Q4'] = salaries['Q4'].map(Q4_encoding)"
      ]
    },
    {
      "cell_type": "markdown",
      "id": "SQIv7cYkc_oT",
      "metadata": {
        "id": "SQIv7cYkc_oT"
      },
      "source": [
        "#### Q5 ####"
      ]
    },
    {
      "cell_type": "markdown",
      "id": "5BgP9zj9b7_v",
      "metadata": {
        "id": "5BgP9zj9b7_v"
      },
      "source": [
        "I dropped this column because the whole column only has one value \"No\" at all, which is useless."
      ]
    },
    {
      "cell_type": "code",
      "execution_count": null,
      "id": "LrfCidWP1RRZ",
      "metadata": {
        "colab": {
          "base_uri": "https://localhost:8080/"
        },
        "id": "LrfCidWP1RRZ",
        "outputId": "0b5c03f3-59d6-4af7-950b-22416d074c08"
      },
      "outputs": [
        {
          "data": {
            "text/plain": [
              "No    8136\n",
              "Name: Q5, dtype: int64"
            ]
          },
          "execution_count": 16,
          "metadata": {},
          "output_type": "execute_result"
        }
      ],
      "source": [
        "#check values of Q5\n",
        "salaries['Q5'].value_counts()"
      ]
    },
    {
      "cell_type": "code",
      "execution_count": null,
      "id": "kzRAxZb-1TSI",
      "metadata": {
        "id": "kzRAxZb-1TSI"
      },
      "outputs": [],
      "source": [
        "#drop Q5\n",
        "salaries = salaries.drop(['Q5'], axis=1)"
      ]
    },
    {
      "cell_type": "markdown",
      "id": "ayFWYQTgdA-8",
      "metadata": {
        "id": "ayFWYQTgdA-8"
      },
      "source": [
        "#### Q8 ####"
      ]
    },
    {
      "cell_type": "markdown",
      "id": "qhB75gdzcGQq",
      "metadata": {
        "id": "qhB75gdzcGQq"
      },
      "source": [
        "I used ordinal encoding becasue education level can be ranked. For values with \"I prefer not to answer\" I imputed them with mode because there are a decent number of them and I want to preserve these rows but the origninal answer does not fit into any rank."
      ]
    },
    {
      "cell_type": "code",
      "execution_count": null,
      "id": "9IYrjHnH1y7O",
      "metadata": {
        "colab": {
          "base_uri": "https://localhost:8080/"
        },
        "id": "9IYrjHnH1y7O",
        "outputId": "e6284249-6ec8-4ba8-f8f7-8a0f3d2e2b90"
      },
      "outputs": [
        {
          "data": {
            "text/plain": [
              "MasterEEs degree                                                      3567\n",
              "BachelorEEs degree                                                    2005\n",
              "Doctoral degree                                                          1349\n",
              "I prefer not to answer                                                    426\n",
              "Some college/university study without earning a bachelorEEs degree     304\n",
              "Professional doctorate                                                    279\n",
              "No formal education past high school                                      206\n",
              "Name: Q8, dtype: int64"
            ]
          },
          "execution_count": 18,
          "metadata": {},
          "output_type": "execute_result"
        }
      ],
      "source": [
        "#check values of Q8\n",
        "salaries['Q8'].value_counts()"
      ]
    },
    {
      "cell_type": "code",
      "execution_count": null,
      "id": "wpacgMVE2knZ",
      "metadata": {
        "id": "wpacgMVE2knZ"
      },
      "outputs": [],
      "source": [
        "#Encode Q8\n",
        "#use ordinal encoding\n",
        "Q8_encoding = {\n",
        "    \"No formal education past high school\": 0,\n",
        "    \"Some college/university study without earning a bachelorEEs degree\": 1,\n",
        "    \"BachelorEEs degree\": 2,\n",
        "    \"MasterEEs degree\": 3,\n",
        "    \"Professional doctorate\": 4,\n",
        "    \"Doctoral degree\": 5\n",
        "}\n",
        "salaries['Q8'] = salaries['Q8'].map(Q8_encoding)"
      ]
    },
    {
      "cell_type": "code",
      "execution_count": null,
      "id": "0lrG8GXBksCj",
      "metadata": {
        "id": "0lrG8GXBksCj"
      },
      "outputs": [],
      "source": [
        "#impute mode for \"I prefer not to answer\"\n",
        "salaries['Q8'].fillna(salaries['Q8'].mode().iloc[0], inplace = True)"
      ]
    },
    {
      "cell_type": "markdown",
      "id": "Y8fqghC8dCf5",
      "metadata": {
        "id": "Y8fqghC8dCf5"
      },
      "source": [
        "#### Q9 ####"
      ]
    },
    {
      "cell_type": "markdown",
      "id": "pFUW4R--cgEF",
      "metadata": {
        "id": "pFUW4R--cgEF"
      },
      "source": [
        "I dropped this column because over 1/3 of them has unknown values and 1/3 is \"Yes\" while 1/3 is \"No\" and using mode imputation will create a huge bias."
      ]
    },
    {
      "cell_type": "code",
      "execution_count": null,
      "id": "ju05PErB5b4g",
      "metadata": {
        "colab": {
          "base_uri": "https://localhost:8080/"
        },
        "id": "ju05PErB5b4g",
        "outputId": "81011284-9d5a-45c3-b1a2-771025f50efd"
      },
      "outputs": [
        {
          "data": {
            "text/plain": [
              "unknown    2941\n",
              "Yes        2672\n",
              "No         2523\n",
              "Name: Q9, dtype: int64"
            ]
          },
          "execution_count": 21,
          "metadata": {},
          "output_type": "execute_result"
        }
      ],
      "source": [
        "#check values of Q9\n",
        "salaries['Q9'].value_counts()"
      ]
    },
    {
      "cell_type": "code",
      "execution_count": null,
      "id": "Jb8CUCVU6cYc",
      "metadata": {
        "id": "Jb8CUCVU6cYc"
      },
      "outputs": [],
      "source": [
        "#drop Q9\n",
        "salaries = salaries.drop(['Q9'], axis=1)"
      ]
    },
    {
      "cell_type": "markdown",
      "id": "reUtrhNBdD5S",
      "metadata": {
        "id": "reUtrhNBdD5S"
      },
      "source": [
        "#### Q11 ####"
      ]
    },
    {
      "cell_type": "markdown",
      "id": "0GA508skc6Dj",
      "metadata": {
        "id": "0GA508skc6Dj"
      },
      "source": [
        "I used ordinal encoding because years of experience can be ranked."
      ]
    },
    {
      "cell_type": "code",
      "execution_count": null,
      "id": "IS03BZX_7l00",
      "metadata": {
        "colab": {
          "base_uri": "https://localhost:8080/"
        },
        "id": "IS03BZX_7l00",
        "outputId": "f448e12c-980e-46f1-d952-f74440b5159c"
      },
      "outputs": [
        {
          "data": {
            "text/plain": [
              "1-3 years                    1468\n",
              "5-10 years                   1394\n",
              "3-5 years                    1243\n",
              "10-20 years                  1155\n",
              "< 1 years                    1148\n",
              "20+ years                    1044\n",
              "I have never written code     684\n",
              "Name: Q11, dtype: int64"
            ]
          },
          "execution_count": 23,
          "metadata": {},
          "output_type": "execute_result"
        }
      ],
      "source": [
        "#check values of Q11\n",
        "salaries['Q11'].value_counts()"
      ]
    },
    {
      "cell_type": "code",
      "execution_count": null,
      "id": "t1nnBOag8O-n",
      "metadata": {
        "id": "t1nnBOag8O-n"
      },
      "outputs": [],
      "source": [
        "#Encode Q11\n",
        "#use ordinal encoding\n",
        "Q11_encoding = {\n",
        "    \"I have never written code\": 0,\n",
        "    \"< 1 years\": 1,\n",
        "    \"1-3 years\": 2,\n",
        "    \"3-5 years\": 3,\n",
        "    \"5-10 years\": 4,\n",
        "    \"10-20 years\": 5,\n",
        "    \"20+ years\": 6,\n",
        "}\n",
        "salaries['Q11'] = salaries['Q11'].map(Q11_encoding)"
      ]
    },
    {
      "cell_type": "markdown",
      "id": "fNADY06wdE7-",
      "metadata": {
        "id": "fNADY06wdE7-"
      },
      "source": [
        "#### Q16 ####"
      ]
    },
    {
      "cell_type": "markdown",
      "id": "YA3w_UdVdGoy",
      "metadata": {
        "id": "YA3w_UdVdGoy"
      },
      "source": [
        "I used ordinal encoding because years of experience can be ranked. I use mode to impute unknown values because deleting these rows will lose a lot of data."
      ]
    },
    {
      "cell_type": "code",
      "execution_count": null,
      "id": "8xNFntt28wZh",
      "metadata": {
        "colab": {
          "base_uri": "https://localhost:8080/"
        },
        "id": "8xNFntt28wZh",
        "outputId": "ecd5e776-1d20-46ab-812e-b62b15092e0e"
      },
      "outputs": [
        {
          "data": {
            "text/plain": [
              "Under 1 year                             1724\n",
              "1-2 years                                1266\n",
              "I do not use machine learning methods    1107\n",
              "2-3 years                                 955\n",
              "5-10 years                                808\n",
              "unknown                                   684\n",
              "4-5 years                                 635\n",
              "3-4 years                                 591\n",
              "10-20 years                               366\n",
              "Name: Q16, dtype: int64"
            ]
          },
          "execution_count": 25,
          "metadata": {},
          "output_type": "execute_result"
        }
      ],
      "source": [
        "#check values of Q16\n",
        "salaries['Q16'].value_counts()"
      ]
    },
    {
      "cell_type": "code",
      "execution_count": null,
      "id": "bjDdbasz83_v",
      "metadata": {
        "id": "bjDdbasz83_v"
      },
      "outputs": [],
      "source": [
        "#Encode Q16\n",
        "#use ordinal encoding\n",
        "Q16_encoding = {\n",
        "    \"I do not use machine learning methods\": 0,\n",
        "    \"Under 1 year\": 1,\n",
        "    \"1-2 years\": 2,\n",
        "    \"2-3 years\": 3,\n",
        "    \"3-4 years\": 4,\n",
        "    \"4-5 years\": 5,\n",
        "    \"5-10 years\": 6,\n",
        "    \"10-20 years\": 7\n",
        "}\n",
        "salaries['Q16'] = salaries['Q16'].map(Q16_encoding)"
      ]
    },
    {
      "cell_type": "code",
      "execution_count": null,
      "id": "VlqKT9kmmhvj",
      "metadata": {
        "id": "VlqKT9kmmhvj"
      },
      "outputs": [],
      "source": [
        "#impute mode for \"unknown\"\n",
        "salaries['Q16'].fillna(salaries['Q16'].mode().iloc[0], inplace = True)"
      ]
    },
    {
      "cell_type": "markdown",
      "id": "SdMggZZ7dGqK",
      "metadata": {
        "id": "SdMggZZ7dGqK"
      },
      "source": [
        "#### Q23 ####"
      ]
    },
    {
      "cell_type": "markdown",
      "id": "XSbByvUTeT2L",
      "metadata": {
        "id": "XSbByvUTeT2L"
      },
      "source": [
        "I used one-hot encoding because these categories don't have ranking. Then I dropped the column 'Q23_Other' because it doesn't provide any useful information."
      ]
    },
    {
      "cell_type": "code",
      "execution_count": null,
      "id": "pVzPtxypcY-o",
      "metadata": {
        "colab": {
          "base_uri": "https://localhost:8080/"
        },
        "id": "pVzPtxypcY-o",
        "outputId": "8c0e0b7a-5705-446d-b3e9-c8741ffa6969"
      },
      "outputs": [
        {
          "data": {
            "text/plain": [
              "Data Scientist                                                      1708\n",
              "Data Analyst (Business, Marketing, Financial, Quantitative, etc)    1353\n",
              "Software Engineer                                                    859\n",
              "Teacher / professor                                                  746\n",
              "Manager (Program, Project, Operations, Executive-level, etc)         746\n",
              "Other                                                                682\n",
              "Research Scientist                                                   525\n",
              "Machine Learning/ MLops Engineer                                     506\n",
              "Engineer (non-software)                                              413\n",
              "Data Engineer                                                        287\n",
              "Statistician                                                         108\n",
              "Data Architect                                                        82\n",
              "Data Administrator                                                    67\n",
              "Developer Advocate                                                    54\n",
              "Name: Q23, dtype: int64"
            ]
          },
          "execution_count": 28,
          "metadata": {},
          "output_type": "execute_result"
        }
      ],
      "source": [
        "#check values of Q23\n",
        "salaries['Q23'].value_counts()"
      ]
    },
    {
      "cell_type": "code",
      "execution_count": null,
      "id": "9X4Bs2wGdwgX",
      "metadata": {
        "id": "9X4Bs2wGdwgX"
      },
      "outputs": [],
      "source": [
        "#Encode Q23\n",
        "#use dummy variables\n",
        "salaries = pd.get_dummies(salaries, columns=['Q23'])\n",
        "#drop Other\n",
        "salaries = salaries.drop(['Q23_Other'], axis=1)"
      ]
    },
    {
      "cell_type": "markdown",
      "id": "FpOTzMUadJ9n",
      "metadata": {
        "id": "FpOTzMUadJ9n"
      },
      "source": [
        "#### Q24 ####"
      ]
    },
    {
      "cell_type": "markdown",
      "id": "MJAHWbqwelm4",
      "metadata": {
        "id": "MJAHWbqwelm4"
      },
      "source": [
        "I used one-hot encoding because these categories don't have ranking. Then I dropped the column 'Q24_Other' because it doesn't provide any useful information."
      ]
    },
    {
      "cell_type": "code",
      "execution_count": null,
      "id": "ntGri09Qcf8D",
      "metadata": {
        "colab": {
          "base_uri": "https://localhost:8080/"
        },
        "id": "ntGri09Qcf8D",
        "outputId": "649ef5fc-a861-4e50-fe13-5ee3346c4cdf"
      },
      "outputs": [
        {
          "data": {
            "text/plain": [
              "Computers/Technology                      2056\n",
              "Academics/Education                       1299\n",
              "Accounting/Finance                         729\n",
              "Other                                      654\n",
              "Manufacturing/Fabrication                  504\n",
              "Medical/Pharmaceutical                     454\n",
              "Government/Public Service                  451\n",
              "Online Service/Internet-based Services     417\n",
              "Retail/Sales                               370\n",
              "Energy/Mining                              288\n",
              "Insurance/Risk Assessment                  222\n",
              "Marketing/CRM                              219\n",
              "Non-profit/Service                         176\n",
              "Broadcasting/Communications                162\n",
              "Shipping/Transportation                    135\n",
              "Name: Q24, dtype: int64"
            ]
          },
          "execution_count": 30,
          "metadata": {},
          "output_type": "execute_result"
        }
      ],
      "source": [
        "#check values of Q24\n",
        "salaries['Q24'].value_counts()"
      ]
    },
    {
      "cell_type": "code",
      "execution_count": null,
      "id": "KzZ849qce9P0",
      "metadata": {
        "id": "KzZ849qce9P0"
      },
      "outputs": [],
      "source": [
        "#Encode Q24\n",
        "#use dummy variables\n",
        "salaries = pd.get_dummies(salaries, columns=['Q24'])\n",
        "#drop Other\n",
        "salaries = salaries.drop(['Q24_Other'], axis=1)"
      ]
    },
    {
      "cell_type": "markdown",
      "id": "A431XPWWdLh3",
      "metadata": {
        "id": "A431XPWWdLh3"
      },
      "source": [
        "#### Q25 ####"
      ]
    },
    {
      "cell_type": "markdown",
      "id": "2OUZqJzEfiC0",
      "metadata": {
        "id": "2OUZqJzEfiC0"
      },
      "source": [
        "I used ordinal encoding because company size have ranking."
      ]
    },
    {
      "cell_type": "code",
      "execution_count": null,
      "id": "uVGSIOvgcg7r",
      "metadata": {
        "colab": {
          "base_uri": "https://localhost:8080/"
        },
        "id": "uVGSIOvgcg7r",
        "outputId": "4c05ba4b-05e8-4887-8e2a-210869ddf63d"
      },
      "outputs": [
        {
          "data": {
            "text/plain": [
              "10,000 or more employees    1914\n",
              "0-49 employees              1859\n",
              "1000-9,999 employees        1711\n",
              "50-249 employees            1429\n",
              "250-999 employees           1223\n",
              "Name: Q25, dtype: int64"
            ]
          },
          "execution_count": 32,
          "metadata": {},
          "output_type": "execute_result"
        }
      ],
      "source": [
        "#check values of Q25\n",
        "salaries['Q25'].value_counts()"
      ]
    },
    {
      "cell_type": "code",
      "execution_count": null,
      "id": "BW2vp1WPfrj8",
      "metadata": {
        "id": "BW2vp1WPfrj8"
      },
      "outputs": [],
      "source": [
        "#Encode 25\n",
        "#use ordinal encoding\n",
        "Q25_encoding = {\n",
        "    \"0-49 employees\": 0,\n",
        "    \"50-249 employees\": 1,\n",
        "    \"250-999 employees\": 2,\n",
        "    \"1000-9,999 employees\": 3,\n",
        "    \"10,000 or more employees\": 4,\n",
        "}\n",
        "salaries['Q25'] = salaries['Q25'].map(Q25_encoding)"
      ]
    },
    {
      "cell_type": "markdown",
      "id": "sWjtLn5AdMws",
      "metadata": {
        "id": "sWjtLn5AdMws"
      },
      "source": [
        "#### Q26 ####"
      ]
    },
    {
      "cell_type": "markdown",
      "id": "u8HNePcDfpTp",
      "metadata": {
        "id": "u8HNePcDfpTp"
      },
      "source": [
        "I manually corrected the broken inputs and use ordinal encoding because these categories can be ranked."
      ]
    },
    {
      "cell_type": "code",
      "execution_count": null,
      "id": "EGQMR55tciSL",
      "metadata": {
        "colab": {
          "base_uri": "https://localhost:8080/"
        },
        "id": "EGQMR55tciSL",
        "outputId": "89c5ed65-02be-4be0-a156-f697d7cd1d27"
      },
      "outputs": [
        {
          "data": {
            "text/plain": [
              "20+       2061\n",
              "2-Jan     1658\n",
              "0         1298\n",
              "4-Mar     1257\n",
              "9-May     1029\n",
              "14-Oct     595\n",
              "15-19      238\n",
              "Name: Q26, dtype: int64"
            ]
          },
          "execution_count": 34,
          "metadata": {},
          "output_type": "execute_result"
        }
      ],
      "source": [
        "#check values of Q26\n",
        "salaries['Q26'].value_counts()"
      ]
    },
    {
      "cell_type": "code",
      "execution_count": null,
      "id": "IBS1MjS-gNNk",
      "metadata": {
        "colab": {
          "base_uri": "https://localhost:8080/"
        },
        "id": "IBS1MjS-gNNk",
        "outputId": "244461d2-90dc-4106-d2d0-f896e92316c6"
      },
      "outputs": [
        {
          "data": {
            "text/plain": [
              "20+      2061\n",
              "1-2      1658\n",
              "0        1298\n",
              "3-4      1257\n",
              "5-9      1029\n",
              "10-14     595\n",
              "15-19     238\n",
              "Name: Q26, dtype: int64"
            ]
          },
          "execution_count": 35,
          "metadata": {},
          "output_type": "execute_result"
        }
      ],
      "source": [
        "#change broken inputs to correct values\n",
        "salaries.loc[salaries[\"Q26\"] == \"2-Jan\", \"Q26\"] = \"1-2\"\n",
        "salaries.loc[salaries[\"Q26\"] == \"4-Mar\", \"Q26\"] = \"3-4\"\n",
        "salaries.loc[salaries[\"Q26\"] == \"9-May\", \"Q26\"] = \"5-9\"\n",
        "salaries.loc[salaries[\"Q26\"] == \"14-Oct\", \"Q26\"] = \"10-14\"\n",
        "\n",
        "#check values of Q26\n",
        "salaries['Q26'].value_counts()"
      ]
    },
    {
      "cell_type": "code",
      "execution_count": null,
      "id": "8rmTKHYFiyl2",
      "metadata": {
        "id": "8rmTKHYFiyl2"
      },
      "outputs": [],
      "source": [
        "#use ordinal encoding\n",
        "Q26_encoding = {\n",
        "    \"0\": 0,\n",
        "    \"1-2\": 1,\n",
        "    \"3-4\": 2,\n",
        "    \"5-9\": 3,\n",
        "    \"10-14\": 4,\n",
        "    \"15-19\": 5,\n",
        "    \"20+\": 6,\n",
        "}\n",
        "salaries['Q26'] = salaries['Q26'].map(Q26_encoding)"
      ]
    },
    {
      "cell_type": "markdown",
      "id": "yTGDF14kdNua",
      "metadata": {
        "id": "yTGDF14kdNua"
      },
      "source": [
        "#### Q27 ####"
      ]
    },
    {
      "cell_type": "markdown",
      "id": "6dgKjYhPgfdb",
      "metadata": {
        "id": "6dgKjYhPgfdb"
      },
      "source": [
        "I used ordinal encoding because I think the extent to which company utilize ML methods can be ranked. I use mode to impute 'I do not know' values because I want to preserve as much data as possible."
      ]
    },
    {
      "cell_type": "code",
      "execution_count": null,
      "id": "makr34UycjXq",
      "metadata": {
        "colab": {
          "base_uri": "https://localhost:8080/"
        },
        "id": "makr34UycjXq",
        "outputId": "33009d0b-4753-4969-a034-391b876d8f4e"
      },
      "outputs": [
        {
          "data": {
            "text/plain": [
              "No (we do not use ML methods)                                                                1821\n",
              "We have well established ML methods (i.e., models in production for more than 2 years)       1645\n",
              "We are exploring ML methods (and may one day put a model into production)                    1431\n",
              "I do not know                                                                                1258\n",
              "We recently started using ML methods (i.e., models in production for less than 2 years)      1132\n",
              "We use ML methods for generating insights (but do not put working models into production)     849\n",
              "Name: Q27, dtype: int64"
            ]
          },
          "execution_count": 37,
          "metadata": {},
          "output_type": "execute_result"
        }
      ],
      "source": [
        "#check values of Q27\n",
        "salaries['Q27'].value_counts()"
      ]
    },
    {
      "cell_type": "code",
      "execution_count": null,
      "id": "csGKH3M2jZXv",
      "metadata": {
        "id": "csGKH3M2jZXv"
      },
      "outputs": [],
      "source": [
        "#Encode 27\n",
        "#use ordinal encoding\n",
        "Q27_encoding = {\n",
        "    \"No (we do not use ML methods)\": 0,\n",
        "    \"We use ML methods for generating insights (but do not put working models into production)\": 1,\n",
        "    \"We are exploring ML methods (and may one day put a model into production)\": 2,\n",
        "    \"We recently started using ML methods (i.e., models in production for less than 2 years)\": 3,\n",
        "    \"We have well established ML methods (i.e., models in production for more than 2 years)\": 4,\n",
        "}\n",
        "salaries['Q27'] = salaries['Q27'].map(Q27_encoding)"
      ]
    },
    {
      "cell_type": "code",
      "execution_count": null,
      "id": "c7_CNfXFpmkH",
      "metadata": {
        "id": "c7_CNfXFpmkH"
      },
      "outputs": [],
      "source": [
        "#impute mode for \"I do not know\"\n",
        "salaries['Q27'].fillna(salaries['Q27'].mode().iloc[0], inplace = True)"
      ]
    },
    {
      "cell_type": "markdown",
      "id": "HN_4uRECdO_2",
      "metadata": {
        "id": "HN_4uRECdO_2"
      },
      "source": [
        "#### Q30 ####"
      ]
    },
    {
      "cell_type": "markdown",
      "id": "98vnk8u0g_xt",
      "metadata": {
        "id": "98vnk8u0g_xt"
      },
      "source": [
        "I used ordinal encoding because money spent can be ranked from low to high. I used mode to impute unknown values because I want to preserve as much data as possible."
      ]
    },
    {
      "cell_type": "code",
      "execution_count": null,
      "id": "_vDjh_g8cnEd",
      "metadata": {
        "colab": {
          "base_uri": "https://localhost:8080/"
        },
        "id": "_vDjh_g8cnEd",
        "outputId": "563122ba-ae69-46ba-9e76-5bfc8a1773f1"
      },
      "outputs": [
        {
          "data": {
            "text/plain": [
              "$0 ($USD)                  2653\n",
              "$100-$999                  1993\n",
              "$1000-$9,999               1412\n",
              "$1-$99                     1401\n",
              "$10,000-$99,999             453\n",
              "$100,000 or more ($USD)     174\n",
              "unknown                      50\n",
              "Name: Q30, dtype: int64"
            ]
          },
          "execution_count": 40,
          "metadata": {},
          "output_type": "execute_result"
        }
      ],
      "source": [
        "#check values of Q30\n",
        "salaries['Q30'].value_counts()"
      ]
    },
    {
      "cell_type": "code",
      "execution_count": null,
      "id": "mAiswhGWAB9p",
      "metadata": {
        "id": "mAiswhGWAB9p"
      },
      "outputs": [],
      "source": [
        "#Encode 30\n",
        "#use ordinal encoding\n",
        "Q30_encoding = {\n",
        "    \"$0 ($USD)\": 0,\n",
        "    \"$1-$99\": 1,\n",
        "    \"$100-$999\": 2,\n",
        "    \"$1000-$9,999\": 3,\n",
        "    \"$10,000-$99,999\": 4,\n",
        "    \"$100,000 or more ($USD)\": 5\n",
        "}\n",
        "salaries['Q30'] = salaries['Q30'].map(Q30_encoding)"
      ]
    },
    {
      "cell_type": "code",
      "execution_count": null,
      "id": "9tokkOs7nEu1",
      "metadata": {
        "id": "9tokkOs7nEu1"
      },
      "outputs": [],
      "source": [
        "#impute mode for \"unknown\"\n",
        "salaries['Q30'].fillna(salaries['Q30'].mode().iloc[0], inplace = True)"
      ]
    },
    {
      "cell_type": "markdown",
      "id": "s8kdkO8XdQUH",
      "metadata": {
        "id": "s8kdkO8XdQUH"
      },
      "source": [
        "#### Q43 ####"
      ]
    },
    {
      "cell_type": "markdown",
      "id": "oz1aKOVfhi0s",
      "metadata": {
        "id": "oz1aKOVfhi0s"
      },
      "source": [
        "I used ordinal encoding because frequency can be ranked from never to many times. I used mode to impute unknown values because I want to preserve as much data as possible."
      ]
    },
    {
      "cell_type": "code",
      "execution_count": null,
      "id": "4VrIpyLgcrKB",
      "metadata": {
        "colab": {
          "base_uri": "https://localhost:8080/"
        },
        "id": "4VrIpyLgcrKB",
        "outputId": "1b8e9d53-528e-400f-fe13-4b3a86d86f07"
      },
      "outputs": [
        {
          "data": {
            "text/plain": [
              "unknown               3723\n",
              "Never                 2429\n",
              "2-5 times              922\n",
              "Once                   586\n",
              "6-25 times             255\n",
              "More than 25 times     221\n",
              "Name: Q43, dtype: int64"
            ]
          },
          "execution_count": 43,
          "metadata": {},
          "output_type": "execute_result"
        }
      ],
      "source": [
        "#check values of Q43\n",
        "salaries['Q43'].value_counts()"
      ]
    },
    {
      "cell_type": "code",
      "execution_count": null,
      "id": "_qz0PN-uEGtw",
      "metadata": {
        "id": "_qz0PN-uEGtw"
      },
      "outputs": [],
      "source": [
        "#Encode 43\n",
        "#use ordinal encoding\n",
        "Q43_encoding = {\n",
        "    \"Never\": 0,\n",
        "    \"Once\": 1,\n",
        "    \"2-5 times\": 2,\n",
        "    \"6-25 times\": 3,\n",
        "    \"More than 25 times\": 4\n",
        "}\n",
        "salaries['Q43'] = salaries['Q43'].map(Q43_encoding)"
      ]
    },
    {
      "cell_type": "code",
      "execution_count": null,
      "id": "-BN0dyO6naR-",
      "metadata": {
        "id": "-BN0dyO6naR-"
      },
      "outputs": [],
      "source": [
        "#impute mode for \"unknown\"\n",
        "salaries['Q43'].fillna(salaries['Q43'].mode().iloc[0], inplace = True)"
      ]
    },
    {
      "cell_type": "code",
      "execution_count": null,
      "id": "YKiA_N9tho4K",
      "metadata": {
        "colab": {
          "base_uri": "https://localhost:8080/",
          "height": 290
        },
        "id": "YKiA_N9tho4K",
        "outputId": "70bb862a-743c-454c-96d6-84db76bee475"
      },
      "outputs": [
        {
          "data": {
            "application/vnd.google.colaboratory.intrinsic+json": {
              "type": "dataframe",
              "variable_name": "salaries"
            },
            "text/html": [
              "\n",
              "  <div id=\"df-ca7c2e5d-3e0e-44da-a23b-ed23380816ac\" class=\"colab-df-container\">\n",
              "    <div>\n",
              "<style scoped>\n",
              "    .dataframe tbody tr th:only-of-type {\n",
              "        vertical-align: middle;\n",
              "    }\n",
              "\n",
              "    .dataframe tbody tr th {\n",
              "        vertical-align: top;\n",
              "    }\n",
              "\n",
              "    .dataframe thead th {\n",
              "        text-align: right;\n",
              "    }\n",
              "</style>\n",
              "<table border=\"1\" class=\"dataframe\">\n",
              "  <thead>\n",
              "    <tr style=\"text-align: right;\">\n",
              "      <th></th>\n",
              "      <th>Q2</th>\n",
              "      <th>Q4</th>\n",
              "      <th>Q6_1</th>\n",
              "      <th>Q6_2</th>\n",
              "      <th>Q6_3</th>\n",
              "      <th>Q6_4</th>\n",
              "      <th>Q6_5</th>\n",
              "      <th>Q6_6</th>\n",
              "      <th>Q6_7</th>\n",
              "      <th>Q6_8</th>\n",
              "      <th>...</th>\n",
              "      <th>Q24_Energy/Mining</th>\n",
              "      <th>Q24_Government/Public Service</th>\n",
              "      <th>Q24_Insurance/Risk Assessment</th>\n",
              "      <th>Q24_Manufacturing/Fabrication</th>\n",
              "      <th>Q24_Marketing/CRM</th>\n",
              "      <th>Q24_Medical/Pharmaceutical</th>\n",
              "      <th>Q24_Non-profit/Service</th>\n",
              "      <th>Q24_Online Service/Internet-based Services</th>\n",
              "      <th>Q24_Retail/Sales</th>\n",
              "      <th>Q24_Shipping/Transportation</th>\n",
              "    </tr>\n",
              "  </thead>\n",
              "  <tbody>\n",
              "    <tr>\n",
              "      <th>1</th>\n",
              "      <td>8</td>\n",
              "      <td>4</td>\n",
              "      <td>1</td>\n",
              "      <td>0</td>\n",
              "      <td>1</td>\n",
              "      <td>0</td>\n",
              "      <td>0</td>\n",
              "      <td>0</td>\n",
              "      <td>1</td>\n",
              "      <td>0</td>\n",
              "      <td>...</td>\n",
              "      <td>0</td>\n",
              "      <td>0</td>\n",
              "      <td>0</td>\n",
              "      <td>0</td>\n",
              "      <td>0</td>\n",
              "      <td>0</td>\n",
              "      <td>0</td>\n",
              "      <td>1</td>\n",
              "      <td>0</td>\n",
              "      <td>0</td>\n",
              "    </tr>\n",
              "    <tr>\n",
              "      <th>2</th>\n",
              "      <td>3</td>\n",
              "      <td>4</td>\n",
              "      <td>1</td>\n",
              "      <td>1</td>\n",
              "      <td>0</td>\n",
              "      <td>0</td>\n",
              "      <td>0</td>\n",
              "      <td>1</td>\n",
              "      <td>1</td>\n",
              "      <td>0</td>\n",
              "      <td>...</td>\n",
              "      <td>0</td>\n",
              "      <td>0</td>\n",
              "      <td>1</td>\n",
              "      <td>0</td>\n",
              "      <td>0</td>\n",
              "      <td>0</td>\n",
              "      <td>0</td>\n",
              "      <td>0</td>\n",
              "      <td>0</td>\n",
              "      <td>0</td>\n",
              "    </tr>\n",
              "    <tr>\n",
              "      <th>3</th>\n",
              "      <td>10</td>\n",
              "      <td>4</td>\n",
              "      <td>1</td>\n",
              "      <td>0</td>\n",
              "      <td>1</td>\n",
              "      <td>0</td>\n",
              "      <td>0</td>\n",
              "      <td>0</td>\n",
              "      <td>0</td>\n",
              "      <td>0</td>\n",
              "      <td>...</td>\n",
              "      <td>0</td>\n",
              "      <td>1</td>\n",
              "      <td>0</td>\n",
              "      <td>0</td>\n",
              "      <td>0</td>\n",
              "      <td>0</td>\n",
              "      <td>0</td>\n",
              "      <td>0</td>\n",
              "      <td>0</td>\n",
              "      <td>0</td>\n",
              "    </tr>\n",
              "    <tr>\n",
              "      <th>4</th>\n",
              "      <td>5</td>\n",
              "      <td>4</td>\n",
              "      <td>1</td>\n",
              "      <td>0</td>\n",
              "      <td>1</td>\n",
              "      <td>0</td>\n",
              "      <td>1</td>\n",
              "      <td>1</td>\n",
              "      <td>1</td>\n",
              "      <td>0</td>\n",
              "      <td>...</td>\n",
              "      <td>0</td>\n",
              "      <td>0</td>\n",
              "      <td>0</td>\n",
              "      <td>0</td>\n",
              "      <td>0</td>\n",
              "      <td>0</td>\n",
              "      <td>0</td>\n",
              "      <td>0</td>\n",
              "      <td>0</td>\n",
              "      <td>0</td>\n",
              "    </tr>\n",
              "    <tr>\n",
              "      <th>5</th>\n",
              "      <td>5</td>\n",
              "      <td>4</td>\n",
              "      <td>1</td>\n",
              "      <td>0</td>\n",
              "      <td>0</td>\n",
              "      <td>0</td>\n",
              "      <td>0</td>\n",
              "      <td>1</td>\n",
              "      <td>1</td>\n",
              "      <td>0</td>\n",
              "      <td>...</td>\n",
              "      <td>0</td>\n",
              "      <td>0</td>\n",
              "      <td>0</td>\n",
              "      <td>0</td>\n",
              "      <td>0</td>\n",
              "      <td>0</td>\n",
              "      <td>0</td>\n",
              "      <td>0</td>\n",
              "      <td>0</td>\n",
              "      <td>0</td>\n",
              "    </tr>\n",
              "  </tbody>\n",
              "</table>\n",
              "<p>5 rows × 296 columns</p>\n",
              "</div>\n",
              "    <div class=\"colab-df-buttons\">\n",
              "\n",
              "  <div class=\"colab-df-container\">\n",
              "    <button class=\"colab-df-convert\" onclick=\"convertToInteractive('df-ca7c2e5d-3e0e-44da-a23b-ed23380816ac')\"\n",
              "            title=\"Convert this dataframe to an interactive table.\"\n",
              "            style=\"display:none;\">\n",
              "\n",
              "  <svg xmlns=\"http://www.w3.org/2000/svg\" height=\"24px\" viewBox=\"0 -960 960 960\">\n",
              "    <path d=\"M120-120v-720h720v720H120Zm60-500h600v-160H180v160Zm220 220h160v-160H400v160Zm0 220h160v-160H400v160ZM180-400h160v-160H180v160Zm440 0h160v-160H620v160ZM180-180h160v-160H180v160Zm440 0h160v-160H620v160Z\"/>\n",
              "  </svg>\n",
              "    </button>\n",
              "\n",
              "  <style>\n",
              "    .colab-df-container {\n",
              "      display:flex;\n",
              "      gap: 12px;\n",
              "    }\n",
              "\n",
              "    .colab-df-convert {\n",
              "      background-color: #E8F0FE;\n",
              "      border: none;\n",
              "      border-radius: 50%;\n",
              "      cursor: pointer;\n",
              "      display: none;\n",
              "      fill: #1967D2;\n",
              "      height: 32px;\n",
              "      padding: 0 0 0 0;\n",
              "      width: 32px;\n",
              "    }\n",
              "\n",
              "    .colab-df-convert:hover {\n",
              "      background-color: #E2EBFA;\n",
              "      box-shadow: 0px 1px 2px rgba(60, 64, 67, 0.3), 0px 1px 3px 1px rgba(60, 64, 67, 0.15);\n",
              "      fill: #174EA6;\n",
              "    }\n",
              "\n",
              "    .colab-df-buttons div {\n",
              "      margin-bottom: 4px;\n",
              "    }\n",
              "\n",
              "    [theme=dark] .colab-df-convert {\n",
              "      background-color: #3B4455;\n",
              "      fill: #D2E3FC;\n",
              "    }\n",
              "\n",
              "    [theme=dark] .colab-df-convert:hover {\n",
              "      background-color: #434B5C;\n",
              "      box-shadow: 0px 1px 3px 1px rgba(0, 0, 0, 0.15);\n",
              "      filter: drop-shadow(0px 1px 2px rgba(0, 0, 0, 0.3));\n",
              "      fill: #FFFFFF;\n",
              "    }\n",
              "  </style>\n",
              "\n",
              "    <script>\n",
              "      const buttonEl =\n",
              "        document.querySelector('#df-ca7c2e5d-3e0e-44da-a23b-ed23380816ac button.colab-df-convert');\n",
              "      buttonEl.style.display =\n",
              "        google.colab.kernel.accessAllowed ? 'block' : 'none';\n",
              "\n",
              "      async function convertToInteractive(key) {\n",
              "        const element = document.querySelector('#df-ca7c2e5d-3e0e-44da-a23b-ed23380816ac');\n",
              "        const dataTable =\n",
              "          await google.colab.kernel.invokeFunction('convertToInteractive',\n",
              "                                                    [key], {});\n",
              "        if (!dataTable) return;\n",
              "\n",
              "        const docLinkHtml = 'Like what you see? Visit the ' +\n",
              "          '<a target=\"_blank\" href=https://colab.research.google.com/notebooks/data_table.ipynb>data table notebook</a>'\n",
              "          + ' to learn more about interactive tables.';\n",
              "        element.innerHTML = '';\n",
              "        dataTable['output_type'] = 'display_data';\n",
              "        await google.colab.output.renderOutput(dataTable, element);\n",
              "        const docLink = document.createElement('div');\n",
              "        docLink.innerHTML = docLinkHtml;\n",
              "        element.appendChild(docLink);\n",
              "      }\n",
              "    </script>\n",
              "  </div>\n",
              "\n",
              "\n",
              "<div id=\"df-d5a1ca73-d041-4ab2-889f-1e0b7dd4b6ba\">\n",
              "  <button class=\"colab-df-quickchart\" onclick=\"quickchart('df-d5a1ca73-d041-4ab2-889f-1e0b7dd4b6ba')\"\n",
              "            title=\"Suggest charts\"\n",
              "            style=\"display:none;\">\n",
              "\n",
              "<svg xmlns=\"http://www.w3.org/2000/svg\" height=\"24px\"viewBox=\"0 0 24 24\"\n",
              "     width=\"24px\">\n",
              "    <g>\n",
              "        <path d=\"M19 3H5c-1.1 0-2 .9-2 2v14c0 1.1.9 2 2 2h14c1.1 0 2-.9 2-2V5c0-1.1-.9-2-2-2zM9 17H7v-7h2v7zm4 0h-2V7h2v10zm4 0h-2v-4h2v4z\"/>\n",
              "    </g>\n",
              "</svg>\n",
              "  </button>\n",
              "\n",
              "<style>\n",
              "  .colab-df-quickchart {\n",
              "      --bg-color: #E8F0FE;\n",
              "      --fill-color: #1967D2;\n",
              "      --hover-bg-color: #E2EBFA;\n",
              "      --hover-fill-color: #174EA6;\n",
              "      --disabled-fill-color: #AAA;\n",
              "      --disabled-bg-color: #DDD;\n",
              "  }\n",
              "\n",
              "  [theme=dark] .colab-df-quickchart {\n",
              "      --bg-color: #3B4455;\n",
              "      --fill-color: #D2E3FC;\n",
              "      --hover-bg-color: #434B5C;\n",
              "      --hover-fill-color: #FFFFFF;\n",
              "      --disabled-bg-color: #3B4455;\n",
              "      --disabled-fill-color: #666;\n",
              "  }\n",
              "\n",
              "  .colab-df-quickchart {\n",
              "    background-color: var(--bg-color);\n",
              "    border: none;\n",
              "    border-radius: 50%;\n",
              "    cursor: pointer;\n",
              "    display: none;\n",
              "    fill: var(--fill-color);\n",
              "    height: 32px;\n",
              "    padding: 0;\n",
              "    width: 32px;\n",
              "  }\n",
              "\n",
              "  .colab-df-quickchart:hover {\n",
              "    background-color: var(--hover-bg-color);\n",
              "    box-shadow: 0 1px 2px rgba(60, 64, 67, 0.3), 0 1px 3px 1px rgba(60, 64, 67, 0.15);\n",
              "    fill: var(--button-hover-fill-color);\n",
              "  }\n",
              "\n",
              "  .colab-df-quickchart-complete:disabled,\n",
              "  .colab-df-quickchart-complete:disabled:hover {\n",
              "    background-color: var(--disabled-bg-color);\n",
              "    fill: var(--disabled-fill-color);\n",
              "    box-shadow: none;\n",
              "  }\n",
              "\n",
              "  .colab-df-spinner {\n",
              "    border: 2px solid var(--fill-color);\n",
              "    border-color: transparent;\n",
              "    border-bottom-color: var(--fill-color);\n",
              "    animation:\n",
              "      spin 1s steps(1) infinite;\n",
              "  }\n",
              "\n",
              "  @keyframes spin {\n",
              "    0% {\n",
              "      border-color: transparent;\n",
              "      border-bottom-color: var(--fill-color);\n",
              "      border-left-color: var(--fill-color);\n",
              "    }\n",
              "    20% {\n",
              "      border-color: transparent;\n",
              "      border-left-color: var(--fill-color);\n",
              "      border-top-color: var(--fill-color);\n",
              "    }\n",
              "    30% {\n",
              "      border-color: transparent;\n",
              "      border-left-color: var(--fill-color);\n",
              "      border-top-color: var(--fill-color);\n",
              "      border-right-color: var(--fill-color);\n",
              "    }\n",
              "    40% {\n",
              "      border-color: transparent;\n",
              "      border-right-color: var(--fill-color);\n",
              "      border-top-color: var(--fill-color);\n",
              "    }\n",
              "    60% {\n",
              "      border-color: transparent;\n",
              "      border-right-color: var(--fill-color);\n",
              "    }\n",
              "    80% {\n",
              "      border-color: transparent;\n",
              "      border-right-color: var(--fill-color);\n",
              "      border-bottom-color: var(--fill-color);\n",
              "    }\n",
              "    90% {\n",
              "      border-color: transparent;\n",
              "      border-bottom-color: var(--fill-color);\n",
              "    }\n",
              "  }\n",
              "</style>\n",
              "\n",
              "  <script>\n",
              "    async function quickchart(key) {\n",
              "      const quickchartButtonEl =\n",
              "        document.querySelector('#' + key + ' button');\n",
              "      quickchartButtonEl.disabled = true;  // To prevent multiple clicks.\n",
              "      quickchartButtonEl.classList.add('colab-df-spinner');\n",
              "      try {\n",
              "        const charts = await google.colab.kernel.invokeFunction(\n",
              "            'suggestCharts', [key], {});\n",
              "      } catch (error) {\n",
              "        console.error('Error during call to suggestCharts:', error);\n",
              "      }\n",
              "      quickchartButtonEl.classList.remove('colab-df-spinner');\n",
              "      quickchartButtonEl.classList.add('colab-df-quickchart-complete');\n",
              "    }\n",
              "    (() => {\n",
              "      let quickchartButtonEl =\n",
              "        document.querySelector('#df-d5a1ca73-d041-4ab2-889f-1e0b7dd4b6ba button');\n",
              "      quickchartButtonEl.style.display =\n",
              "        google.colab.kernel.accessAllowed ? 'block' : 'none';\n",
              "    })();\n",
              "  </script>\n",
              "</div>\n",
              "\n",
              "    </div>\n",
              "  </div>\n"
            ],
            "text/plain": [
              "   Q2  Q4 Q6_1 Q6_2 Q6_3 Q6_4 Q6_5 Q6_6 Q6_7 Q6_8  ... Q24_Energy/Mining  \\\n",
              "1   8   4    1    0    1    0    0    0    1    0  ...                 0   \n",
              "2   3   4    1    1    0    0    0    1    1    0  ...                 0   \n",
              "3  10   4    1    0    1    0    0    0    0    0  ...                 0   \n",
              "4   5   4    1    0    1    0    1    1    1    0  ...                 0   \n",
              "5   5   4    1    0    0    0    0    1    1    0  ...                 0   \n",
              "\n",
              "  Q24_Government/Public Service Q24_Insurance/Risk Assessment  \\\n",
              "1                             0                             0   \n",
              "2                             0                             1   \n",
              "3                             1                             0   \n",
              "4                             0                             0   \n",
              "5                             0                             0   \n",
              "\n",
              "  Q24_Manufacturing/Fabrication Q24_Marketing/CRM Q24_Medical/Pharmaceutical  \\\n",
              "1                             0                 0                          0   \n",
              "2                             0                 0                          0   \n",
              "3                             0                 0                          0   \n",
              "4                             0                 0                          0   \n",
              "5                             0                 0                          0   \n",
              "\n",
              "  Q24_Non-profit/Service Q24_Online Service/Internet-based Services  \\\n",
              "1                      0                                          1   \n",
              "2                      0                                          0   \n",
              "3                      0                                          0   \n",
              "4                      0                                          0   \n",
              "5                      0                                          0   \n",
              "\n",
              "  Q24_Retail/Sales  Q24_Shipping/Transportation  \n",
              "1                0                            0  \n",
              "2                0                            0  \n",
              "3                0                            0  \n",
              "4                0                            0  \n",
              "5                0                            0  \n",
              "\n",
              "[5 rows x 296 columns]"
            ]
          },
          "execution_count": 46,
          "metadata": {},
          "output_type": "execute_result"
        }
      ],
      "source": [
        "#check the result\n",
        "salaries.head()"
      ]
    },
    {
      "cell_type": "markdown",
      "id": "71PPXsVpEdby",
      "metadata": {
        "id": "71PPXsVpEdby"
      },
      "source": [
        "###**Drop the target variable(s) and get the target variable**"
      ]
    },
    {
      "cell_type": "code",
      "execution_count": null,
      "id": "J8Xdq2I0aIOK",
      "metadata": {
        "id": "J8Xdq2I0aIOK"
      },
      "outputs": [],
      "source": [
        "# Make sure there are no missing values remaining in the dataset\n",
        "assert salaries.isnull().values.sum() == 0, \\\n",
        "    \"There are still {} missing values remaining in salaries!\".format(\n",
        "        salaries.isnull().values.sum()\n",
        "    )"
      ]
    },
    {
      "cell_type": "code",
      "execution_count": null,
      "id": "01UFnhWGE67u",
      "metadata": {
        "id": "01UFnhWGE67u"
      },
      "outputs": [],
      "source": [
        "# get the target variable\n",
        "target = salaries[\"Q29_Encoded\"]\n",
        "\n",
        "# Drop the target variables from the feature set\n",
        "features_set = salaries.copy()\n",
        "features_set = features_set.drop(\"Q29_Encoded\", axis=1)\n",
        "features_set = features_set.drop(\"Q29\", axis=1)\n",
        "features_set = features_set.drop(\"Q29_buckets\", axis=1)\n",
        "\n",
        "# Make sure the target variables are not included in the feature set\n",
        "for col in features_set:\n",
        "    assert 'Q29' not in col, \\\n",
        "        \"Target variable ({}) is still in the dataset\".format(col)"
      ]
    },
    {
      "cell_type": "markdown",
      "id": "c1uNYg4xGhta",
      "metadata": {
        "id": "c1uNYg4xGhta"
      },
      "source": [
        "# Question 2: Exploratory Feature Analysis\n",
        "\n",
        "- From Question 2 - Question 4, you should **NOT** peek at the test labels in any form!\n",
        "- Assume that you do not know the target values (Q29_Encoded)"
      ]
    },
    {
      "cell_type": "markdown",
      "id": "yCkFKoni0CPH",
      "metadata": {
        "id": "yCkFKoni0CPH"
      },
      "source": [
        "## Split data into training and test sets"
      ]
    },
    {
      "cell_type": "code",
      "execution_count": null,
      "id": "JZhQ_IffzAD_",
      "metadata": {
        "id": "JZhQ_IffzAD_"
      },
      "outputs": [],
      "source": [
        "# You can use from sklearn.model_selection.train_test_split()\n",
        "train_df, test_df, y_train, y_test = train_test_split(features_set, target, random_state = 0, test_size = 0.3)"
      ]
    },
    {
      "cell_type": "markdown",
      "id": "mCHvO21oMCjj",
      "metadata": {
        "id": "mCHvO21oMCjj"
      },
      "source": [
        "## **Visualization**\n",
        "\n",
        "- Make visualization to better understand your data"
      ]
    },
    {
      "cell_type": "code",
      "execution_count": null,
      "id": "3x48F39DNyuM",
      "metadata": {
        "id": "3x48F39DNyuM"
      },
      "outputs": [],
      "source": [
        "#combine features set and target\n",
        "df = pd.concat([features_set, target], axis=1)\n",
        "\n",
        "#correlation between variables\n",
        "df_corr = df.corr()"
      ]
    },
    {
      "cell_type": "code",
      "execution_count": null,
      "id": "QV2n7IDXMLNN",
      "metadata": {
        "colab": {
          "base_uri": "https://localhost:8080/",
          "height": 874
        },
        "id": "QV2n7IDXMLNN",
        "outputId": "ee891536-3e83-4689-8496-3c9fa06c97d4"
      },
      "outputs": [
        {
          "data": {
            "image/png": "[encoded data removed]",
            "text/plain": [
              "<Figure size 500x500 with 2 Axes>"
            ]
          },
          "metadata": {},
          "output_type": "display_data"
        }
      ],
      "source": [
        "#correlation plot\n",
        "plt.figure(figsize=(5,5))\n",
        "plt.title('Correlation Plot',fontsize = 10)\n",
        "\n",
        "ax = sns.heatmap(\n",
        "    df_corr,\n",
        "    vmin=-1, vmax=1, center=0,\n",
        "    cmap=sns.diverging_palette(20, 220, n=200),\n",
        "    square=True\n",
        ")\n",
        "\n",
        "plt.show()"
      ]
    },
    {
      "cell_type": "code",
      "execution_count": null,
      "id": "BMCG4LPq1Au_",
      "metadata": {
        "colab": {
          "base_uri": "https://localhost:8080/",
          "height": 1000
        },
        "id": "BMCG4LPq1Au_",
        "outputId": "283ebd61-f411-42b2-cbbf-3bd78975b335"
      },
      "outputs": [
        {
          "data": {
            "application/vnd.google.colaboratory.intrinsic+json": {
              "summary": "{\n  \"name\": \"features_important\",\n  \"rows\": 41,\n  \"fields\": [\n    {\n      \"column\": \"Q29_Encoded\",\n      \"properties\": {\n        \"dtype\": \"number\",\n        \"std\": 0.20581911294463495,\n        \"min\": -0.1391961023624541,\n        \"max\": 1.0,\n        \"num_unique_values\": 41,\n        \"samples\": [\n          0.04035707526326951,\n          0.12389031114537857,\n          0.17182942150396394\n        ],\n        \"semantic_type\": \"\",\n        \"description\": \"\"\n      }\n    }\n  ]\n}",
              "type": "dataframe",
              "variable_name": "features_important"
            },
            "text/html": [
              "\n",
              "  <div id=\"df-8a6411bd-50fd-4d45-af23-1ca3982d9fb4\" class=\"colab-df-container\">\n",
              "    <div>\n",
              "<style scoped>\n",
              "    .dataframe tbody tr th:only-of-type {\n",
              "        vertical-align: middle;\n",
              "    }\n",
              "\n",
              "    .dataframe tbody tr th {\n",
              "        vertical-align: top;\n",
              "    }\n",
              "\n",
              "    .dataframe thead th {\n",
              "        text-align: right;\n",
              "    }\n",
              "</style>\n",
              "<table border=\"1\" class=\"dataframe\">\n",
              "  <thead>\n",
              "    <tr style=\"text-align: right;\">\n",
              "      <th></th>\n",
              "      <th>Q29_Encoded</th>\n",
              "    </tr>\n",
              "  </thead>\n",
              "  <tbody>\n",
              "    <tr>\n",
              "      <th>Q29_Encoded</th>\n",
              "      <td>1.000000</td>\n",
              "    </tr>\n",
              "    <tr>\n",
              "      <th>Q4</th>\n",
              "      <td>0.469402</td>\n",
              "    </tr>\n",
              "    <tr>\n",
              "      <th>Q11</th>\n",
              "      <td>0.406746</td>\n",
              "    </tr>\n",
              "    <tr>\n",
              "      <th>Q16</th>\n",
              "      <td>0.385459</td>\n",
              "    </tr>\n",
              "    <tr>\n",
              "      <th>Q2</th>\n",
              "      <td>0.315812</td>\n",
              "    </tr>\n",
              "    <tr>\n",
              "      <th>Q27</th>\n",
              "      <td>0.314579</td>\n",
              "    </tr>\n",
              "    <tr>\n",
              "      <th>Q30</th>\n",
              "      <td>0.297743</td>\n",
              "    </tr>\n",
              "    <tr>\n",
              "      <th>Q26</th>\n",
              "      <td>0.255693</td>\n",
              "    </tr>\n",
              "    <tr>\n",
              "      <th>Q23_Manager (Program, Project, Operations, Executive-level, etc)</th>\n",
              "      <td>0.171829</td>\n",
              "    </tr>\n",
              "    <tr>\n",
              "      <th>Q25</th>\n",
              "      <td>0.165711</td>\n",
              "    </tr>\n",
              "    <tr>\n",
              "      <th>Q23_Data Analyst (Business, Marketing, Financial, Quantitative, etc)</th>\n",
              "      <td>-0.139196</td>\n",
              "    </tr>\n",
              "    <tr>\n",
              "      <th>Q8</th>\n",
              "      <td>0.134878</td>\n",
              "    </tr>\n",
              "    <tr>\n",
              "      <th>Q24_Academics/Education</th>\n",
              "      <td>-0.130247</td>\n",
              "    </tr>\n",
              "    <tr>\n",
              "      <th>Q43</th>\n",
              "      <td>0.123890</td>\n",
              "    </tr>\n",
              "    <tr>\n",
              "      <th>Q23_Data Scientist</th>\n",
              "      <td>0.121645</td>\n",
              "    </tr>\n",
              "    <tr>\n",
              "      <th>Q23_Teacher / professor</th>\n",
              "      <td>-0.096139</td>\n",
              "    </tr>\n",
              "    <tr>\n",
              "      <th>Q24_Medical/Pharmaceutical</th>\n",
              "      <td>0.083790</td>\n",
              "    </tr>\n",
              "    <tr>\n",
              "      <th>Q3_Woman</th>\n",
              "      <td>-0.078973</td>\n",
              "    </tr>\n",
              "    <tr>\n",
              "      <th>Q23_Engineer (non-software)</th>\n",
              "      <td>-0.073533</td>\n",
              "    </tr>\n",
              "    <tr>\n",
              "      <th>Q3_Man</th>\n",
              "      <td>0.064562</td>\n",
              "    </tr>\n",
              "    <tr>\n",
              "      <th>Q23_Data Architect</th>\n",
              "      <td>0.056670</td>\n",
              "    </tr>\n",
              "    <tr>\n",
              "      <th>Q24_Insurance/Risk Assessment</th>\n",
              "      <td>0.044879</td>\n",
              "    </tr>\n",
              "    <tr>\n",
              "      <th>Q23_Research Scientist</th>\n",
              "      <td>0.042913</td>\n",
              "    </tr>\n",
              "    <tr>\n",
              "      <th>Q24_Online Service/Internet-based Services</th>\n",
              "      <td>0.041945</td>\n",
              "    </tr>\n",
              "    <tr>\n",
              "      <th>Q24_Accounting/Finance</th>\n",
              "      <td>0.040357</td>\n",
              "    </tr>\n",
              "    <tr>\n",
              "      <th>Q23_Data Administrator</th>\n",
              "      <td>-0.038386</td>\n",
              "    </tr>\n",
              "    <tr>\n",
              "      <th>Q3_Nonbinary</th>\n",
              "      <td>0.035460</td>\n",
              "    </tr>\n",
              "    <tr>\n",
              "      <th>Q23_Statistician</th>\n",
              "      <td>-0.034301</td>\n",
              "    </tr>\n",
              "    <tr>\n",
              "      <th>Q24_Non-profit/Service</th>\n",
              "      <td>-0.029451</td>\n",
              "    </tr>\n",
              "    <tr>\n",
              "      <th>Q23_Software Engineer</th>\n",
              "      <td>-0.025462</td>\n",
              "    </tr>\n",
              "    <tr>\n",
              "      <th>Q24_Broadcasting/Communications</th>\n",
              "      <td>0.020557</td>\n",
              "    </tr>\n",
              "    <tr>\n",
              "      <th>Q23_Machine Learning/ MLops Engineer</th>\n",
              "      <td>0.019878</td>\n",
              "    </tr>\n",
              "    <tr>\n",
              "      <th>Q24_Manufacturing/Fabrication</th>\n",
              "      <td>-0.017594</td>\n",
              "    </tr>\n",
              "    <tr>\n",
              "      <th>Q24_Government/Public Service</th>\n",
              "      <td>0.015533</td>\n",
              "    </tr>\n",
              "    <tr>\n",
              "      <th>Q24_Retail/Sales</th>\n",
              "      <td>-0.010347</td>\n",
              "    </tr>\n",
              "    <tr>\n",
              "      <th>Q24_Computers/Technology</th>\n",
              "      <td>0.010016</td>\n",
              "    </tr>\n",
              "    <tr>\n",
              "      <th>Q23_Developer Advocate</th>\n",
              "      <td>0.009704</td>\n",
              "    </tr>\n",
              "    <tr>\n",
              "      <th>Q23_Data Engineer</th>\n",
              "      <td>-0.008302</td>\n",
              "    </tr>\n",
              "    <tr>\n",
              "      <th>Q24_Marketing/CRM</th>\n",
              "      <td>-0.003585</td>\n",
              "    </tr>\n",
              "    <tr>\n",
              "      <th>Q24_Shipping/Transportation</th>\n",
              "      <td>0.003163</td>\n",
              "    </tr>\n",
              "    <tr>\n",
              "      <th>Q24_Energy/Mining</th>\n",
              "      <td>0.000604</td>\n",
              "    </tr>\n",
              "  </tbody>\n",
              "</table>\n",
              "</div>\n",
              "    <div class=\"colab-df-buttons\">\n",
              "\n",
              "  <div class=\"colab-df-container\">\n",
              "    <button class=\"colab-df-convert\" onclick=\"convertToInteractive('df-8a6411bd-50fd-4d45-af23-1ca3982d9fb4')\"\n",
              "            title=\"Convert this dataframe to an interactive table.\"\n",
              "            style=\"display:none;\">\n",
              "\n",
              "  <svg xmlns=\"http://www.w3.org/2000/svg\" height=\"24px\" viewBox=\"0 -960 960 960\">\n",
              "    <path d=\"M120-120v-720h720v720H120Zm60-500h600v-160H180v160Zm220 220h160v-160H400v160Zm0 220h160v-160H400v160ZM180-400h160v-160H180v160Zm440 0h160v-160H620v160ZM180-180h160v-160H180v160Zm440 0h160v-160H620v160Z\"/>\n",
              "  </svg>\n",
              "    </button>\n",
              "\n",
              "  <style>\n",
              "    .colab-df-container {\n",
              "      display:flex;\n",
              "      gap: 12px;\n",
              "    }\n",
              "\n",
              "    .colab-df-convert {\n",
              "      background-color: #E8F0FE;\n",
              "      border: none;\n",
              "      border-radius: 50%;\n",
              "      cursor: pointer;\n",
              "      display: none;\n",
              "      fill: #1967D2;\n",
              "      height: 32px;\n",
              "      padding: 0 0 0 0;\n",
              "      width: 32px;\n",
              "    }\n",
              "\n",
              "    .colab-df-convert:hover {\n",
              "      background-color: #E2EBFA;\n",
              "      box-shadow: 0px 1px 2px rgba(60, 64, 67, 0.3), 0px 1px 3px 1px rgba(60, 64, 67, 0.15);\n",
              "      fill: #174EA6;\n",
              "    }\n",
              "\n",
              "    .colab-df-buttons div {\n",
              "      margin-bottom: 4px;\n",
              "    }\n",
              "\n",
              "    [theme=dark] .colab-df-convert {\n",
              "      background-color: #3B4455;\n",
              "      fill: #D2E3FC;\n",
              "    }\n",
              "\n",
              "    [theme=dark] .colab-df-convert:hover {\n",
              "      background-color: #434B5C;\n",
              "      box-shadow: 0px 1px 3px 1px rgba(0, 0, 0, 0.15);\n",
              "      filter: drop-shadow(0px 1px 2px rgba(0, 0, 0, 0.3));\n",
              "      fill: #FFFFFF;\n",
              "    }\n",
              "  </style>\n",
              "\n",
              "    <script>\n",
              "      const buttonEl =\n",
              "        document.querySelector('#df-8a6411bd-50fd-4d45-af23-1ca3982d9fb4 button.colab-df-convert');\n",
              "      buttonEl.style.display =\n",
              "        google.colab.kernel.accessAllowed ? 'block' : 'none';\n",
              "\n",
              "      async function convertToInteractive(key) {\n",
              "        const element = document.querySelector('#df-8a6411bd-50fd-4d45-af23-1ca3982d9fb4');\n",
              "        const dataTable =\n",
              "          await google.colab.kernel.invokeFunction('convertToInteractive',\n",
              "                                                    [key], {});\n",
              "        if (!dataTable) return;\n",
              "\n",
              "        const docLinkHtml = 'Like what you see? Visit the ' +\n",
              "          '<a target=\"_blank\" href=https://colab.research.google.com/notebooks/data_table.ipynb>data table notebook</a>'\n",
              "          + ' to learn more about interactive tables.';\n",
              "        element.innerHTML = '';\n",
              "        dataTable['output_type'] = 'display_data';\n",
              "        await google.colab.output.renderOutput(dataTable, element);\n",
              "        const docLink = document.createElement('div');\n",
              "        docLink.innerHTML = docLinkHtml;\n",
              "        element.appendChild(docLink);\n",
              "      }\n",
              "    </script>\n",
              "  </div>\n",
              "\n",
              "\n",
              "<div id=\"df-cecf3e7c-0e80-406f-beaa-fae711781777\">\n",
              "  <button class=\"colab-df-quickchart\" onclick=\"quickchart('df-cecf3e7c-0e80-406f-beaa-fae711781777')\"\n",
              "            title=\"Suggest charts\"\n",
              "            style=\"display:none;\">\n",
              "\n",
              "<svg xmlns=\"http://www.w3.org/2000/svg\" height=\"24px\"viewBox=\"0 0 24 24\"\n",
              "     width=\"24px\">\n",
              "    <g>\n",
              "        <path d=\"M19 3H5c-1.1 0-2 .9-2 2v14c0 1.1.9 2 2 2h14c1.1 0 2-.9 2-2V5c0-1.1-.9-2-2-2zM9 17H7v-7h2v7zm4 0h-2V7h2v10zm4 0h-2v-4h2v4z\"/>\n",
              "    </g>\n",
              "</svg>\n",
              "  </button>\n",
              "\n",
              "<style>\n",
              "  .colab-df-quickchart {\n",
              "      --bg-color: #E8F0FE;\n",
              "      --fill-color: #1967D2;\n",
              "      --hover-bg-color: #E2EBFA;\n",
              "      --hover-fill-color: #174EA6;\n",
              "      --disabled-fill-color: #AAA;\n",
              "      --disabled-bg-color: #DDD;\n",
              "  }\n",
              "\n",
              "  [theme=dark] .colab-df-quickchart {\n",
              "      --bg-color: #3B4455;\n",
              "      --fill-color: #D2E3FC;\n",
              "      --hover-bg-color: #434B5C;\n",
              "      --hover-fill-color: #FFFFFF;\n",
              "      --disabled-bg-color: #3B4455;\n",
              "      --disabled-fill-color: #666;\n",
              "  }\n",
              "\n",
              "  .colab-df-quickchart {\n",
              "    background-color: var(--bg-color);\n",
              "    border: none;\n",
              "    border-radius: 50%;\n",
              "    cursor: pointer;\n",
              "    display: none;\n",
              "    fill: var(--fill-color);\n",
              "    height: 32px;\n",
              "    padding: 0;\n",
              "    width: 32px;\n",
              "  }\n",
              "\n",
              "  .colab-df-quickchart:hover {\n",
              "    background-color: var(--hover-bg-color);\n",
              "    box-shadow: 0 1px 2px rgba(60, 64, 67, 0.3), 0 1px 3px 1px rgba(60, 64, 67, 0.15);\n",
              "    fill: var(--button-hover-fill-color);\n",
              "  }\n",
              "\n",
              "  .colab-df-quickchart-complete:disabled,\n",
              "  .colab-df-quickchart-complete:disabled:hover {\n",
              "    background-color: var(--disabled-bg-color);\n",
              "    fill: var(--disabled-fill-color);\n",
              "    box-shadow: none;\n",
              "  }\n",
              "\n",
              "  .colab-df-spinner {\n",
              "    border: 2px solid var(--fill-color);\n",
              "    border-color: transparent;\n",
              "    border-bottom-color: var(--fill-color);\n",
              "    animation:\n",
              "      spin 1s steps(1) infinite;\n",
              "  }\n",
              "\n",
              "  @keyframes spin {\n",
              "    0% {\n",
              "      border-color: transparent;\n",
              "      border-bottom-color: var(--fill-color);\n",
              "      border-left-color: var(--fill-color);\n",
              "    }\n",
              "    20% {\n",
              "      border-color: transparent;\n",
              "      border-left-color: var(--fill-color);\n",
              "      border-top-color: var(--fill-color);\n",
              "    }\n",
              "    30% {\n",
              "      border-color: transparent;\n",
              "      border-left-color: var(--fill-color);\n",
              "      border-top-color: var(--fill-color);\n",
              "      border-right-color: var(--fill-color);\n",
              "    }\n",
              "    40% {\n",
              "      border-color: transparent;\n",
              "      border-right-color: var(--fill-color);\n",
              "      border-top-color: var(--fill-color);\n",
              "    }\n",
              "    60% {\n",
              "      border-color: transparent;\n",
              "      border-right-color: var(--fill-color);\n",
              "    }\n",
              "    80% {\n",
              "      border-color: transparent;\n",
              "      border-right-color: var(--fill-color);\n",
              "      border-bottom-color: var(--fill-color);\n",
              "    }\n",
              "    90% {\n",
              "      border-color: transparent;\n",
              "      border-bottom-color: var(--fill-color);\n",
              "    }\n",
              "  }\n",
              "</style>\n",
              "\n",
              "  <script>\n",
              "    async function quickchart(key) {\n",
              "      const quickchartButtonEl =\n",
              "        document.querySelector('#' + key + ' button');\n",
              "      quickchartButtonEl.disabled = true;  // To prevent multiple clicks.\n",
              "      quickchartButtonEl.classList.add('colab-df-spinner');\n",
              "      try {\n",
              "        const charts = await google.colab.kernel.invokeFunction(\n",
              "            'suggestCharts', [key], {});\n",
              "      } catch (error) {\n",
              "        console.error('Error during call to suggestCharts:', error);\n",
              "      }\n",
              "      quickchartButtonEl.classList.remove('colab-df-spinner');\n",
              "      quickchartButtonEl.classList.add('colab-df-quickchart-complete');\n",
              "    }\n",
              "    (() => {\n",
              "      let quickchartButtonEl =\n",
              "        document.querySelector('#df-cecf3e7c-0e80-406f-beaa-fae711781777 button');\n",
              "      quickchartButtonEl.style.display =\n",
              "        google.colab.kernel.accessAllowed ? 'block' : 'none';\n",
              "    })();\n",
              "  </script>\n",
              "</div>\n",
              "\n",
              "  <div id=\"id_b431f3c3-2275-4279-b3ba-eb7ccf8612e8\">\n",
              "    <style>\n",
              "      .colab-df-generate {\n",
              "        background-color: #E8F0FE;\n",
              "        border: none;\n",
              "        border-radius: 50%;\n",
              "        cursor: pointer;\n",
              "        display: none;\n",
              "        fill: #1967D2;\n",
              "        height: 32px;\n",
              "        padding: 0 0 0 0;\n",
              "        width: 32px;\n",
              "      }\n",
              "\n",
              "      .colab-df-generate:hover {\n",
              "        background-color: #E2EBFA;\n",
              "        box-shadow: 0px 1px 2px rgba(60, 64, 67, 0.3), 0px 1px 3px 1px rgba(60, 64, 67, 0.15);\n",
              "        fill: #174EA6;\n",
              "      }\n",
              "\n",
              "      [theme=dark] .colab-df-generate {\n",
              "        background-color: #3B4455;\n",
              "        fill: #D2E3FC;\n",
              "      }\n",
              "\n",
              "      [theme=dark] .colab-df-generate:hover {\n",
              "        background-color: #434B5C;\n",
              "        box-shadow: 0px 1px 3px 1px rgba(0, 0, 0, 0.15);\n",
              "        filter: drop-shadow(0px 1px 2px rgba(0, 0, 0, 0.3));\n",
              "        fill: #FFFFFF;\n",
              "      }\n",
              "    </style>\n",
              "    <button class=\"colab-df-generate\" onclick=\"generateWithVariable('features_important')\"\n",
              "            title=\"Generate code using this dataframe.\"\n",
              "            style=\"display:none;\">\n",
              "\n",
              "  <svg xmlns=\"http://www.w3.org/2000/svg\" height=\"24px\"viewBox=\"0 0 24 24\"\n",
              "       width=\"24px\">\n",
              "    <path d=\"M7,19H8.4L18.45,9,17,7.55,7,17.6ZM5,21V16.75L18.45,3.32a2,2,0,0,1,2.83,0l1.4,1.43a1.91,1.91,0,0,1,.58,1.4,1.91,1.91,0,0,1-.58,1.4L9.25,21ZM18.45,9,17,7.55Zm-12,3A5.31,5.31,0,0,0,4.9,8.1,5.31,5.31,0,0,0,1,6.5,5.31,5.31,0,0,0,4.9,4.9,5.31,5.31,0,0,0,6.5,1,5.31,5.31,0,0,0,8.1,4.9,5.31,5.31,0,0,0,12,6.5,5.46,5.46,0,0,0,6.5,12Z\"/>\n",
              "  </svg>\n",
              "    </button>\n",
              "    <script>\n",
              "      (() => {\n",
              "      const buttonEl =\n",
              "        document.querySelector('#id_b431f3c3-2275-4279-b3ba-eb7ccf8612e8 button.colab-df-generate');\n",
              "      buttonEl.style.display =\n",
              "        google.colab.kernel.accessAllowed ? 'block' : 'none';\n",
              "\n",
              "      buttonEl.onclick = () => {\n",
              "        google.colab.notebook.generateWithVariable('features_important');\n",
              "      }\n",
              "      })();\n",
              "    </script>\n",
              "  </div>\n",
              "\n",
              "    </div>\n",
              "  </div>\n"
            ],
            "text/plain": [
              "                                                    Q29_Encoded\n",
              "Q29_Encoded                                            1.000000\n",
              "Q4                                                     0.469402\n",
              "Q11                                                    0.406746\n",
              "Q16                                                    0.385459\n",
              "Q2                                                     0.315812\n",
              "Q27                                                    0.314579\n",
              "Q30                                                    0.297743\n",
              "Q26                                                    0.255693\n",
              "Q23_Manager (Program, Project, Operations, Exec...     0.171829\n",
              "Q25                                                    0.165711\n",
              "Q23_Data Analyst (Business, Marketing, Financia...    -0.139196\n",
              "Q8                                                     0.134878\n",
              "Q24_Academics/Education                               -0.130247\n",
              "Q43                                                    0.123890\n",
              "Q23_Data Scientist                                     0.121645\n",
              "Q23_Teacher / professor                               -0.096139\n",
              "Q24_Medical/Pharmaceutical                             0.083790\n",
              "Q3_Woman                                              -0.078973\n",
              "Q23_Engineer (non-software)                           -0.073533\n",
              "Q3_Man                                                 0.064562\n",
              "Q23_Data Architect                                     0.056670\n",
              "Q24_Insurance/Risk Assessment                          0.044879\n",
              "Q23_Research Scientist                                 0.042913\n",
              "Q24_Online Service/Internet-based Services             0.041945\n",
              "Q24_Accounting/Finance                                 0.040357\n",
              "Q23_Data Administrator                                -0.038386\n",
              "Q3_Nonbinary                                           0.035460\n",
              "Q23_Statistician                                      -0.034301\n",
              "Q24_Non-profit/Service                                -0.029451\n",
              "Q23_Software Engineer                                 -0.025462\n",
              "Q24_Broadcasting/Communications                        0.020557\n",
              "Q23_Machine Learning/ MLops Engineer                   0.019878\n",
              "Q24_Manufacturing/Fabrication                         -0.017594\n",
              "Q24_Government/Public Service                          0.015533\n",
              "Q24_Retail/Sales                                      -0.010347\n",
              "Q24_Computers/Technology                               0.010016\n",
              "Q23_Developer Advocate                                 0.009704\n",
              "Q23_Data Engineer                                     -0.008302\n",
              "Q24_Marketing/CRM                                     -0.003585\n",
              "Q24_Shipping/Transportation                            0.003163\n",
              "Q24_Energy/Mining                                      0.000604"
            ]
          },
          "execution_count": 52,
          "metadata": {},
          "output_type": "execute_result"
        }
      ],
      "source": [
        "#order by feature importance\n",
        "features_important = pd.DataFrame(df_corr['Q29_Encoded'].sort_values(key=abs,ascending=False))\n",
        "features_important"
      ]
    },
    {
      "cell_type": "code",
      "execution_count": null,
      "id": "R3geDBVuRXw5",
      "metadata": {
        "colab": {
          "base_uri": "https://localhost:8080/",
          "height": 723
        },
        "id": "R3geDBVuRXw5",
        "outputId": "e62e447d-3ea6-4a6f-ee42-51b2686df4b2"
      },
      "outputs": [
        {
          "data": {
            "image/png": "[encoded data removed]",
            "text/plain": [
              "<Figure size 900x400 with 1 Axes>"
            ]
          },
          "metadata": {},
          "output_type": "display_data"
        }
      ],
      "source": [
        "#barplot of feature importance\n",
        "plt.figure(figsize=(9,4))\n",
        "sns.set(font_scale=0.7)\n",
        "plt.title('Feature Importance Plot',fontsize = 10)\n",
        "\n",
        "ax2 = sns.barplot(x=features_important.index,y='Q29_Encoded',data=features_important)\n",
        "ax2.set_xticklabels(ax2.get_xticklabels(),\n",
        "                         rotation=70,\n",
        "                         horizontalalignment='right')\n",
        "\n",
        "ax2.set(xlabel=None,ylabel=None)\n",
        "plt.show()"
      ]
    },
    {
      "cell_type": "markdown",
      "id": "hQvJl7BHYPVk",
      "metadata": {
        "id": "hQvJl7BHYPVk"
      },
      "source": [
        "Features with higher correlation with target variables have stronger importance. Features Q4, Q11, Q16, Q2, Q27, Q30, Q26, Q23_Manager, Q25, Q23_Data Analyst are the top 10 most important features to predict salaries."
      ]
    },
    {
      "cell_type": "markdown",
      "id": "fC6DORiwL5b_",
      "metadata": {
        "id": "fC6DORiwL5b_"
      },
      "source": [
        "## **Feature Selection**\n",
        "\n",
        "- Select the features based on the criteria of your choice"
      ]
    },
    {
      "cell_type": "code",
      "execution_count": null,
      "id": "gCoomZ8VqFSG",
      "metadata": {
        "colab": {
          "base_uri": "https://localhost:8080/"
        },
        "id": "gCoomZ8VqFSG",
        "outputId": "73b7cdb5-075b-46e1-8f2e-54aa57784edf"
      },
      "outputs": [
        {
          "name": "stdout",
          "output_type": "stream",
          "text": [
            "Selected features:\n",
            "['Q2' 'Q4' 'Q6_5' 'Q11' 'Q12_9' 'Q13_9' 'Q14_12' 'Q16' 'Q17_6' 'Q17_7'\n",
            " 'Q17_13' 'Q18_3' 'Q21_3' 'Q25' 'Q26' 'Q27' 'Q28_3' 'Q28_4' 'Q28_5' 'Q30'\n",
            " 'Q31_1' 'Q33_1' 'Q34_3' 'Q35_2' 'Q35_6' 'Q35_10' 'Q42_1' 'Q43'\n",
            " 'Q23_Data Analyst (Business, Marketing, Financial, Quantitative, etc)'\n",
            " 'Q23_Manager (Program, Project, Operations, Executive-level, etc)']\n"
          ]
        }
      ],
      "source": [
        "#use Chi-square to select top 30 features\n",
        "chi_selector = SelectKBest(score_func=chi2, k=30)\n",
        "features_set_new = chi_selector.fit_transform(features_set, target)\n",
        "#get the selected features name\n",
        "selected_features = df.columns.values[:-1][chi_selector.get_support()]\n",
        "\n",
        "print('Selected features:')\n",
        "print(selected_features)"
      ]
    },
    {
      "cell_type": "code",
      "execution_count": null,
      "id": "lw92jYTKItv6",
      "metadata": {
        "id": "lw92jYTKItv6"
      },
      "outputs": [],
      "source": [
        "train_df_selected = train_df[selected_features]"
      ]
    },
    {
      "cell_type": "markdown",
      "id": "RWu57xog0qGh",
      "metadata": {
        "id": "RWu57xog0qGh"
      },
      "source": [
        "## **Apply the same feature engineering/selection to test data**"
      ]
    },
    {
      "cell_type": "code",
      "execution_count": null,
      "id": "B9LzwwjUxqyb",
      "metadata": {
        "id": "B9LzwwjUxqyb"
      },
      "outputs": [],
      "source": [
        "#TODO: Feature generation code you applied to the training data (optional)\n",
        "\n",
        "# Leave selected features\n",
        "test_df_selected = test_df[selected_features]"
      ]
    },
    {
      "cell_type": "code",
      "execution_count": null,
      "id": "jie6Z6eQ9UBS",
      "metadata": {
        "id": "jie6Z6eQ9UBS"
      },
      "outputs": [],
      "source": [
        "X_train = train_df_selected.values\n",
        "X_test = test_df_selected.values\n",
        "y_train = y_train.values\n",
        "y_test = y_test.values"
      ]
    },
    {
      "cell_type": "markdown",
      "id": "ZiT8l3PX9m5F",
      "metadata": {
        "id": "ZiT8l3PX9m5F"
      },
      "source": [
        "# Question 3: Model Implementation"
      ]
    },
    {
      "cell_type": "markdown",
      "id": "7oBXbSYFL3Cs",
      "metadata": {
        "id": "7oBXbSYFL3Cs"
      },
      "source": [
        "## Implement Ordinal Logistic Regression Model"
      ]
    },
    {
      "cell_type": "code",
      "execution_count": null,
      "id": "yay4BS-j-Kzg",
      "metadata": {
        "id": "yay4BS-j-Kzg"
      },
      "outputs": [],
      "source": [
        "class OrdinalLogisticRegression():\n",
        "    # TODO: Add ordinal logreg hyperparameters as args to __init__\n",
        "    # A dummy hyperparameter is put as a placeholder for now\n",
        "    def __init__(self, max_iter=100, C=1.0, solver='lbfgs'):\n",
        "        self.C = C #TODO\n",
        "        self.max_iter = max_iter\n",
        "        self.solver = solver\n",
        "\n",
        "        self.classes_ = []\n",
        "        self.models_ = []\n",
        "\n",
        "    def fit(self, X, y):\n",
        "        self.classes_ = sorted(np.unique(y))\n",
        "        self.models_ = []\n",
        "\n",
        "        # Train k-1 binary logistic regression models\n",
        "        for i, c in enumerate(self.classes_[:-1]): # We need only k-1 classifiers\n",
        "            y_i = (y > c).astype(int) # TODO: label is 0 if the salary bucket is 0 to c, otherwise label is 1\n",
        "            model = LogisticRegression(max_iter=self.max_iter,C=self.C, solver=self.solver) # TODO: what machine learning model should be here?\n",
        "            model.fit(X, y_i)\n",
        "            self.models_.append(model)\n",
        "\n",
        "        return self\n",
        "\n",
        "    def predict_proba(self, X):\n",
        "        assert len(self.models_) > 0, \"Model is not fitted yet. Run .fit() first.\"\n",
        "\n",
        "        # Predicted probabilities for k-1 binary logistic regression models (initialize placeholders)\n",
        "        binary_probabilities = np.empty((X.shape[0], len(self.models_), 2), dtype=float)\n",
        "\n",
        "        # Make predictions of k-1 binary logistic regression models\n",
        "        for i, model in enumerate(self.models_):\n",
        "            binary_probabilities[:, i] = model.predict_proba(X) #TODO: predicted **probabilities** by the ith binary logistic regression model\n",
        "\n",
        "        # Compute the probabilities to be in each class\n",
        "        k = len(self.classes_)\n",
        "        proba = np.empty((X.shape[0], k), dtype=float) # predicted probabilities for all the data in X (shape=(X.shape[0], k))\n",
        "\n",
        "        proba[:, 0] = binary_probabilities[:, 0, 0] # 0th probability\n",
        "\n",
        "        for i in range(1, k-1):\n",
        "            # ith probability\n",
        "            # (prob of belonging to class 0 for the ith model - prob of belonging to class 0 for the (i-1)th model\n",
        "            proba[:, i] = binary_probabilities[:, i, 0] - binary_probabilities[:, i-1, 0]\n",
        "\n",
        "        proba[:, -1] = binary_probabilities[:, k-2, 1] # (k-1)th probability\n",
        "\n",
        "        assert (proba.sum(axis=1) == 1).all(), \\\n",
        "            'There is a problem in the probability computation'\n",
        "        return proba\n",
        "\n",
        "    def predict(self, X):\n",
        "        proba = self.predict_proba(X)\n",
        "        return np.argmax(proba, axis = 1)\n",
        "\n",
        "    # Add hyperparameters here whenever you add new ones\n",
        "    # max_iter is added as an example here. key is the hyperparameter name,\n",
        "    # and value is the attribute name you defined in this class\n",
        "    def get_params(self, deep=True):\n",
        "        return {'max_iter': self.max_iter,\n",
        "                'C': self.C,\n",
        "                'solver': self.solver}\n",
        "\n",
        "    # DO NOT CHANGE\n",
        "    def set_params(self, **parameters):\n",
        "        # Set estimator parameters\n",
        "        for parameter, value in parameters.items():\n",
        "            setattr(self, parameter, value)\n",
        "        return self"
      ]
    },
    {
      "cell_type": "markdown",
      "id": "rfTNn0Z6LuZK",
      "metadata": {
        "id": "rfTNn0Z6LuZK"
      },
      "source": [
        "## Run k-fold cross validation\n",
        "\n",
        "- Report the average/variance of accuracies across folds"
      ]
    },
    {
      "cell_type": "code",
      "execution_count": null,
      "id": "EMlrveWFH7kx",
      "metadata": {
        "colab": {
          "base_uri": "https://localhost:8080/"
        },
        "id": "EMlrveWFH7kx",
        "outputId": "52b7d157-a66f-4251-b1bf-ffdfe580936e"
      },
      "outputs": [
        {
          "name": "stdout",
          "output_type": "stream",
          "text": [
            "Fold 1 Accuracy: 42.281%\n",
            "Fold 2 Accuracy: 42.105%\n",
            "Fold 3 Accuracy: 43.684%\n",
            "Fold 4 Accuracy: 41.93%\n",
            "Fold 5 Accuracy: 43.158%\n",
            "Fold 6 Accuracy: 39.719%\n",
            "Fold 7 Accuracy: 40.246%\n",
            "Fold 8 Accuracy: 37.961%\n",
            "Fold 9 Accuracy: 42.882%\n",
            "Fold 10 Accuracy: 41.828%\n",
            "Average accuracy    : 41.57940986032744%\n",
            "Variance of accuracy:  2.79021674189634\n"
          ]
        }
      ],
      "source": [
        "accuracies = []\n",
        "\n",
        "#TODO: Perform 10-fold cross validation\n",
        "model = OrdinalLogisticRegression()\n",
        "#define 10 fold\n",
        "kfold = KFold(n_splits=10, shuffle=True, random_state=0)\n",
        "kfold.get_n_splits(X_train)\n",
        "fold_num = 0\n",
        "\n",
        "for train_idx, test_idx in kfold.split(X_train):\n",
        "    X_train_1, X_val = X_train[train_idx], X_train[test_idx]\n",
        "    y_train_1, y_val = y_train[train_idx], y_train[test_idx]\n",
        "\n",
        "    #train & evaluate model\n",
        "    model.fit(X_train, y_train)\n",
        "    y_pred = model.predict(X_val)\n",
        "\n",
        "    #get accuracy score\n",
        "    acc = (np.mean(y_pred == y_val))*100\n",
        "    accuracies.append(acc)\n",
        "\n",
        "    fold_num += 1\n",
        "    print(\"Fold {} Accuracy: {}%\".format(fold_num, round(acc,3)))\n",
        "\n",
        "print(\"Average accuracy    : {}%\".format( np.mean(accuracies)))\n",
        "print(\"Variance of accuracy: \", np.var(accuracies))"
      ]
    },
    {
      "cell_type": "markdown",
      "id": "sxu0cqPWMEIZ",
      "metadata": {
        "id": "sxu0cqPWMEIZ"
      },
      "source": [
        "## Bias-variance trade-off\n",
        "\n",
        "[bias_variance_decomp.py](https://github.com/rasbt/mlxtend/blob/master/mlxtend/evaluate/bias_variance_decomp.py)\n",
        "\n",
        "Below is a function you can use to compute the bias and variance of your ordinal logistic regression model. Using this function, analyze the ordinal logistic regression model performance based on bias-variance trade-off."
      ]
    },
    {
      "cell_type": "code",
      "execution_count": null,
      "id": "kTas4z9mLpjI",
      "metadata": {
        "id": "kTas4z9mLpjI"
      },
      "outputs": [],
      "source": [
        "def _draw_bootstrap_sample(rng, X, y):\n",
        "    sample_indices = np.arange(X.shape[0])\n",
        "    bootstrap_indices = rng.choice(\n",
        "        sample_indices, size=sample_indices.shape[0], replace=True\n",
        "    )\n",
        "    return X[bootstrap_indices], y[bootstrap_indices]\n",
        "\n",
        "def bias_variance_decomp(\n",
        "    estimator,\n",
        "    X_train,\n",
        "    y_train,\n",
        "    X_test,\n",
        "    y_test,\n",
        "    num_rounds=10,\n",
        "    random_seed=0\n",
        "):\n",
        "    \"\"\"\n",
        "    estimator : object\n",
        "        A classifier or regressor object or class implementing both a\n",
        "        `fit` and `predict` method similar to the scikit-learn API.\n",
        "\n",
        "    X_train : array-like, shape=(num_examples, num_features)\n",
        "        A training dataset for drawing the bootstrap samples to carry\n",
        "        out the bias-variance decomposition.\n",
        "\n",
        "    y_train : array-like, shape=(num_examples)\n",
        "        Targets (class labels, continuous values in case of regression)\n",
        "        associated with the `X_train` examples.\n",
        "\n",
        "    X_test : array-like, shape=(num_examples, num_features)\n",
        "        The test dataset for computing the average loss, bias,\n",
        "        and variance.\n",
        "\n",
        "    y_test : array-like, shape=(num_examples)\n",
        "        Targets (class labels, continuous values in case of regression)\n",
        "        associated with the `X_test` examples.\n",
        "\n",
        "    num_rounds : int (default=10)\n",
        "        Number of bootstrap rounds (sampling from the training set)\n",
        "        for performing the bias-variance decomposition. Each bootstrap\n",
        "        sample has the same size as the original training set.\n",
        "\n",
        "    random_seed : int (default=0)\n",
        "        Random seed for the bootstrap sampling used for the\n",
        "        bias-variance decomposition.\n",
        "\n",
        "    Returns\n",
        "    ----------\n",
        "    avg_bias, avg_var : returns the average bias, and average bias (all floats),\n",
        "                        where the average is computed over the data points\n",
        "                        in the test set.\n",
        "\n",
        "    \"\"\"\n",
        "    loss = \"mse\"\n",
        "\n",
        "    for ary in (X_train, y_train, X_test, y_test):\n",
        "        assert type(ary) == np.ndarray, \\\n",
        "            \"X_train, y_train, X_test, y_test have to be NumPy array. \\\n",
        "            If e.g., X_train is a pandas DataFrame, convert it to NumPy array \\\n",
        "            via X_train=X_train.values.\"\n",
        "\n",
        "    rng = np.random.RandomState(random_seed)\n",
        "\n",
        "    # All the predictions across different rounds\n",
        "    all_pred = np.zeros((num_rounds, y_test.shape[0]), dtype=np.float64)\n",
        "\n",
        "    for i in range(num_rounds):\n",
        "        # Randomly sample training data\n",
        "        X_boot, y_boot = _draw_bootstrap_sample(rng, X_train, y_train)\n",
        "\n",
        "        # Fit the model using the randomly sampled data\n",
        "        pred = estimator.fit(X_boot, y_boot).predict(X_test)\n",
        "        all_pred[i] = pred\n",
        "\n",
        "    # Mean prediction across runs using different dataset for each data point\n",
        "    main_predictions = np.mean(all_pred, axis=0)\n",
        "\n",
        "    # Average bias across different rounds\n",
        "    avg_bias = np.sum((main_predictions - y_test) ** 2) / y_test.size\n",
        "\n",
        "    # Average variance across different rounds\n",
        "    avg_var = np.sum((main_predictions - all_pred) ** 2) / all_pred.size\n",
        "\n",
        "    return avg_bias, avg_var"
      ]
    },
    {
      "cell_type": "code",
      "execution_count": null,
      "id": "IvfmmzCuMgyd",
      "metadata": {
        "id": "IvfmmzCuMgyd"
      },
      "outputs": [],
      "source": [
        "# Usage example\n",
        "model = OrdinalLogisticRegression()\n",
        "avg_bias, avg_var = \\\n",
        "    bias_variance_decomp(model, X_train, y_train, X_test, y_test, num_rounds=10, random_seed=0)"
      ]
    },
    {
      "cell_type": "code",
      "execution_count": null,
      "id": "HGhlEcj7MpVP",
      "metadata": {
        "colab": {
          "base_uri": "https://localhost:8080/"
        },
        "id": "HGhlEcj7MpVP",
        "outputId": "4f302459-a2a0-4b27-e454-62bba15050b7"
      },
      "outputs": [
        {
          "name": "stdout",
          "output_type": "stream",
          "text": [
            "16.03767308480131 1.5316837361736995\n"
          ]
        }
      ],
      "source": [
        "print(avg_bias, avg_var)"
      ]
    },
    {
      "cell_type": "markdown",
      "id": "VtDfp_g4QubI",
      "metadata": {
        "id": "VtDfp_g4QubI"
      },
      "source": [
        "Hyperparameter C has a direct impact on the bias-variance trade-off."
      ]
    },
    {
      "cell_type": "code",
      "execution_count": null,
      "id": "1UKn7k1KOnwd",
      "metadata": {
        "id": "1UKn7k1KOnwd"
      },
      "outputs": [],
      "source": [
        "#Discuss bias-variance trade-off of your ordinal logistic regression model\n",
        "#try different C values\n",
        "C_list = [0.0001,0.001,0.01,0.1,1,10,100,1000]\n",
        "\n",
        "#record results\n",
        "bias_list = []\n",
        "var_list = []\n",
        "mse_list = []\n",
        "\n",
        "for c in C_list:\n",
        "  #build model with different C values\n",
        "  model = OrdinalLogisticRegression(C=c)\n",
        "  #compute bias & variance\n",
        "  avg_bias, avg_var = \\\n",
        "    bias_variance_decomp(model, X_train, y_train, X_test, y_test, num_rounds=10, random_seed=0)\n",
        "  bias_list.append(avg_bias)\n",
        "  var_list.append(avg_var)\n",
        "  mse_list.append(avg_bias + avg_var)"
      ]
    },
    {
      "cell_type": "code",
      "execution_count": null,
      "id": "73hI-YnySnq-",
      "metadata": {
        "colab": {
          "base_uri": "https://localhost:8080/"
        },
        "id": "73hI-YnySnq-",
        "outputId": "720d3cb0-93f9-4d85-d556-08516082fdc2"
      },
      "outputs": [
        {
          "name": "stdout",
          "output_type": "stream",
          "text": [
            "Bias: [31.837591151167555, 22.4655223269152, 18.460467021712414, 16.40129045473167, 16.03767308480131, 16.005813191315035, 16.017038099139697, 16.020856206472757]\n"
          ]
        }
      ],
      "source": [
        "#bias result\n",
        "print(\"Bias:\", bias_list)"
      ]
    },
    {
      "cell_type": "code",
      "execution_count": null,
      "id": "o5GbfUGpSpxU",
      "metadata": {
        "colab": {
          "base_uri": "https://localhost:8080/"
        },
        "id": "o5GbfUGpSpxU",
        "outputId": "fd671cac-a708-4303-e678-52f7288fc178"
      },
      "outputs": [
        {
          "name": "stdout",
          "output_type": "stream",
          "text": [
            "Variance: [0.12791478902089307, 0.8459893486276115, 1.2545678000819336, 1.456104055714871, 1.5316837361736995, 1.607501024170422, 1.6128267103646046, 1.6097460057353543]\n"
          ]
        }
      ],
      "source": [
        "#variance result\n",
        "print(\"Variance:\", var_list)"
      ]
    },
    {
      "cell_type": "code",
      "execution_count": null,
      "id": "WhPeGXx0iCtz",
      "metadata": {
        "colab": {
          "base_uri": "https://localhost:8080/"
        },
        "id": "WhPeGXx0iCtz",
        "outputId": "9c919f56-d0fd-477a-ac44-660c21a6a099"
      },
      "outputs": [
        {
          "name": "stdout",
          "output_type": "stream",
          "text": [
            "MSE: [31.965505940188446, 23.31151167554281, 19.715034821794347, 17.85739451044654, 17.56935682097501, 17.613314215485456, 17.6298648095043, 17.63060221220811]\n"
          ]
        }
      ],
      "source": [
        "#MSE result\n",
        "print(\"MSE:\", mse_list)"
      ]
    },
    {
      "cell_type": "code",
      "execution_count": null,
      "id": "4WoZ0axkTyeK",
      "metadata": {
        "colab": {
          "base_uri": "https://localhost:8080/",
          "height": 470
        },
        "id": "4WoZ0axkTyeK",
        "outputId": "52c59c80-dc36-4617-8525-56d35c98c513"
      },
      "outputs": [
        {
          "data": {
            "image/png": "[encoded data removed]",
            "text/plain": [
              "<Figure size 640x480 with 1 Axes>"
            ]
          },
          "metadata": {},
          "output_type": "display_data"
        }
      ],
      "source": [
        "#plot bias & variance\n",
        "plt.plot(bias_list, label=\"Bias Squared\")\n",
        "plt.plot(var_list, label=\"Variance\")\n",
        "plt.xticks([0, 1, 2, 3, 4, 5, 6, 7], C_list, fontsize = 10)\n",
        "plt.legend()\n",
        "plt.xlabel('Value of C(Model Complexity)')\n",
        "plt.ylabel('Error')\n",
        "plt.title(\"Bias-Variance Trade-Off\")\n",
        "plt.show()"
      ]
    },
    {
      "cell_type": "code",
      "execution_count": null,
      "id": "U6sOxvjUqn16",
      "metadata": {
        "colab": {
          "base_uri": "https://localhost:8080/",
          "height": 470
        },
        "id": "U6sOxvjUqn16",
        "outputId": "55eb038d-746a-4242-e993-9fdf43431c47"
      },
      "outputs": [
        {
          "data": {
            "image/png": "[encoded data removed]",
            "text/plain": [
              "<Figure size 640x480 with 1 Axes>"
            ]
          },
          "metadata": {},
          "output_type": "display_data"
        }
      ],
      "source": [
        "#plot MSE\n",
        "plt.plot(mse_list)\n",
        "plt.xticks([0, 1, 2, 3, 4, 5, 6, 7], C_list, fontsize = 10)\n",
        "plt.xlabel('Value of C(Model Complexity)')\n",
        "plt.ylabel('MSE')\n",
        "plt.title(\"MSE plot\")\n",
        "plt.show()"
      ]
    },
    {
      "cell_type": "markdown",
      "id": "MaAmZ581TzOW",
      "metadata": {
        "id": "MaAmZ581TzOW"
      },
      "source": [
        "From the graphs, as C gets larger, the regularization effect decreases and hence model complexity increases. As model complexity increases, bias decreases variance increases."
      ]
    },
    {
      "cell_type": "markdown",
      "id": "2-TacjBumB2A",
      "metadata": {
        "id": "2-TacjBumB2A"
      },
      "source": [
        "The best value of C is 1. We want to avoid high bias because the model would be too simple and avoid high variance becasue the model would be complex to generalize on unseen data. Thus, we select the best C when bias and variance are minimized as much as possible, in other words, when MSE is minimized."
      ]
    },
    {
      "cell_type": "markdown",
      "id": "yM6x1l0ylEai",
      "metadata": {
        "id": "yM6x1l0ylEai"
      },
      "source": [
        "# Question 4: Model Tuning"
      ]
    },
    {
      "cell_type": "code",
      "execution_count": null,
      "id": "vrBAe8jEs8ap",
      "metadata": {
        "colab": {
          "base_uri": "https://localhost:8080/"
        },
        "id": "vrBAe8jEs8ap",
        "outputId": "5b62bf17-5ca5-4acd-b618-a61eb4da3437"
      },
      "outputs": [
        {
          "data": {
            "text/plain": [
              "0.0     3058\n",
              "1.0      792\n",
              "2.0      614\n",
              "3.0      464\n",
              "4.0      421\n",
              "10.0     404\n",
              "5.0      366\n",
              "12.0     342\n",
              "6.0      318\n",
              "7.0      289\n",
              "11.0     269\n",
              "13.0     233\n",
              "8.0      222\n",
              "9.0      197\n",
              "14.0     147\n",
              "Name: Q29_Encoded, dtype: int64"
            ]
          },
          "execution_count": 71,
          "metadata": {},
          "output_type": "execute_result"
        }
      ],
      "source": [
        "#distribution of target\n",
        "df['Q29_Encoded'].value_counts()"
      ]
    },
    {
      "cell_type": "markdown",
      "id": "l5zsFhaCuQDP",
      "metadata": {
        "id": "l5zsFhaCuQDP"
      },
      "source": [
        "From the distribution of target variable, we know that this dataset is highly imbalanced with over 37% is encoded as 0. So accuracy is not suitable in this case because the model can achieve high accuracy by always predicting the majority class. I chose F1 score as the proper criterion becasue it is a harmonic mean of precision and recall."
      ]
    },
    {
      "cell_type": "markdown",
      "id": "Yd1b-XDKlgYe",
      "metadata": {
        "id": "Yd1b-XDKlgYe"
      },
      "source": [
        "- What are the hyperparameters we can potentially set for our ordinal logistic regression model?\n",
        "- Which hyperparameters seem to be worthwhile to tune?"
      ]
    },
    {
      "cell_type": "markdown",
      "id": "c46lHWcEXeqC",
      "metadata": {
        "id": "c46lHWcEXeqC"
      },
      "source": [
        "Possible hyperparameters include penalty, dual, tol, C, fit_intercept, intercept_scaling, class_weight, random_state, solver, max_iter, multi_class,verbose, warm_start, n_jobs, l1_ratio."
      ]
    },
    {
      "cell_type": "markdown",
      "id": "7-jM5-Hcw-J_",
      "metadata": {
        "id": "7-jM5-Hcw-J_"
      },
      "source": [
        "I chose C and solver for model tuning."
      ]
    },
    {
      "cell_type": "markdown",
      "id": "hCqdrfV9nWEP",
      "metadata": {
        "id": "hCqdrfV9nWEP"
      },
      "source": [
        "## Grid Search\n",
        "\n",
        "- Grid search will take time to complete - but if it does not finish in a few hours, you're probably trying too many combinations\n",
        "- A recommended approach is to try a small number of combinations with a wide range first (for continuous value hyperparameters)! Then gradually increase the points that seem to be near optimal"
      ]
    },
    {
      "cell_type": "code",
      "execution_count": null,
      "id": "W2csig4uY7XO",
      "metadata": {
        "colab": {
          "base_uri": "https://localhost:8080/",
          "height": 118
        },
        "id": "W2csig4uY7XO",
        "outputId": "ef1d1afc-bd60-4efa-9fa7-6e9dc897180a"
      },
      "outputs": [
        {
          "data": {
            "text/html": [
              "<style>#sk-container-id-1 {color: black;background-color: white;}#sk-container-id-1 pre{padding: 0;}#sk-container-id-1 div.sk-toggleable {background-color: white;}#sk-container-id-1 label.sk-toggleable__label {cursor: pointer;display: block;width: 100%;margin-bottom: 0;padding: 0.3em;box-sizing: border-box;text-align: center;}#sk-container-id-1 label.sk-toggleable__label-arrow:before {content: \"▸\";float: left;margin-right: 0.25em;color: #696969;}#sk-container-id-1 label.sk-toggleable__label-arrow:hover:before {color: black;}#sk-container-id-1 div.sk-estimator:hover label.sk-toggleable__label-arrow:before {color: black;}#sk-container-id-1 div.sk-toggleable__content {max-height: 0;max-width: 0;overflow: hidden;text-align: left;background-color: #f0f8ff;}#sk-container-id-1 div.sk-toggleable__content pre {margin: 0.2em;color: black;border-radius: 0.25em;background-color: #f0f8ff;}#sk-container-id-1 input.sk-toggleable__control:checked~div.sk-toggleable__content {max-height: 200px;max-width: 100%;overflow: auto;}#sk-container-id-1 input.sk-toggleable__control:checked~label.sk-toggleable__label-arrow:before {content: \"▾\";}#sk-container-id-1 div.sk-estimator input.sk-toggleable__control:checked~label.sk-toggleable__label {background-color: #d4ebff;}#sk-container-id-1 div.sk-label input.sk-toggleable__control:checked~label.sk-toggleable__label {background-color: #d4ebff;}#sk-container-id-1 input.sk-hidden--visually {border: 0;clip: rect(1px 1px 1px 1px);clip: rect(1px, 1px, 1px, 1px);height: 1px;margin: -1px;overflow: hidden;padding: 0;position: absolute;width: 1px;}#sk-container-id-1 div.sk-estimator {font-family: monospace;background-color: #f0f8ff;border: 1px dotted black;border-radius: 0.25em;box-sizing: border-box;margin-bottom: 0.5em;}#sk-container-id-1 div.sk-estimator:hover {background-color: #d4ebff;}#sk-container-id-1 div.sk-parallel-item::after {content: \"\";width: 100%;border-bottom: 1px solid gray;flex-grow: 1;}#sk-container-id-1 div.sk-label:hover label.sk-toggleable__label {background-color: #d4ebff;}#sk-container-id-1 div.sk-serial::before {content: \"\";position: absolute;border-left: 1px solid gray;box-sizing: border-box;top: 0;bottom: 0;left: 50%;z-index: 0;}#sk-container-id-1 div.sk-serial {display: flex;flex-direction: column;align-items: center;background-color: white;padding-right: 0.2em;padding-left: 0.2em;position: relative;}#sk-container-id-1 div.sk-item {position: relative;z-index: 1;}#sk-container-id-1 div.sk-parallel {display: flex;align-items: stretch;justify-content: center;background-color: white;position: relative;}#sk-container-id-1 div.sk-item::before, #sk-container-id-1 div.sk-parallel-item::before {content: \"\";position: absolute;border-left: 1px solid gray;box-sizing: border-box;top: 0;bottom: 0;left: 50%;z-index: -1;}#sk-container-id-1 div.sk-parallel-item {display: flex;flex-direction: column;z-index: 1;position: relative;background-color: white;}#sk-container-id-1 div.sk-parallel-item:first-child::after {align-self: flex-end;width: 50%;}#sk-container-id-1 div.sk-parallel-item:last-child::after {align-self: flex-start;width: 50%;}#sk-container-id-1 div.sk-parallel-item:only-child::after {width: 0;}#sk-container-id-1 div.sk-dashed-wrapped {border: 1px dashed gray;margin: 0 0.4em 0.5em 0.4em;box-sizing: border-box;padding-bottom: 0.4em;background-color: white;}#sk-container-id-1 div.sk-label label {font-family: monospace;font-weight: bold;display: inline-block;line-height: 1.2em;}#sk-container-id-1 div.sk-label-container {text-align: center;}#sk-container-id-1 div.sk-container {/* jupyter's `normalize.less` sets `[hidden] { display: none; }` but bootstrap.min.css set `[hidden] { display: none !important; }` so we also need the `!important` here to be able to override the default hidden behavior on the sphinx rendered scikit-learn.org. See: https://github.com/scikit-learn/scikit-learn/issues/21755 */display: inline-block !important;position: relative;}#sk-container-id-1 div.sk-text-repr-fallback {display: none;}</style><div id=\"sk-container-id-1\" class=\"sk-top-container\"><div class=\"sk-text-repr-fallback\"><pre>GridSearchCV(cv=10,\n",
              "             estimator=&lt;__main__.OrdinalLogisticRegression object at 0x791a5393d120&gt;,\n",
              "             param_grid={&#x27;C&#x27;: [0.0001, 0.001, 0.01, 0.1, 1, 10, 100, 1000],\n",
              "                         &#x27;solver&#x27;: [&#x27;lbfgs&#x27;, &#x27;liblinear&#x27;, &#x27;newton-cg&#x27;,\n",
              "                                    &#x27;newton-cholesky&#x27;, &#x27;sag&#x27;, &#x27;saga&#x27;]},\n",
              "             scoring=&#x27;f1_macro&#x27;)</pre><b>In a Jupyter environment, please rerun this cell to show the HTML representation or trust the notebook. <br />On GitHub, the HTML representation is unable to render, please try loading this page with nbviewer.org.</b></div><div class=\"sk-container\" hidden><div class=\"sk-item sk-dashed-wrapped\"><div class=\"sk-label-container\"><div class=\"sk-label sk-toggleable\"><input class=\"sk-toggleable__control sk-hidden--visually\" id=\"sk-estimator-id-1\" type=\"checkbox\" ><label for=\"sk-estimator-id-1\" class=\"sk-toggleable__label sk-toggleable__label-arrow\">GridSearchCV</label><div class=\"sk-toggleable__content\"><pre>GridSearchCV(cv=10,\n",
              "             estimator=&lt;__main__.OrdinalLogisticRegression object at 0x791a5393d120&gt;,\n",
              "             param_grid={&#x27;C&#x27;: [0.0001, 0.001, 0.01, 0.1, 1, 10, 100, 1000],\n",
              "                         &#x27;solver&#x27;: [&#x27;lbfgs&#x27;, &#x27;liblinear&#x27;, &#x27;newton-cg&#x27;,\n",
              "                                    &#x27;newton-cholesky&#x27;, &#x27;sag&#x27;, &#x27;saga&#x27;]},\n",
              "             scoring=&#x27;f1_macro&#x27;)</pre></div></div></div><div class=\"sk-parallel\"><div class=\"sk-parallel-item\"><div class=\"sk-item\"><div class=\"sk-label-container\"><div class=\"sk-label sk-toggleable\"><input class=\"sk-toggleable__control sk-hidden--visually\" id=\"sk-estimator-id-2\" type=\"checkbox\" ><label for=\"sk-estimator-id-2\" class=\"sk-toggleable__label sk-toggleable__label-arrow\">estimator: OrdinalLogisticRegression</label><div class=\"sk-toggleable__content\"><pre>&lt;__main__.OrdinalLogisticRegression object at 0x791a5393d120&gt;</pre></div></div></div><div class=\"sk-serial\"><div class=\"sk-item\"><div class=\"sk-estimator sk-toggleable\"><input class=\"sk-toggleable__control sk-hidden--visually\" id=\"sk-estimator-id-3\" type=\"checkbox\" ><label for=\"sk-estimator-id-3\" class=\"sk-toggleable__label sk-toggleable__label-arrow\">OrdinalLogisticRegression</label><div class=\"sk-toggleable__content\"><pre>&lt;__main__.OrdinalLogisticRegression object at 0x791a5393d120&gt;</pre></div></div></div></div></div></div></div></div></div></div>"
            ],
            "text/plain": [
              "GridSearchCV(cv=10,\n",
              "             estimator=<__main__.OrdinalLogisticRegression object at 0x791a5393d120>,\n",
              "             param_grid={'C': [0.0001, 0.001, 0.01, 0.1, 1, 10, 100, 1000],\n",
              "                         'solver': ['lbfgs', 'liblinear', 'newton-cg',\n",
              "                                    'newton-cholesky', 'sag', 'saga']},\n",
              "             scoring='f1_macro')"
            ]
          },
          "execution_count": 72,
          "metadata": {},
          "output_type": "execute_result"
        }
      ],
      "source": [
        "from sklearn.model_selection import GridSearchCV\n",
        "\n",
        "#Perform grid search using a proper criteria and identify the best parameter set\n",
        "model = OrdinalLogisticRegression()\n",
        "#define range of values for parameters we want to search\n",
        "param = {'C':[0.0001,0.001,0.01,0.1,1,10,100,1000],\n",
        "         'solver':['lbfgs', 'liblinear', 'newton-cg', 'newton-cholesky', 'sag', 'saga']}\n",
        "\n",
        "gridsearch = GridSearchCV(estimator=model, param_grid=param, cv=10, scoring='f1_macro')\n",
        "gridsearch.fit(X_train, y_train)"
      ]
    },
    {
      "cell_type": "code",
      "execution_count": null,
      "id": "aWkyQa243lA1",
      "metadata": {
        "colab": {
          "base_uri": "https://localhost:8080/"
        },
        "id": "aWkyQa243lA1",
        "outputId": "5aeb8926-4066-4a87-b0da-6489ef7118a2"
      },
      "outputs": [
        {
          "name": "stdout",
          "output_type": "stream",
          "text": [
            "Best parameters from gridsearch: {'C': 1000, 'solver': 'lbfgs'}\n",
            "Best F1 score: 0.10551745950172065\n"
          ]
        }
      ],
      "source": [
        "print(\"Best parameters from gridsearch: {}\".format(gridsearch.best_params_))\n",
        "print(\"Best F1 score: {}\".format(gridsearch.best_score_))"
      ]
    },
    {
      "cell_type": "code",
      "execution_count": null,
      "id": "FwFMzgPhJBOR",
      "metadata": {
        "colab": {
          "base_uri": "https://localhost:8080/"
        },
        "id": "FwFMzgPhJBOR",
        "outputId": "20f32c5a-784c-4221-ce01-52cc417ef7a7"
      },
      "outputs": [
        {
          "name": "stdout",
          "output_type": "stream",
          "text": [
            "Fold 1 F1 Score: 0.136\n",
            "Fold 2 F1 Score: 0.134\n",
            "Fold 3 F1 Score: 0.151\n",
            "Fold 4 F1 Score: 0.117\n",
            "Fold 5 F1 Score: 0.146\n",
            "Fold 6 F1 Score: 0.109\n",
            "Fold 7 F1 Score: 0.143\n",
            "Fold 8 F1 Score: 0.095\n",
            "Fold 9 F1 Score: 0.177\n",
            "Fold 10 F1 Score: 0.135\n",
            "F1 Score before tuning: 0.13437334785505123\n"
          ]
        }
      ],
      "source": [
        "#compute F1 score before tuning for comparison\n",
        "from sklearn.metrics import f1_score\n",
        "\n",
        "f1_list = []\n",
        "model_before = OrdinalLogisticRegression()\n",
        "#define 10 fold\n",
        "kfold = KFold(n_splits=10, shuffle=True, random_state=0)\n",
        "kfold.get_n_splits(X_train)\n",
        "fold_num = 0\n",
        "\n",
        "for train_idx, test_idx in kfold.split(X_train):\n",
        "    X_train_1, X_val = X_train[train_idx], X_train[test_idx]\n",
        "    y_train_1, y_val = y_train[train_idx], y_train[test_idx]\n",
        "\n",
        "    #train & evaluate model\n",
        "    model_before.fit(X_train, y_train)\n",
        "    y_pred = model_before.predict(X_val)\n",
        "\n",
        "    #get f1 score\n",
        "    f1 = f1_score(y_val, y_pred, average='macro')\n",
        "    f1_list.append(f1)\n",
        "\n",
        "    fold_num += 1\n",
        "    print(\"Fold {} F1 Score: {}\".format(fold_num, round(f1,3)))\n",
        "\n",
        "print(\"F1 Score before tuning: {}\".format(np.mean(f1_list)))"
      ]
    },
    {
      "cell_type": "markdown",
      "id": "EYMOYWMgPfZ3",
      "metadata": {
        "id": "EYMOYWMgPfZ3"
      },
      "source": [
        "The best set of parameters are C=1000 and solver=lbfgs. The best F1 score is 0.10551745950172065 while the F1 score before tuning is 0.13437334785505123."
      ]
    },
    {
      "cell_type": "markdown",
      "id": "4E7snhc_oCna",
      "metadata": {
        "id": "4E7snhc_oCna"
      },
      "source": [
        "## Visualize the feature importance of your model"
      ]
    },
    {
      "cell_type": "markdown",
      "id": "zGo3xsx5RtO1",
      "metadata": {
        "id": "zGo3xsx5RtO1"
      },
      "source": [
        "I use model coefficients to represent feature importance in ordinal logistic regression. The bigger the magnitude of an coefficient indicates more importance for a feature. Since we have k-1 classifiers and each classifier has one set of coefficients, I decided to use the average coefficients across classifiers as the coefficients for features."
      ]
    },
    {
      "cell_type": "code",
      "execution_count": null,
      "id": "p0uxuBLVlqh2",
      "metadata": {
        "id": "p0uxuBLVlqh2"
      },
      "outputs": [],
      "source": [
        "#set the best-performing hyperparameters identified via grid search\n",
        "best_model = OrdinalLogisticRegression(C=1000, solver='lbfgs')\n",
        "#fit model\n",
        "best_model = best_model.fit(X_train, y_train)\n",
        "#calculate average coef across 14 classifiers\n",
        "coef = np.zeros(len(best_model.models_[0].coef_[0]))\n",
        "for i in range(len(best_model.models_)):\n",
        "  coef = np.add(best_model.models_[i].coef_[0], coef)\n",
        "\n",
        "coef = coef/len(best_model.models_)"
      ]
    },
    {
      "cell_type": "code",
      "execution_count": null,
      "id": "zYbyJct9esPu",
      "metadata": {
        "colab": {
          "base_uri": "https://localhost:8080/",
          "height": 990
        },
        "id": "zYbyJct9esPu",
        "outputId": "61dd8c5c-10d8-4556-c310-c42dc78d663b"
      },
      "outputs": [
        {
          "data": {
            "application/vnd.google.colaboratory.intrinsic+json": {
              "summary": "{\n  \"name\": \"df_importance\",\n  \"rows\": 30,\n  \"fields\": [\n    {\n      \"column\": \"Coef\",\n      \"properties\": {\n        \"dtype\": \"number\",\n        \"std\": 0.2538850615563743,\n        \"min\": -0.47161515554107014,\n        \"max\": 0.8076252284685328,\n        \"num_unique_values\": 30,\n        \"samples\": [\n          0.04826165330642402,\n          0.15210156496593147,\n          0.08743446363008207\n        ],\n        \"semantic_type\": \"\",\n        \"description\": \"\"\n      }\n    }\n  ]\n}",
              "type": "dataframe",
              "variable_name": "df_importance"
            },
            "text/html": [
              "\n",
              "  <div id=\"df-e9e93c40-81c9-4381-b9c6-e41b3de20c09\" class=\"colab-df-container\">\n",
              "    <div>\n",
              "<style scoped>\n",
              "    .dataframe tbody tr th:only-of-type {\n",
              "        vertical-align: middle;\n",
              "    }\n",
              "\n",
              "    .dataframe tbody tr th {\n",
              "        vertical-align: top;\n",
              "    }\n",
              "\n",
              "    .dataframe thead th {\n",
              "        text-align: right;\n",
              "    }\n",
              "</style>\n",
              "<table border=\"1\" class=\"dataframe\">\n",
              "  <thead>\n",
              "    <tr style=\"text-align: right;\">\n",
              "      <th></th>\n",
              "      <th>Coef</th>\n",
              "    </tr>\n",
              "  </thead>\n",
              "  <tbody>\n",
              "    <tr>\n",
              "      <th>Q23_Manager (Program, Project, Operations, Executive-level, etc)</th>\n",
              "      <td>0.807625</td>\n",
              "    </tr>\n",
              "    <tr>\n",
              "      <th>Q4</th>\n",
              "      <td>0.745099</td>\n",
              "    </tr>\n",
              "    <tr>\n",
              "      <th>Q35_6</th>\n",
              "      <td>0.486688</td>\n",
              "    </tr>\n",
              "    <tr>\n",
              "      <th>Q42_1</th>\n",
              "      <td>-0.471615</td>\n",
              "    </tr>\n",
              "    <tr>\n",
              "      <th>Q6_5</th>\n",
              "      <td>0.471079</td>\n",
              "    </tr>\n",
              "    <tr>\n",
              "      <th>Q35_10</th>\n",
              "      <td>0.385983</td>\n",
              "    </tr>\n",
              "    <tr>\n",
              "      <th>Q21_3</th>\n",
              "      <td>0.344869</td>\n",
              "    </tr>\n",
              "    <tr>\n",
              "      <th>Q28_5</th>\n",
              "      <td>0.247764</td>\n",
              "    </tr>\n",
              "    <tr>\n",
              "      <th>Q34_3</th>\n",
              "      <td>0.214576</td>\n",
              "    </tr>\n",
              "    <tr>\n",
              "      <th>Q31_1</th>\n",
              "      <td>0.212941</td>\n",
              "    </tr>\n",
              "    <tr>\n",
              "      <th>Q30</th>\n",
              "      <td>0.204996</td>\n",
              "    </tr>\n",
              "    <tr>\n",
              "      <th>Q14_12</th>\n",
              "      <td>0.198078</td>\n",
              "    </tr>\n",
              "    <tr>\n",
              "      <th>Q12_9</th>\n",
              "      <td>0.172077</td>\n",
              "    </tr>\n",
              "    <tr>\n",
              "      <th>Q11</th>\n",
              "      <td>0.154821</td>\n",
              "    </tr>\n",
              "    <tr>\n",
              "      <th>Q27</th>\n",
              "      <td>0.154411</td>\n",
              "    </tr>\n",
              "    <tr>\n",
              "      <th>Q2</th>\n",
              "      <td>0.152102</td>\n",
              "    </tr>\n",
              "    <tr>\n",
              "      <th>Q35_2</th>\n",
              "      <td>-0.150041</td>\n",
              "    </tr>\n",
              "    <tr>\n",
              "      <th>Q28_3</th>\n",
              "      <td>0.148812</td>\n",
              "    </tr>\n",
              "    <tr>\n",
              "      <th>Q13_9</th>\n",
              "      <td>0.134776</td>\n",
              "    </tr>\n",
              "    <tr>\n",
              "      <th>Q25</th>\n",
              "      <td>0.127461</td>\n",
              "    </tr>\n",
              "    <tr>\n",
              "      <th>Q26</th>\n",
              "      <td>0.102122</td>\n",
              "    </tr>\n",
              "    <tr>\n",
              "      <th>Q33_1</th>\n",
              "      <td>-0.098467</td>\n",
              "    </tr>\n",
              "    <tr>\n",
              "      <th>Q17_7</th>\n",
              "      <td>-0.096849</td>\n",
              "    </tr>\n",
              "    <tr>\n",
              "      <th>Q16</th>\n",
              "      <td>0.087434</td>\n",
              "    </tr>\n",
              "    <tr>\n",
              "      <th>Q23_Data Analyst (Business, Marketing, Financial, Quantitative, etc)</th>\n",
              "      <td>-0.083257</td>\n",
              "    </tr>\n",
              "    <tr>\n",
              "      <th>Q17_6</th>\n",
              "      <td>0.071935</td>\n",
              "    </tr>\n",
              "    <tr>\n",
              "      <th>Q18_3</th>\n",
              "      <td>-0.062591</td>\n",
              "    </tr>\n",
              "    <tr>\n",
              "      <th>Q17_13</th>\n",
              "      <td>0.048262</td>\n",
              "    </tr>\n",
              "    <tr>\n",
              "      <th>Q28_4</th>\n",
              "      <td>0.033298</td>\n",
              "    </tr>\n",
              "    <tr>\n",
              "      <th>Q43</th>\n",
              "      <td>0.024765</td>\n",
              "    </tr>\n",
              "  </tbody>\n",
              "</table>\n",
              "</div>\n",
              "    <div class=\"colab-df-buttons\">\n",
              "\n",
              "  <div class=\"colab-df-container\">\n",
              "    <button class=\"colab-df-convert\" onclick=\"convertToInteractive('df-e9e93c40-81c9-4381-b9c6-e41b3de20c09')\"\n",
              "            title=\"Convert this dataframe to an interactive table.\"\n",
              "            style=\"display:none;\">\n",
              "\n",
              "  <svg xmlns=\"http://www.w3.org/2000/svg\" height=\"24px\" viewBox=\"0 -960 960 960\">\n",
              "    <path d=\"M120-120v-720h720v720H120Zm60-500h600v-160H180v160Zm220 220h160v-160H400v160Zm0 220h160v-160H400v160ZM180-400h160v-160H180v160Zm440 0h160v-160H620v160ZM180-180h160v-160H180v160Zm440 0h160v-160H620v160Z\"/>\n",
              "  </svg>\n",
              "    </button>\n",
              "\n",
              "  <style>\n",
              "    .colab-df-container {\n",
              "      display:flex;\n",
              "      gap: 12px;\n",
              "    }\n",
              "\n",
              "    .colab-df-convert {\n",
              "      background-color: #E8F0FE;\n",
              "      border: none;\n",
              "      border-radius: 50%;\n",
              "      cursor: pointer;\n",
              "      display: none;\n",
              "      fill: #1967D2;\n",
              "      height: 32px;\n",
              "      padding: 0 0 0 0;\n",
              "      width: 32px;\n",
              "    }\n",
              "\n",
              "    .colab-df-convert:hover {\n",
              "      background-color: #E2EBFA;\n",
              "      box-shadow: 0px 1px 2px rgba(60, 64, 67, 0.3), 0px 1px 3px 1px rgba(60, 64, 67, 0.15);\n",
              "      fill: #174EA6;\n",
              "    }\n",
              "\n",
              "    .colab-df-buttons div {\n",
              "      margin-bottom: 4px;\n",
              "    }\n",
              "\n",
              "    [theme=dark] .colab-df-convert {\n",
              "      background-color: #3B4455;\n",
              "      fill: #D2E3FC;\n",
              "    }\n",
              "\n",
              "    [theme=dark] .colab-df-convert:hover {\n",
              "      background-color: #434B5C;\n",
              "      box-shadow: 0px 1px 3px 1px rgba(0, 0, 0, 0.15);\n",
              "      filter: drop-shadow(0px 1px 2px rgba(0, 0, 0, 0.3));\n",
              "      fill: #FFFFFF;\n",
              "    }\n",
              "  </style>\n",
              "\n",
              "    <script>\n",
              "      const buttonEl =\n",
              "        document.querySelector('#df-e9e93c40-81c9-4381-b9c6-e41b3de20c09 button.colab-df-convert');\n",
              "      buttonEl.style.display =\n",
              "        google.colab.kernel.accessAllowed ? 'block' : 'none';\n",
              "\n",
              "      async function convertToInteractive(key) {\n",
              "        const element = document.querySelector('#df-e9e93c40-81c9-4381-b9c6-e41b3de20c09');\n",
              "        const dataTable =\n",
              "          await google.colab.kernel.invokeFunction('convertToInteractive',\n",
              "                                                    [key], {});\n",
              "        if (!dataTable) return;\n",
              "\n",
              "        const docLinkHtml = 'Like what you see? Visit the ' +\n",
              "          '<a target=\"_blank\" href=https://colab.research.google.com/notebooks/data_table.ipynb>data table notebook</a>'\n",
              "          + ' to learn more about interactive tables.';\n",
              "        element.innerHTML = '';\n",
              "        dataTable['output_type'] = 'display_data';\n",
              "        await google.colab.output.renderOutput(dataTable, element);\n",
              "        const docLink = document.createElement('div');\n",
              "        docLink.innerHTML = docLinkHtml;\n",
              "        element.appendChild(docLink);\n",
              "      }\n",
              "    </script>\n",
              "  </div>\n",
              "\n",
              "\n",
              "<div id=\"df-ff6b4cc0-a2fa-4cc2-b071-bd8a2a715594\">\n",
              "  <button class=\"colab-df-quickchart\" onclick=\"quickchart('df-ff6b4cc0-a2fa-4cc2-b071-bd8a2a715594')\"\n",
              "            title=\"Suggest charts\"\n",
              "            style=\"display:none;\">\n",
              "\n",
              "<svg xmlns=\"http://www.w3.org/2000/svg\" height=\"24px\"viewBox=\"0 0 24 24\"\n",
              "     width=\"24px\">\n",
              "    <g>\n",
              "        <path d=\"M19 3H5c-1.1 0-2 .9-2 2v14c0 1.1.9 2 2 2h14c1.1 0 2-.9 2-2V5c0-1.1-.9-2-2-2zM9 17H7v-7h2v7zm4 0h-2V7h2v10zm4 0h-2v-4h2v4z\"/>\n",
              "    </g>\n",
              "</svg>\n",
              "  </button>\n",
              "\n",
              "<style>\n",
              "  .colab-df-quickchart {\n",
              "      --bg-color: #E8F0FE;\n",
              "      --fill-color: #1967D2;\n",
              "      --hover-bg-color: #E2EBFA;\n",
              "      --hover-fill-color: #174EA6;\n",
              "      --disabled-fill-color: #AAA;\n",
              "      --disabled-bg-color: #DDD;\n",
              "  }\n",
              "\n",
              "  [theme=dark] .colab-df-quickchart {\n",
              "      --bg-color: #3B4455;\n",
              "      --fill-color: #D2E3FC;\n",
              "      --hover-bg-color: #434B5C;\n",
              "      --hover-fill-color: #FFFFFF;\n",
              "      --disabled-bg-color: #3B4455;\n",
              "      --disabled-fill-color: #666;\n",
              "  }\n",
              "\n",
              "  .colab-df-quickchart {\n",
              "    background-color: var(--bg-color);\n",
              "    border: none;\n",
              "    border-radius: 50%;\n",
              "    cursor: pointer;\n",
              "    display: none;\n",
              "    fill: var(--fill-color);\n",
              "    height: 32px;\n",
              "    padding: 0;\n",
              "    width: 32px;\n",
              "  }\n",
              "\n",
              "  .colab-df-quickchart:hover {\n",
              "    background-color: var(--hover-bg-color);\n",
              "    box-shadow: 0 1px 2px rgba(60, 64, 67, 0.3), 0 1px 3px 1px rgba(60, 64, 67, 0.15);\n",
              "    fill: var(--button-hover-fill-color);\n",
              "  }\n",
              "\n",
              "  .colab-df-quickchart-complete:disabled,\n",
              "  .colab-df-quickchart-complete:disabled:hover {\n",
              "    background-color: var(--disabled-bg-color);\n",
              "    fill: var(--disabled-fill-color);\n",
              "    box-shadow: none;\n",
              "  }\n",
              "\n",
              "  .colab-df-spinner {\n",
              "    border: 2px solid var(--fill-color);\n",
              "    border-color: transparent;\n",
              "    border-bottom-color: var(--fill-color);\n",
              "    animation:\n",
              "      spin 1s steps(1) infinite;\n",
              "  }\n",
              "\n",
              "  @keyframes spin {\n",
              "    0% {\n",
              "      border-color: transparent;\n",
              "      border-bottom-color: var(--fill-color);\n",
              "      border-left-color: var(--fill-color);\n",
              "    }\n",
              "    20% {\n",
              "      border-color: transparent;\n",
              "      border-left-color: var(--fill-color);\n",
              "      border-top-color: var(--fill-color);\n",
              "    }\n",
              "    30% {\n",
              "      border-color: transparent;\n",
              "      border-left-color: var(--fill-color);\n",
              "      border-top-color: var(--fill-color);\n",
              "      border-right-color: var(--fill-color);\n",
              "    }\n",
              "    40% {\n",
              "      border-color: transparent;\n",
              "      border-right-color: var(--fill-color);\n",
              "      border-top-color: var(--fill-color);\n",
              "    }\n",
              "    60% {\n",
              "      border-color: transparent;\n",
              "      border-right-color: var(--fill-color);\n",
              "    }\n",
              "    80% {\n",
              "      border-color: transparent;\n",
              "      border-right-color: var(--fill-color);\n",
              "      border-bottom-color: var(--fill-color);\n",
              "    }\n",
              "    90% {\n",
              "      border-color: transparent;\n",
              "      border-bottom-color: var(--fill-color);\n",
              "    }\n",
              "  }\n",
              "</style>\n",
              "\n",
              "  <script>\n",
              "    async function quickchart(key) {\n",
              "      const quickchartButtonEl =\n",
              "        document.querySelector('#' + key + ' button');\n",
              "      quickchartButtonEl.disabled = true;  // To prevent multiple clicks.\n",
              "      quickchartButtonEl.classList.add('colab-df-spinner');\n",
              "      try {\n",
              "        const charts = await google.colab.kernel.invokeFunction(\n",
              "            'suggestCharts', [key], {});\n",
              "      } catch (error) {\n",
              "        console.error('Error during call to suggestCharts:', error);\n",
              "      }\n",
              "      quickchartButtonEl.classList.remove('colab-df-spinner');\n",
              "      quickchartButtonEl.classList.add('colab-df-quickchart-complete');\n",
              "    }\n",
              "    (() => {\n",
              "      let quickchartButtonEl =\n",
              "        document.querySelector('#df-ff6b4cc0-a2fa-4cc2-b071-bd8a2a715594 button');\n",
              "      quickchartButtonEl.style.display =\n",
              "        google.colab.kernel.accessAllowed ? 'block' : 'none';\n",
              "    })();\n",
              "  </script>\n",
              "</div>\n",
              "\n",
              "  <div id=\"id_5954b698-c4e5-44b1-b26f-85d5fc3d3f40\">\n",
              "    <style>\n",
              "      .colab-df-generate {\n",
              "        background-color: #E8F0FE;\n",
              "        border: none;\n",
              "        border-radius: 50%;\n",
              "        cursor: pointer;\n",
              "        display: none;\n",
              "        fill: #1967D2;\n",
              "        height: 32px;\n",
              "        padding: 0 0 0 0;\n",
              "        width: 32px;\n",
              "      }\n",
              "\n",
              "      .colab-df-generate:hover {\n",
              "        background-color: #E2EBFA;\n",
              "        box-shadow: 0px 1px 2px rgba(60, 64, 67, 0.3), 0px 1px 3px 1px rgba(60, 64, 67, 0.15);\n",
              "        fill: #174EA6;\n",
              "      }\n",
              "\n",
              "      [theme=dark] .colab-df-generate {\n",
              "        background-color: #3B4455;\n",
              "        fill: #D2E3FC;\n",
              "      }\n",
              "\n",
              "      [theme=dark] .colab-df-generate:hover {\n",
              "        background-color: #434B5C;\n",
              "        box-shadow: 0px 1px 3px 1px rgba(0, 0, 0, 0.15);\n",
              "        filter: drop-shadow(0px 1px 2px rgba(0, 0, 0, 0.3));\n",
              "        fill: #FFFFFF;\n",
              "      }\n",
              "    </style>\n",
              "    <button class=\"colab-df-generate\" onclick=\"generateWithVariable('df_importance')\"\n",
              "            title=\"Generate code using this dataframe.\"\n",
              "            style=\"display:none;\">\n",
              "\n",
              "  <svg xmlns=\"http://www.w3.org/2000/svg\" height=\"24px\"viewBox=\"0 0 24 24\"\n",
              "       width=\"24px\">\n",
              "    <path d=\"M7,19H8.4L18.45,9,17,7.55,7,17.6ZM5,21V16.75L18.45,3.32a2,2,0,0,1,2.83,0l1.4,1.43a1.91,1.91,0,0,1,.58,1.4,1.91,1.91,0,0,1-.58,1.4L9.25,21ZM18.45,9,17,7.55Zm-12,3A5.31,5.31,0,0,0,4.9,8.1,5.31,5.31,0,0,0,1,6.5,5.31,5.31,0,0,0,4.9,4.9,5.31,5.31,0,0,0,6.5,1,5.31,5.31,0,0,0,8.1,4.9,5.31,5.31,0,0,0,12,6.5,5.46,5.46,0,0,0,6.5,12Z\"/>\n",
              "  </svg>\n",
              "    </button>\n",
              "    <script>\n",
              "      (() => {\n",
              "      const buttonEl =\n",
              "        document.querySelector('#id_5954b698-c4e5-44b1-b26f-85d5fc3d3f40 button.colab-df-generate');\n",
              "      buttonEl.style.display =\n",
              "        google.colab.kernel.accessAllowed ? 'block' : 'none';\n",
              "\n",
              "      buttonEl.onclick = () => {\n",
              "        google.colab.notebook.generateWithVariable('df_importance');\n",
              "      }\n",
              "      })();\n",
              "    </script>\n",
              "  </div>\n",
              "\n",
              "    </div>\n",
              "  </div>\n"
            ],
            "text/plain": [
              "                                                        Coef\n",
              "Q23_Manager (Program, Project, Operations, Exec...  0.807625\n",
              "Q4                                                  0.745099\n",
              "Q35_6                                               0.486688\n",
              "Q42_1                                              -0.471615\n",
              "Q6_5                                                0.471079\n",
              "Q35_10                                              0.385983\n",
              "Q21_3                                               0.344869\n",
              "Q28_5                                               0.247764\n",
              "Q34_3                                               0.214576\n",
              "Q31_1                                               0.212941\n",
              "Q30                                                 0.204996\n",
              "Q14_12                                              0.198078\n",
              "Q12_9                                               0.172077\n",
              "Q11                                                 0.154821\n",
              "Q27                                                 0.154411\n",
              "Q2                                                  0.152102\n",
              "Q35_2                                              -0.150041\n",
              "Q28_3                                               0.148812\n",
              "Q13_9                                               0.134776\n",
              "Q25                                                 0.127461\n",
              "Q26                                                 0.102122\n",
              "Q33_1                                              -0.098467\n",
              "Q17_7                                              -0.096849\n",
              "Q16                                                 0.087434\n",
              "Q23_Data Analyst (Business, Marketing, Financia... -0.083257\n",
              "Q17_6                                               0.071935\n",
              "Q18_3                                              -0.062591\n",
              "Q17_13                                              0.048262\n",
              "Q28_4                                               0.033298\n",
              "Q43                                                 0.024765"
            ]
          },
          "execution_count": 76,
          "metadata": {},
          "output_type": "execute_result"
        }
      ],
      "source": [
        "#attach features name for interpretation\n",
        "df_importance = pd.DataFrame(data=coef, index=selected_features, columns=['Coef'])\n",
        "df_importance = df_importance.sort_values(by='Coef',key=abs,ascending = False)\n",
        "df_importance"
      ]
    },
    {
      "cell_type": "code",
      "execution_count": null,
      "id": "9vHrcM_7maIX",
      "metadata": {
        "colab": {
          "base_uri": "https://localhost:8080/",
          "height": 800
        },
        "id": "9vHrcM_7maIX",
        "outputId": "d72ae44d-dfb3-4338-90f0-b1872dbc3fde"
      },
      "outputs": [
        {
          "data": {
            "image/png": "[encoded data removed]",
            "text/plain": [
              "<Figure size 800x500 with 1 Axes>"
            ]
          },
          "metadata": {},
          "output_type": "display_data"
        }
      ],
      "source": [
        "#Visualize feature importance of the ordinal logistic regression model\n",
        "plt.figure(figsize=(8,5))\n",
        "plt.title('Feature Importance Plot',fontsize = 10)\n",
        "ax3 = sns.barplot(x=df_importance.index, y='Coef', data=df_importance)\n",
        "ax3.set_xticklabels(ax3.get_xticklabels(),\n",
        "                         rotation=70,\n",
        "                         horizontalalignment='right')\n",
        "ax3.set(xlabel=None, ylabel=None)\n",
        "plt.show()"
      ]
    },
    {
      "cell_type": "markdown",
      "id": "kNkn-6cDlssK",
      "metadata": {
        "id": "kNkn-6cDlssK"
      },
      "source": [
        "Top 10 important features are Q23_Manager, Q4, Q35_6, Q42_1, Q6_5, Q35_10, Q21_3, Q28_5, Q34_3, Q31_1.\n",
        "The graphs are different."
      ]
    },
    {
      "cell_type": "markdown",
      "id": "goOzqrk3nJUw",
      "metadata": {
        "id": "goOzqrk3nJUw"
      },
      "source": [
        "# Question 5: Testing"
      ]
    },
    {
      "cell_type": "code",
      "execution_count": null,
      "id": "u-nCZ_QnnKhF",
      "metadata": {
        "colab": {
          "base_uri": "https://localhost:8080/"
        },
        "id": "u-nCZ_QnnKhF",
        "outputId": "e84056e8-7ce3-4b4c-8f5a-0037b24b3b49"
      },
      "outputs": [
        {
          "name": "stdout",
          "output_type": "stream",
          "text": [
            "F1 score for training set: 0.1381244124856424\n",
            "F1 score for test set: 0.10818145048985282\n"
          ]
        }
      ],
      "source": [
        "#Using the best-performing model, evaluate the model performance both on the training set and test set\n",
        "#fit the best model\n",
        "best_model = OrdinalLogisticRegression(C=1000, solver='lbfgs')\n",
        "best_model = best_model.fit(X_train, y_train)\n",
        "#predict on training & test set\n",
        "y_train_pred = best_model.predict(X_train)\n",
        "y_test_pred = best_model.predict(X_test)\n",
        "#F1 score\n",
        "f1_train = f1_score(y_train, y_train_pred, average='macro')\n",
        "f1_test = f1_score(y_test, y_test_pred, average='macro')\n",
        "\n",
        "print('F1 score for training set: {}'.format(f1_train))\n",
        "print('F1 score for test set: {}'.format(f1_test))"
      ]
    },
    {
      "cell_type": "markdown",
      "id": "VgPb3ukapi8X",
      "metadata": {
        "id": "VgPb3ukapi8X"
      },
      "source": [
        "The model does not perform well. The model is underfitting because the overall F1 score for both training set and test set is low. This is because the dataset is imbalanced and model complexity is not enough. To improve model performance, I would upsample the minority classes to make the dataset more balanced. During feature selection, I will increase number of features."
      ]
    },
    {
      "cell_type": "code",
      "execution_count": null,
      "id": "0-BMMRi0oIy5",
      "metadata": {
        "colab": {
          "base_uri": "https://localhost:8080/",
          "height": 466
        },
        "id": "0-BMMRi0oIy5",
        "outputId": "c9c60e67-a20c-4094-d1e0-2edb7f0fd876"
      },
      "outputs": [
        {
          "data": {
            "image/png": "[encoded data removed]",
            "text/plain": [
              "<Figure size 640x480 with 1 Axes>"
            ]
          },
          "metadata": {},
          "output_type": "display_data"
        }
      ],
      "source": [
        "#Plot the distribution of true target variable values and their predictions on both the training set and test set\n",
        "plt.hist([y_train_pred,y_train],bins=15,\n",
        "         label=['Predictions','True target values'])\n",
        "plt.xlabel('Target: Salary class')\n",
        "plt.ylabel('Counts')\n",
        "plt.title('Training Set Model Performance')\n",
        "plt.legend()\n",
        "plt.show()"
      ]
    },
    {
      "cell_type": "code",
      "execution_count": null,
      "id": "k9YbtWVirGyA",
      "metadata": {
        "colab": {
          "base_uri": "https://localhost:8080/",
          "height": 466
        },
        "id": "k9YbtWVirGyA",
        "outputId": "1472be3d-0677-41a8-9779-f750c177b7b0"
      },
      "outputs": [
        {
          "data": {
            "image/png": "[encoded data removed]",
            "text/plain": [
              "<Figure size 640x480 with 1 Axes>"
            ]
          },
          "metadata": {},
          "output_type": "display_data"
        }
      ],
      "source": [
        "plt.hist([y_test_pred,y_test],bins=15,\n",
        "         label=['Predictions','True target values'])\n",
        "plt.xlabel('Target: Salary class')\n",
        "plt.ylabel('Counts')\n",
        "plt.title('Test Set Model Performance')\n",
        "plt.legend()\n",
        "plt.show()"
      ]
    },
    {
      "cell_type": "markdown",
      "id": "wuJ0Isqlr85U",
      "metadata": {
        "id": "wuJ0Isqlr85U"
      },
      "source": [
        "The distribution of true target values and their predictions on both training set and test set are similar. This dataset is highly imbalanced with class 0 dominating other classes. Most predictions are also class 0 but the number of prediction on class 0 is much more than the number of true target values. Meanwhile, for minority classes like class 2 and class 6, the number of predictions is much smaller than its true target values. This suggests the classification model is not trained well because it learns to predict class 0 for most of the time and seldom predicts minority classes. It should learn to discrimnate different classes but from the distribution plot, my model does not achieve this goal."
      ]
    }
  ],
  "metadata": {
    "colab": {
      "collapsed_sections": [
        "c1uNYg4xGhta",
        "yCkFKoni0CPH",
        "mCHvO21oMCjj",
        "fC6DORiwL5b_",
        "RWu57xog0qGh",
        "7oBXbSYFL3Cs",
        "rfTNn0Z6LuZK"
      ],
      "provenance": []
    },
    "kernelspec": {
      "display_name": "Python 3 (ipykernel)",
      "language": "python",
      "name": "python3"
    },
    "language_info": {
      "codemirror_mode": {
        "name": "ipython",
        "version": 3
      },
      "file_extension": ".py",
      "mimetype": "text/x-python",
      "name": "python",
      "nbconvert_exporter": "python",
      "pygments_lexer": "ipython3",
      "version": "3.8.10"
    }
  },
  "nbformat": 4,
  "nbformat_minor": 5
}
